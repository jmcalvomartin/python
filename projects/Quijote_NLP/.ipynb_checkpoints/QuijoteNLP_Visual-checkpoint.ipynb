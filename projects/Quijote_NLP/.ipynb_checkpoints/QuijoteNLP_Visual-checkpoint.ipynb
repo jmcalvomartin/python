{
 "cells": [
  {
   "cell_type": "markdown",
   "metadata": {},
   "source": [
    "# Visualizar como una IA predice un nuevo texto del Quijote\n",
    "\n",
    "**Objetivo**\n",
    "En base a un modelo propio de **Deep Learning** creado con los 50 primeros capitulos del Quijote, vamos a mostrar de manera visual como una Red Neuronal puede predecir una palabra siguiente a la otra basada en una cercania matemática.<br>\n",
    "\n",
    "El modelo es capaz de crear un nuevo texto de 50 palabras en función a una frase dada y contextualizada en el libro del Quijote."
   ]
  },
  {
   "cell_type": "code",
   "execution_count": 29,
   "metadata": {},
   "outputs": [],
   "source": [
    "#Cargamos las librerias necesarias\n",
    "from keras.models import load_model\n",
    "import tensorflow as tf\n",
    "from tensorflow.keras.preprocessing.sequence import pad_sequences\n",
    "from tensorflow.keras.preprocessing.text import Tokenizer\n",
    "from tensorflow.keras.optimizers import Adam\n",
    "import numpy as np\n",
    "import re, os"
   ]
  },
  {
   "cell_type": "markdown",
   "metadata": {},
   "source": [
    "## Cargamos el modelo pre-entrenado y los datos (50 capitulos)"
   ]
  },
  {
   "cell_type": "code",
   "execution_count": 30,
   "metadata": {},
   "outputs": [],
   "source": [
    "#Almacenar los datos del libro.\n",
    "def load_QuijoteNLP(file=\"Dataset\\quijote_Lite.txt\", model=\"AppQuijote\\model\\Model_complet_QuijoteNLP69.h5\"):\n",
    "   \n",
    "    tokenizer = Tokenizer()\n",
    "    \n",
    "    data = open(file, encoding=\"utf8\").read()\n",
    "    \n",
    "    #Limpiar de simbolos \n",
    "    data = re.sub('[^a-zA-Z0-9á-ú\\¿\\?\\n\\.]', ' ', data)\n",
    "    corpus = data.lower().split(\"\\n\")\n",
    "    corpus = sorted(list(set(corpus)))\n",
    "    \n",
    "    tokenizer.fit_on_texts(corpus)\n",
    "    total_words = len(tokenizer.word_index) + 1\n",
    "    \n",
    "    adam = Adam(lr=0.001)\n",
    "    model = tf.keras.models.load_model(model)\n",
    "    \n",
    "    model.compile(loss='categorical_crossentropy', optimizer=adam, metrics=['accuracy'])\n",
    "    # summarize model.\n",
    "    \n",
    "    return model.summary(), model, tokenizer\n"
   ]
  },
  {
   "cell_type": "markdown",
   "metadata": {},
   "source": [
    "**Visualizamos la estructura de nuestro modelo**"
   ]
  },
  {
   "cell_type": "code",
   "execution_count": 31,
   "metadata": {},
   "outputs": [
    {
     "name": "stdout",
     "output_type": "stream",
     "text": [
      "Model: \"sequential_1\"\n",
      "_________________________________________________________________\n",
      "Layer (type)                 Output Shape              Param #   \n",
      "=================================================================\n",
      "embedding_1 (Embedding)      (None, 18, 50)            692500    \n",
      "_________________________________________________________________\n",
      "lstm_2 (LSTM)                (None, 18, 100)           60400     \n",
      "_________________________________________________________________\n",
      "lstm_3 (LSTM)                (None, 100)               80400     \n",
      "_________________________________________________________________\n",
      "dense_2 (Dense)              (None, 100)               10100     \n",
      "_________________________________________________________________\n",
      "dense_3 (Dense)              (None, 13850)             1398850   \n",
      "=================================================================\n",
      "Total params: 2,242,250\n",
      "Trainable params: 2,242,250\n",
      "Non-trainable params: 0\n",
      "_________________________________________________________________\n"
     ]
    }
   ],
   "source": [
    "summary, model, tokenizer=load_QuijoteNLP()"
   ]
  },
  {
   "cell_type": "markdown",
   "metadata": {},
   "source": [
    "***Creamos una función para predecir el nuevo texto***\n",
    "* Entrando como parametros:\n",
    "    * Frase introductoria\n",
    "    * Palabras a predecir\n",
    "    * Modelo usado\n",
    "    * Tokenizador"
   ]
  },
  {
   "cell_type": "code",
   "execution_count": 32,
   "metadata": {},
   "outputs": [],
   "source": [
    "def predict_text(seed_text, next_words=50, model=model, tokenizer=tokenizer):\n",
    "    for _ in range(next_words):\n",
    "            token_list = tokenizer.texts_to_sequences([seed_text])[0]\n",
    "            #print(token_list)\n",
    "            token_list = pad_sequences([token_list], 18, padding='pre')\n",
    "\n",
    "            predicted = model.predict_classes(token_list, verbose=0)\n",
    "            #print(predicted)\n",
    "            output_word = \"\"\n",
    "            for word, index in tokenizer.word_index.items():\n",
    "                if index == predicted:\n",
    "                    output_word = word\n",
    "                    break\n",
    "            seed_text += \" \" + output_word\n",
    "    return print(seed_text)"
   ]
  },
  {
   "cell_type": "markdown",
   "metadata": {},
   "source": [
    "#### Creación del texto"
   ]
  },
  {
   "cell_type": "code",
   "execution_count": 33,
   "metadata": {},
   "outputs": [
    {
     "name": "stderr",
     "output_type": "stream",
     "text": [
      "C:\\Users\\Educacem\\Anaconda3\\envs\\MasterIA\\lib\\site-packages\\tensorflow\\python\\keras\\engine\\sequential.py:450: UserWarning: `model.predict_classes()` is deprecated and will be removed after 2021-01-01. Please use instead:* `np.argmax(model.predict(x), axis=-1)`,   if your model does multi-class classification   (e.g. if it uses a `softmax` last-layer activation).* `(model.predict(x) > 0.5).astype(\"int32\")`,   if your model does binary classification   (e.g. if it uses a `sigmoid` last-layer activation).\n",
      "  warnings.warn('`model.predict_classes()` is deprecated and '\n"
     ]
    },
    {
     "name": "stdout",
     "output_type": "stream",
     "text": [
      "Valiente caballero procurando y lo que no falte nada el tiempo le place dijo a mí estamos es mujer y a efeto lo estaba un hermoso y y de esa edad delante y que le hubiera y allí no han de quedar como un rabel y que vienen a los ojos la\n"
     ]
    }
   ],
   "source": [
    "predict_text(\"Valiente caballero\")"
   ]
  },
  {
   "cell_type": "code",
   "execution_count": 34,
   "metadata": {},
   "outputs": [
    {
     "name": "stdout",
     "output_type": "stream",
     "text": [
      "(13850, 50)\n"
     ]
    }
   ],
   "source": [
    "e = model.layers[0]\n",
    "weights = e.get_weights()[0]\n",
    "print(weights.shape) # shape: (vocab_size, embedding_dim)"
   ]
  },
  {
   "cell_type": "code",
   "execution_count": 35,
   "metadata": {},
   "outputs": [
    {
     "data": {
      "text/plain": [
       "13849"
      ]
     },
     "execution_count": 35,
     "metadata": {},
     "output_type": "execute_result"
    }
   ],
   "source": [
    "#cantidad de palabras unicas\n",
    "len(tokenizer.word_index.keys())"
   ]
  },
  {
   "cell_type": "markdown",
   "metadata": {},
   "source": [
    "# Preparación para la visualización"
   ]
  },
  {
   "cell_type": "markdown",
   "metadata": {},
   "source": [
    "# PCA (2 dimensiones)\n",
    "El análisis de componentes principales (PCA) es una técnica de transformación lineal simple pero popular y útil que se utiliza en numerosas aplicaciones, como predicciones del mercado de valores, análisis de datos de expresión génica y muchas más.\n",
    "El objetivo es reducir las dimensiones de un conjunto de datos d-dimensionales al proyectarlo en un subespacio (k) -dimensional (donde k <d) para aumentar la eficiencia computacional mientras se retiene la mayor parte de la información.\n",
    "* Estandarizar los datos.\n",
    "* Obtenga los vectores propios y los valores propios de la matriz de covarianza o matriz de correlación, o realice la descomposición vectorial singular.\n",
    "* Ordene los valores propios en orden descendente y elija los k vectores propios que corresponden a los k valores propios más grandes donde k es el número de dimensiones del nuevo subespacio de entidad (k≤d) /.\n",
    "* Construya la matriz de proyección W a partir de los k vectores propios seleccionados.\n",
    "* Transforme el conjunto de datos original X a través de W para obtener un subespacio de entidad k-dimensional Y."
   ]
  },
  {
   "cell_type": "code",
   "execution_count": 36,
   "metadata": {},
   "outputs": [],
   "source": [
    "from sklearn.decomposition import PCA\n",
    "from sklearn.preprocessing import StandardScaler\n",
    "import pandas as pd\n",
    "import matplotlib.pyplot as plt\n",
    "%matplotlib inline \n",
    "import seaborn as sns\n",
    "from IPython.display import display, Math, Latex"
   ]
  },
  {
   "cell_type": "code",
   "execution_count": 37,
   "metadata": {},
   "outputs": [],
   "source": [
    "#Escalamos los datos \n",
    "weights_std=StandardScaler().fit_transform(weights)"
   ]
  },
  {
   "cell_type": "markdown",
   "metadata": {},
   "source": [
    "## Vectores Propios y Valores Propios"
   ]
  },
  {
   "cell_type": "markdown",
   "metadata": {},
   "source": [
    "Los vectores propios y los valores propios de una matriz de covarianza (o correlación) representan el \"núcleo\" de un PCA: los vectores propios (componentes principales) determinan las direcciones del nuevo espacio de características, y los valores propios determinan su magnitud. En otras palabras, los valores propios explican la varianza de los datos a lo largo de los nuevos ejes de características.\n",
    "\n",
    "### Matriz de Covarianza\n",
    "El enfoque clásico para PCA es realizar la descomposición propia en la matriz de covarianza Σ, que es una matriz d × d donde cada elemento representa la covarianza entre dos características. La covarianza entre dos características se calcula de la siguiente manera:"
   ]
  },
  {
   "cell_type": "code",
   "execution_count": 38,
   "metadata": {},
   "outputs": [
    {
     "data": {
      "text/latex": [
       "$\\displaystyle \\sum=\\frac{1}{n-1}((X-\\hat{x})^T(X-\\hat{x}))$"
      ],
      "text/plain": [
       "<IPython.core.display.Math object>"
      ]
     },
     "metadata": {},
     "output_type": "display_data"
    },
    {
     "data": {
      "text/latex": [
       "$\\displaystyle Donde\\ \\hat{x}=\\frac{1}{n}\\sum_{k=1}^nx_i$"
      ],
      "text/plain": [
       "<IPython.core.display.Math object>"
      ]
     },
     "metadata": {},
     "output_type": "display_data"
    },
    {
     "data": {
      "text/latex": [
       "$\\displaystyle M_{cov}=\\begin{equation} \\begin{pmatrix}Var(x) &  Cov(x,y)\\\\Cov(y,x) & Var(y)\\end{pmatrix}\\end{equation}$"
      ],
      "text/plain": [
       "<IPython.core.display.Math object>"
      ]
     },
     "metadata": {},
     "output_type": "display_data"
    }
   ],
   "source": [
    "#Latex\n",
    "display(Math(r\"\\sum=\\frac{1}{n-1}((X-\\hat{x})^T(X-\\hat{x}))\"))\n",
    "display(Math(r\"Donde\\ \\hat{x}=\\frac{1}{n}\\sum_{k=1}^nx_i\"))\n",
    "display(Math(r\"M_{cov}=\\begin{equation} \\begin{pmatrix}Var(x) &  Cov(x,y)\\\\Cov(y,x) & Var(y)\\end{pmatrix}\\end{equation}\"))"
   ]
  },
  {
   "cell_type": "code",
   "execution_count": 39,
   "metadata": {},
   "outputs": [
    {
     "name": "stdout",
     "output_type": "stream",
     "text": [
      "Matriz de Covarianza \n",
      "[[ 1.0000722   0.13187133  0.18716617 ...  0.02948952 -0.1643797\n",
      "   0.11100254]\n",
      " [ 0.13187133  1.0000722   0.16374545 ...  0.00112648 -0.04996751\n",
      "   0.38746083]\n",
      " [ 0.18716617  0.16374545  1.0000722  ... -0.04108383 -0.08837213\n",
      "   0.06481973]\n",
      " ...\n",
      " [ 0.02948952  0.00112648 -0.04108383 ...  1.0000722  -0.08115978\n",
      "   0.065148  ]\n",
      " [-0.1643797  -0.04996751 -0.08837213 ... -0.08115978  1.0000722\n",
      "  -0.06625024]\n",
      " [ 0.11100254  0.38746083  0.06481973 ...  0.065148   -0.06625024\n",
      "   1.0000722 ]]\n",
      "Con dimensión: (50, 50)\n"
     ]
    }
   ],
   "source": [
    "mean_vec = np.mean(weights_std, axis=0)\n",
    "cov_mat = (weights_std - mean_vec).T.dot((weights_std - mean_vec)) / (weights_std.shape[0]-1)\n",
    "print('Matriz de Covarianza \\n%s' %cov_mat)\n",
    "print(\"Con dimensión: \" + str(cov_mat.shape))"
   ]
  },
  {
   "cell_type": "code",
   "execution_count": 40,
   "metadata": {},
   "outputs": [
    {
     "name": "stdout",
     "output_type": "stream",
     "text": [
      "NumPy Matriz de covarianza: \n",
      "[[ 1.00007221  0.13187132  0.18716616 ...  0.02948953 -0.1643797\n",
      "   0.11100256]\n",
      " [ 0.13187132  1.00007221  0.16374543 ...  0.00112648 -0.0499675\n",
      "   0.38746086]\n",
      " [ 0.18716616  0.16374543  1.00007221 ... -0.04108382 -0.08837213\n",
      "   0.06481973]\n",
      " ...\n",
      " [ 0.02948953  0.00112648 -0.04108382 ...  1.00007221 -0.08115978\n",
      "   0.06514799]\n",
      " [-0.1643797  -0.0499675  -0.08837213 ... -0.08115978  1.00007221\n",
      "  -0.06625025]\n",
      " [ 0.11100256  0.38746086  0.06481973 ...  0.06514799 -0.06625025\n",
      "   1.00007221]]\n"
     ]
    }
   ],
   "source": [
    "#Podemos crearla simplemente usando la libreria numpy\n",
    "print('NumPy Matriz de covarianza: \\n%s' %np.cov(weights_std.T))"
   ]
  },
  {
   "cell_type": "code",
   "execution_count": 41,
   "metadata": {},
   "outputs": [
    {
     "name": "stdout",
     "output_type": "stream",
     "text": [
      "Vectores Propios \n",
      "[[-0.19438821 -0.01999962  0.19061929 ... -0.04545725  0.16717401\n",
      "   0.02751946]\n",
      " [-0.1906926  -0.2622527  -0.05735096 ... -0.14415315  0.01368786\n",
      "  -0.17186695]\n",
      " [-0.16014397 -0.08913724  0.2856333  ...  0.06113843  0.08622642\n",
      "   0.02670245]\n",
      " ...\n",
      " [-0.13564895  0.06524353 -0.07495434 ... -0.04347507  0.34106553\n",
      "   0.060968  ]\n",
      " [ 0.183891    0.04827864 -0.109056   ...  0.10448841  0.03292888\n",
      "  -0.0425726 ]\n",
      " [-0.21125458 -0.17719805 -0.14048587 ... -0.04287327 -0.05824078\n",
      "   0.08214361]]\n",
      "\n",
      "Valores Propios \n",
      "[3.9429147  3.7315855  2.5983028  2.4021192  2.1247253  1.8761407\n",
      " 1.7311645  1.6776831  1.4742591  1.4197663  1.2262303  1.21287\n",
      " 1.1342778  1.0735832  1.0056279  0.96827686 0.9150385  0.88196003\n",
      " 0.87165695 0.34326968 0.8357707  0.38009802 0.788427   0.77002376\n",
      " 0.74869585 0.7472447  0.71789724 0.7122296  0.3946434  0.40220258\n",
      " 0.68715674 0.6692021  0.4232593  0.43126842 0.43851328 0.4539553\n",
      " 0.64160043 0.6290699  0.61779535 0.48121884 0.484327   0.49614182\n",
      " 0.50896347 0.518208   0.59909886 0.585815   0.5722475  0.5426429\n",
      " 0.56095374 0.553487  ]\n"
     ]
    }
   ],
   "source": [
    "#Vectores y Valores Propios\n",
    "cov_matriz=np.cov(weights_std.T)\n",
    "\n",
    "eig_vals, eig_vecs = np.linalg.eig(cov_mat)\n",
    "\n",
    "print('Vectores Propios \\n%s' %eig_vecs)\n",
    "print('\\nValores Propios \\n%s' %eig_vals)"
   ]
  },
  {
   "cell_type": "markdown",
   "metadata": {},
   "source": [
    "Para decidir qué vectores propios se pueden eliminar sin perder demasiada información para la construcción del subespacio de dimensiones más bajas, debemos inspeccionar los valores propios correspondientes: los vectores propios con los valores propios más bajos tienen la menor información sobre la distribución de los datos "
   ]
  },
  {
   "cell_type": "code",
   "execution_count": 42,
   "metadata": {},
   "outputs": [
    {
     "name": "stdout",
     "output_type": "stream",
     "text": [
      "Valores propios en orden descendente:\n",
      "3.9429147\n",
      "3.7315855\n",
      "2.5983028\n",
      "2.4021192\n",
      "2.1247253\n",
      "1.8761407\n",
      "1.7311645\n",
      "1.6776831\n",
      "1.4742591\n",
      "1.4197663\n",
      "1.2262303\n",
      "1.21287\n",
      "1.1342778\n",
      "1.0735832\n",
      "1.0056279\n",
      "0.96827686\n",
      "0.9150385\n",
      "0.88196003\n",
      "0.87165695\n",
      "0.8357707\n",
      "0.788427\n",
      "0.77002376\n",
      "0.74869585\n",
      "0.7472447\n",
      "0.71789724\n",
      "0.7122296\n",
      "0.68715674\n",
      "0.6692021\n",
      "0.64160043\n",
      "0.6290699\n",
      "0.61779535\n",
      "0.59909886\n",
      "0.585815\n",
      "0.5722475\n",
      "0.56095374\n",
      "0.553487\n",
      "0.5426429\n",
      "0.518208\n",
      "0.50896347\n",
      "0.49614182\n",
      "0.484327\n",
      "0.48121884\n",
      "0.4539553\n",
      "0.43851328\n",
      "0.43126842\n",
      "0.4232593\n",
      "0.40220258\n",
      "0.3946434\n",
      "0.38009802\n",
      "0.34326968\n"
     ]
    }
   ],
   "source": [
    "# Hacemos una lista (eigenvalue, eigenvector)\n",
    "eig_pairs = [(np.abs(eig_vals[i]), eig_vecs[:,i]) for i in range(len(eig_vals))]\n",
    "\n",
    "# Sort the (eigenvalue, eigenvector) tuples from high to low\n",
    "eig_pairs.sort()\n",
    "eig_pairs.reverse()\n",
    "\n",
    "# Visually confirm that the list is correctly sorted by decreasing eigenvalues\n",
    "print('Valores propios en orden descendente:')\n",
    "for i in eig_pairs:\n",
    "    print(i[0])"
   ]
  },
  {
   "cell_type": "markdown",
   "metadata": {},
   "source": [
    "Reduciendo el espacio de características de 50 dimensiones a un subespacio de características de 2 dimensiones, eligiendo los vectores propios \"superiores 2\" con los valores propios más altos para construir nuestra matriz de vectores propios d × k-dimensional W."
   ]
  },
  {
   "cell_type": "code",
   "execution_count": 43,
   "metadata": {},
   "outputs": [
    {
     "name": "stdout",
     "output_type": "stream",
     "text": [
      "Matrix W:\n",
      " [[-0.19438821 -0.01999962]\n",
      " [-0.1906926  -0.2622527 ]\n",
      " [-0.16014397 -0.08913724]\n",
      " [-0.19578981 -0.07438067]\n",
      " [-0.03655015 -0.07553649]\n",
      " [ 0.20293953  0.03224558]\n",
      " [ 0.14847736 -0.11110018]\n",
      " [-0.13657688 -0.19034381]\n",
      " [ 0.26743054  0.01073013]\n",
      " [-0.11251589  0.18854329]\n",
      " [ 0.09464211  0.19700758]\n",
      " [ 0.07749058  0.18279915]\n",
      " [ 0.04299665  0.19861321]\n",
      " [ 0.04179302  0.2698277 ]\n",
      " [ 0.07445067 -0.17529562]\n",
      " [ 0.06654636  0.2740949 ]\n",
      " [-0.19099982  0.00093859]\n",
      " [ 0.1247165   0.14574955]\n",
      " [-0.02762636 -0.08915473]\n",
      " [-0.21666692  0.122362  ]\n",
      " [-0.16860525  0.02508859]\n",
      " [-0.11466511  0.01475089]\n",
      " [ 0.17919259  0.008432  ]\n",
      " [ 0.2087462  -0.07117386]\n",
      " [-0.17902808  0.12171362]\n",
      " [ 0.11489351  0.0385096 ]\n",
      " [ 0.08162282  0.24836117]\n",
      " [-0.15610266 -0.00074262]\n",
      " [ 0.09516852 -0.15975174]\n",
      " [ 0.10303111 -0.19410647]\n",
      " [-0.03989057 -0.04238787]\n",
      " [-0.2623765   0.01622066]\n",
      " [-0.00146164 -0.1649762 ]\n",
      " [ 0.05904046  0.03588061]\n",
      " [ 0.09140228 -0.13719687]\n",
      " [ 0.12758952 -0.19980757]\n",
      " [-0.13449554  0.18694325]\n",
      " [ 0.22990862 -0.0906922 ]\n",
      " [-0.016657    0.13747028]\n",
      " [ 0.08960276 -0.17114584]\n",
      " [-0.05470721 -0.18791413]\n",
      " [-0.09136869  0.0726481 ]\n",
      " [-0.13509385  0.03380625]\n",
      " [ 0.03731278 -0.18509291]\n",
      " [-0.03660497 -0.17935325]\n",
      " [ 0.19467293 -0.0315927 ]\n",
      " [ 0.09006493 -0.12992327]\n",
      " [-0.13564895  0.06524353]\n",
      " [ 0.183891    0.04827864]\n",
      " [-0.21125458 -0.17719805]]\n"
     ]
    }
   ],
   "source": [
    "matrix_w = np.hstack((eig_pairs[0][1].reshape(50,1), \n",
    "                      eig_pairs[1][1].reshape(50,1)))\n",
    "\n",
    "print('Matrix W:\\n', matrix_w)"
   ]
  },
  {
   "cell_type": "markdown",
   "metadata": {},
   "source": [
    "En este último paso, utilizaremos la matriz de proyección W  total_words x 2-dimensional para transformar nuestras muestras en el nuevo subespacio a través de la ecuación\n",
    "***Y = X × W***, donde Y es una matriz de total_words × 2 de nuestras muestras transformadas."
   ]
  },
  {
   "cell_type": "code",
   "execution_count": 44,
   "metadata": {},
   "outputs": [
    {
     "data": {
      "text/plain": [
       "array([[-2.567114  ,  2.4206908 ],\n",
       "       [-2.2586448 ,  1.7202795 ],\n",
       "       [-3.8311822 ,  2.6168818 ],\n",
       "       ...,\n",
       "       [-1.7185702 ,  1.2171353 ],\n",
       "       [ 0.33693588, -1.6711282 ],\n",
       "       [ 1.6069697 , -0.00834254]], dtype=float32)"
      ]
     },
     "execution_count": 44,
     "metadata": {},
     "output_type": "execute_result"
    }
   ],
   "source": [
    "Y = weights_std.dot(matrix_w)\n",
    "Y"
   ]
  },
  {
   "cell_type": "code",
   "execution_count": 45,
   "metadata": {},
   "outputs": [
    {
     "data": {
      "text/plain": [
       "Text(0.5, 1.0, 'PCA Manual')"
      ]
     },
     "execution_count": 45,
     "metadata": {},
     "output_type": "execute_result"
    },
    {
     "data": {
      "image/png": "[encoded data removed]",
      "text/plain": [
       "<Figure size 432x288 with 1 Axes>"
      ]
     },
     "metadata": {
      "needs_background": "light"
     },
     "output_type": "display_data"
    }
   ],
   "source": [
    "plt.scatter(Y[:,0],Y[:,1], c=\"blue\", alpha=0.5, marker=\"o\")\n",
    "plt.title(\"PCA Manual\")"
   ]
  },
  {
   "cell_type": "markdown",
   "metadata": {},
   "source": [
    "## PCA con scikit-learn (2 dimensiones)"
   ]
  },
  {
   "cell_type": "code",
   "execution_count": 46,
   "metadata": {},
   "outputs": [
    {
     "data": {
      "text/html": [
       "<div>\n",
       "<style scoped>\n",
       "    .dataframe tbody tr th:only-of-type {\n",
       "        vertical-align: middle;\n",
       "    }\n",
       "\n",
       "    .dataframe tbody tr th {\n",
       "        vertical-align: top;\n",
       "    }\n",
       "\n",
       "    .dataframe thead th {\n",
       "        text-align: right;\n",
       "    }\n",
       "</style>\n",
       "<table border=\"1\" class=\"dataframe\">\n",
       "  <thead>\n",
       "    <tr style=\"text-align: right;\">\n",
       "      <th></th>\n",
       "      <th>words</th>\n",
       "      <th>PCA_1</th>\n",
       "      <th>PCA_2</th>\n",
       "    </tr>\n",
       "  </thead>\n",
       "  <tbody>\n",
       "    <tr>\n",
       "      <th>0</th>\n",
       "      <td>que</td>\n",
       "      <td>2.634024</td>\n",
       "      <td>1.492991</td>\n",
       "    </tr>\n",
       "    <tr>\n",
       "      <th>1</th>\n",
       "      <td>de</td>\n",
       "      <td>2.129200</td>\n",
       "      <td>0.892584</td>\n",
       "    </tr>\n",
       "    <tr>\n",
       "      <th>2</th>\n",
       "      <td>y</td>\n",
       "      <td>3.540762</td>\n",
       "      <td>1.245992</td>\n",
       "    </tr>\n",
       "    <tr>\n",
       "      <th>3</th>\n",
       "      <td>la</td>\n",
       "      <td>1.106287</td>\n",
       "      <td>1.729544</td>\n",
       "    </tr>\n",
       "    <tr>\n",
       "      <th>4</th>\n",
       "      <td>a</td>\n",
       "      <td>1.748344</td>\n",
       "      <td>5.360229</td>\n",
       "    </tr>\n",
       "  </tbody>\n",
       "</table>\n",
       "</div>"
      ],
      "text/plain": [
       "  words     PCA_1     PCA_2\n",
       "0   que  2.634024  1.492991\n",
       "1    de  2.129200  0.892584\n",
       "2     y  3.540762  1.245992\n",
       "3    la  1.106287  1.729544\n",
       "4     a  1.748344  5.360229"
      ]
     },
     "execution_count": 46,
     "metadata": {},
     "output_type": "execute_result"
    }
   ],
   "source": [
    "pca = PCA(n_components=2)\n",
    "pca_result = pca.fit_transform(weights)\n",
    "principal_PCA = pd.DataFrame(data = pca_result\n",
    "             , columns = ['PCA_1', 'PCA_2'])\n",
    "\n",
    "#Unimos con las palabras\n",
    "\n",
    "#Convertimos el diccionario en una lista, obteniendo solo las palabras\n",
    "words_list = [(k) for k in tokenizer.word_index.keys()]\n",
    "\n",
    "wordsDF = pd.DataFrame(data=words_list, columns =[\"words\"])\n",
    "wordsDF.head()\n",
    "PCA_DF=pd.concat([wordsDF,principal_PCA],axis=1)\n",
    "PCA_DF.head()"
   ]
  },
  {
   "cell_type": "markdown",
   "metadata": {},
   "source": [
    "### Visualización en 2 dimensiones"
   ]
  },
  {
   "cell_type": "code",
   "execution_count": 47,
   "metadata": {},
   "outputs": [
    {
     "data": {
      "text/plain": [
       "<AxesSubplot:xlabel='PCA_1', ylabel='PCA_2'>"
      ]
     },
     "execution_count": 47,
     "metadata": {},
     "output_type": "execute_result"
    },
    {
     "data": {
      "image/png": "[encoded data removed]",
      "text/plain": [
       "<Figure size 432x288 with 1 Axes>"
      ]
     },
     "metadata": {
      "needs_background": "light"
     },
     "output_type": "display_data"
    }
   ],
   "source": [
    "sns.scatterplot(x=PCA_DF[\"PCA_1\"],y=PCA_DF[\"PCA_2\"], alpha=0.7)"
   ]
  },
  {
   "cell_type": "code",
   "execution_count": 48,
   "metadata": {},
   "outputs": [
    {
     "data": {
      "text/plain": [
       "array([0.08017118, 0.07471053], dtype=float32)"
      ]
     },
     "execution_count": 48,
     "metadata": {},
     "output_type": "execute_result"
    }
   ],
   "source": [
    "#Información recuperada en cada uno de los PCA\n",
    "pca.explained_variance_ratio_"
   ]
  },
  {
   "cell_type": "markdown",
   "metadata": {},
   "source": [
    "### Cercania a una palabra"
   ]
  },
  {
   "cell_type": "code",
   "execution_count": 49,
   "metadata": {},
   "outputs": [],
   "source": [
    "PCA_DF[PCA_DF[\"words\"]==\"quijote\"]\n",
    "#Recuperamios las coordenadas de la palabra elegida\n",
    "x1=pd.to_numeric(PCA_DF[PCA_DF[\"words\"]==\"quijote\"].iloc[0,1])\n",
    "y1=pd.to_numeric(PCA_DF[PCA_DF[\"words\"]==\"quijote\"].iloc[0,2])"
   ]
  },
  {
   "cell_type": "code",
   "execution_count": 50,
   "metadata": {},
   "outputs": [
    {
     "data": {
      "text/latex": [
       "$\\displaystyle D_e(P_1,P_2)=\\sqrt{(X_2-X_1)^2+(Y_2-Y_1)^2}$"
      ],
      "text/plain": [
       "<IPython.core.display.Math object>"
      ]
     },
     "metadata": {},
     "output_type": "display_data"
    },
    {
     "name": "stderr",
     "output_type": "stream",
     "text": [
      "C:\\Users\\Educacem\\Anaconda3\\envs\\MasterIA\\lib\\site-packages\\pandas\\core\\series.py:726: RuntimeWarning: invalid value encountered in sqrt\n",
      "  result = getattr(ufunc, method)(*inputs, **kwargs)\n"
     ]
    },
    {
     "data": {
      "text/html": [
       "<div>\n",
       "<style scoped>\n",
       "    .dataframe tbody tr th:only-of-type {\n",
       "        vertical-align: middle;\n",
       "    }\n",
       "\n",
       "    .dataframe tbody tr th {\n",
       "        vertical-align: top;\n",
       "    }\n",
       "\n",
       "    .dataframe thead th {\n",
       "        text-align: right;\n",
       "    }\n",
       "</style>\n",
       "<table border=\"1\" class=\"dataframe\">\n",
       "  <thead>\n",
       "    <tr style=\"text-align: right;\">\n",
       "      <th></th>\n",
       "      <th>words</th>\n",
       "      <th>PCA_1</th>\n",
       "      <th>PCA_2</th>\n",
       "      <th>0</th>\n",
       "    </tr>\n",
       "  </thead>\n",
       "  <tbody>\n",
       "    <tr>\n",
       "      <th>0</th>\n",
       "      <td>que</td>\n",
       "      <td>2.634024</td>\n",
       "      <td>1.492991</td>\n",
       "      <td>2.232069</td>\n",
       "    </tr>\n",
       "    <tr>\n",
       "      <th>1</th>\n",
       "      <td>de</td>\n",
       "      <td>2.129200</td>\n",
       "      <td>0.892584</td>\n",
       "      <td>1.968985</td>\n",
       "    </tr>\n",
       "    <tr>\n",
       "      <th>2</th>\n",
       "      <td>y</td>\n",
       "      <td>3.540762</td>\n",
       "      <td>1.245992</td>\n",
       "      <td>2.375263</td>\n",
       "    </tr>\n",
       "    <tr>\n",
       "      <th>3</th>\n",
       "      <td>la</td>\n",
       "      <td>1.106287</td>\n",
       "      <td>1.729544</td>\n",
       "      <td>1.921185</td>\n",
       "    </tr>\n",
       "    <tr>\n",
       "      <th>4</th>\n",
       "      <td>a</td>\n",
       "      <td>1.748344</td>\n",
       "      <td>5.360229</td>\n",
       "      <td>2.822001</td>\n",
       "    </tr>\n",
       "  </tbody>\n",
       "</table>\n",
       "</div>"
      ],
      "text/plain": [
       "  words     PCA_1     PCA_2         0\n",
       "0   que  2.634024  1.492991  2.232069\n",
       "1    de  2.129200  0.892584  1.968985\n",
       "2     y  3.540762  1.245992  2.375263\n",
       "3    la  1.106287  1.729544  1.921185\n",
       "4     a  1.748344  5.360229  2.822001"
      ]
     },
     "execution_count": 50,
     "metadata": {},
     "output_type": "execute_result"
    }
   ],
   "source": [
    "#Calculo de distancia euclidea\n",
    "display(Math(r\"D_e(P_1,P_2)=\\sqrt{(X_2-X_1)^2+(Y_2-Y_1)^2}\"))\n",
    "\n",
    "PCA_DF_DIST=np.sqrt((PCA_DF[\"PCA_1\"]-x1)+(PCA_DF[\"PCA_2\"]-y1))\n",
    "\n",
    "PCA_DF_DIST=pd.concat([PCA_DF,PCA_DF_DIST],axis=1)\n",
    "PCA_DF_DIST.head()"
   ]
  },
  {
   "cell_type": "code",
   "execution_count": 51,
   "metadata": {},
   "outputs": [],
   "source": [
    "#Sacamos las n palabras más cercanas\n",
    "n=10\n",
    "WORD_DIST=PCA_DF_DIST.sort_values(by=[0]).head(n)"
   ]
  },
  {
   "cell_type": "code",
   "execution_count": 56,
   "metadata": {},
   "outputs": [
    {
     "data": {
      "text/html": [
       "<div>\n",
       "<style scoped>\n",
       "    .dataframe tbody tr th:only-of-type {\n",
       "        vertical-align: middle;\n",
       "    }\n",
       "\n",
       "    .dataframe tbody tr th {\n",
       "        vertical-align: top;\n",
       "    }\n",
       "\n",
       "    .dataframe thead th {\n",
       "        text-align: right;\n",
       "    }\n",
       "</style>\n",
       "<table border=\"1\" class=\"dataframe\">\n",
       "  <thead>\n",
       "    <tr style=\"text-align: right;\">\n",
       "      <th></th>\n",
       "      <th>words</th>\n",
       "      <th>PCA_1</th>\n",
       "      <th>PCA_2</th>\n",
       "      <th>0</th>\n",
       "    </tr>\n",
       "  </thead>\n",
       "  <tbody>\n",
       "    <tr>\n",
       "      <th>27</th>\n",
       "      <td>quijote</td>\n",
       "      <td>1.479735</td>\n",
       "      <td>-2.334854</td>\n",
       "      <td>0.0</td>\n",
       "    </tr>\n",
       "  </tbody>\n",
       "</table>\n",
       "</div>"
      ],
      "text/plain": [
       "      words     PCA_1     PCA_2    0\n",
       "27  quijote  1.479735 -2.334854  0.0"
      ]
     },
     "execution_count": 56,
     "metadata": {},
     "output_type": "execute_result"
    }
   ],
   "source": [
    "WORD_DIST[WORD_DIST[\"words\"]==\"quijote\"]"
   ]
  },
  {
   "cell_type": "code",
   "execution_count": 30,
   "metadata": {},
   "outputs": [
    {
     "data": {
      "image/png": "[encoded data removed]",
      "text/plain": [
       "<Figure size 432x288 with 1 Axes>"
      ]
     },
     "metadata": {
      "needs_background": "light"
     },
     "output_type": "display_data"
    }
   ],
   "source": [
    "WORD_DIST.shape\n",
    "g=sns.scatterplot(x=\"PCA_1\",y=\"PCA_2\", alpha=0.7, hue=\"words\", palette=\"deep\", data=WORD_DIST)"
   ]
  },
  {
   "cell_type": "markdown",
   "metadata": {},
   "source": [
    "## PCA (3 dimensiones)"
   ]
  },
  {
   "cell_type": "code",
   "execution_count": 31,
   "metadata": {},
   "outputs": [
    {
     "data": {
      "text/html": [
       "<div>\n",
       "<style scoped>\n",
       "    .dataframe tbody tr th:only-of-type {\n",
       "        vertical-align: middle;\n",
       "    }\n",
       "\n",
       "    .dataframe tbody tr th {\n",
       "        vertical-align: top;\n",
       "    }\n",
       "\n",
       "    .dataframe thead th {\n",
       "        text-align: right;\n",
       "    }\n",
       "</style>\n",
       "<table border=\"1\" class=\"dataframe\">\n",
       "  <thead>\n",
       "    <tr style=\"text-align: right;\">\n",
       "      <th></th>\n",
       "      <th>words</th>\n",
       "      <th>PCA_1</th>\n",
       "      <th>PCA_2</th>\n",
       "      <th>PCA_3</th>\n",
       "    </tr>\n",
       "  </thead>\n",
       "  <tbody>\n",
       "    <tr>\n",
       "      <th>0</th>\n",
       "      <td>que</td>\n",
       "      <td>2.634071</td>\n",
       "      <td>1.493012</td>\n",
       "      <td>-0.989493</td>\n",
       "    </tr>\n",
       "    <tr>\n",
       "      <th>1</th>\n",
       "      <td>de</td>\n",
       "      <td>2.129276</td>\n",
       "      <td>0.892613</td>\n",
       "      <td>-0.425849</td>\n",
       "    </tr>\n",
       "    <tr>\n",
       "      <th>2</th>\n",
       "      <td>y</td>\n",
       "      <td>3.540686</td>\n",
       "      <td>1.246133</td>\n",
       "      <td>-0.638642</td>\n",
       "    </tr>\n",
       "    <tr>\n",
       "      <th>3</th>\n",
       "      <td>la</td>\n",
       "      <td>1.106396</td>\n",
       "      <td>1.729503</td>\n",
       "      <td>-1.402460</td>\n",
       "    </tr>\n",
       "    <tr>\n",
       "      <th>4</th>\n",
       "      <td>a</td>\n",
       "      <td>1.748032</td>\n",
       "      <td>5.360461</td>\n",
       "      <td>0.170399</td>\n",
       "    </tr>\n",
       "  </tbody>\n",
       "</table>\n",
       "</div>"
      ],
      "text/plain": [
       "  words     PCA_1     PCA_2     PCA_3\n",
       "0   que  2.634071  1.493012 -0.989493\n",
       "1    de  2.129276  0.892613 -0.425849\n",
       "2     y  3.540686  1.246133 -0.638642\n",
       "3    la  1.106396  1.729503 -1.402460\n",
       "4     a  1.748032  5.360461  0.170399"
      ]
     },
     "execution_count": 31,
     "metadata": {},
     "output_type": "execute_result"
    }
   ],
   "source": [
    "pca = PCA(n_components=3)\n",
    "pca_result = pca.fit_transform(weights)\n",
    "principal_PCA = pd.DataFrame(data = pca_result\n",
    "             , columns = ['PCA_1', 'PCA_2', 'PCA_3'])\n",
    "#Unimos con las palabras\n",
    "wordsDF = pd.DataFrame(data=words_list, columns =[\"words\"])\n",
    "wordsDF.head()\n",
    "PCA_DF=pd.concat([wordsDF,principal_PCA],axis=1)\n",
    "PCA_DF.head()"
   ]
  },
  {
   "cell_type": "code",
   "execution_count": 32,
   "metadata": {},
   "outputs": [
    {
     "data": {
      "text/plain": [
       "array([0.08017115, 0.07471049, 0.05255456], dtype=float32)"
      ]
     },
     "execution_count": 32,
     "metadata": {},
     "output_type": "execute_result"
    }
   ],
   "source": [
    "#Información recuperada en cada uno de los PCA\n",
    "pca.explained_variance_ratio_"
   ]
  },
  {
   "cell_type": "code",
   "execution_count": 34,
   "metadata": {},
   "outputs": [
    {
     "data": {
      "application/javascript": [
       "/* Put everything inside the global mpl namespace */\n",
       "window.mpl = {};\n",
       "\n",
       "\n",
       "mpl.get_websocket_type = function() {\n",
       "    if (typeof(WebSocket) !== 'undefined') {\n",
       "        return WebSocket;\n",
       "    } else if (typeof(MozWebSocket) !== 'undefined') {\n",
       "        return MozWebSocket;\n",
       "    } else {\n",
       "        alert('Your browser does not have WebSocket support. ' +\n",
       "              'Please try Chrome, Safari or Firefox ≥ 6. ' +\n",
       "              'Firefox 4 and 5 are also supported but you ' +\n",
       "              'have to enable WebSockets in about:config.');\n",
       "    };\n",
       "}\n",
       "\n",
       "mpl.figure = function(figure_id, websocket, ondownload, parent_element) {\n",
       "    this.id = figure_id;\n",
       "\n",
       "    this.ws = websocket;\n",
       "\n",
       "    this.supports_binary = (this.ws.binaryType != undefined);\n",
       "\n",
       "    if (!this.supports_binary) {\n",
       "        var warnings = document.getElementById(\"mpl-warnings\");\n",
       "        if (warnings) {\n",
       "            warnings.style.display = 'block';\n",
       "            warnings.textContent = (\n",
       "                \"This browser does not support binary websocket messages. \" +\n",
       "                    \"Performance may be slow.\");\n",
       "        }\n",
       "    }\n",
       "\n",
       "    this.imageObj = new Image();\n",
       "\n",
       "    this.context = undefined;\n",
       "    this.message = undefined;\n",
       "    this.canvas = undefined;\n",
       "    this.rubberband_canvas = undefined;\n",
       "    this.rubberband_context = undefined;\n",
       "    this.format_dropdown = undefined;\n",
       "\n",
       "    this.image_mode = 'full';\n",
       "\n",
       "    this.root = $('<div/>');\n",
       "    this._root_extra_style(this.root)\n",
       "    this.root.attr('style', 'display: inline-block');\n",
       "\n",
       "    $(parent_element).append(this.root);\n",
       "\n",
       "    this._init_header(this);\n",
       "    this._init_canvas(this);\n",
       "    this._init_toolbar(this);\n",
       "\n",
       "    var fig = this;\n",
       "\n",
       "    this.waiting = false;\n",
       "\n",
       "    this.ws.onopen =  function () {\n",
       "            fig.send_message(\"supports_binary\", {value: fig.supports_binary});\n",
       "            fig.send_message(\"send_image_mode\", {});\n",
       "            if (mpl.ratio != 1) {\n",
       "                fig.send_message(\"set_dpi_ratio\", {'dpi_ratio': mpl.ratio});\n",
       "            }\n",
       "            fig.send_message(\"refresh\", {});\n",
       "        }\n",
       "\n",
       "    this.imageObj.onload = function() {\n",
       "            if (fig.image_mode == 'full') {\n",
       "                // Full images could contain transparency (where diff images\n",
       "                // almost always do), so we need to clear the canvas so that\n",
       "                // there is no ghosting.\n",
       "                fig.context.clearRect(0, 0, fig.canvas.width, fig.canvas.height);\n",
       "            }\n",
       "            fig.context.drawImage(fig.imageObj, 0, 0);\n",
       "        };\n",
       "\n",
       "    this.imageObj.onunload = function() {\n",
       "        fig.ws.close();\n",
       "    }\n",
       "\n",
       "    this.ws.onmessage = this._make_on_message_function(this);\n",
       "\n",
       "    this.ondownload = ondownload;\n",
       "}\n",
       "\n",
       "mpl.figure.prototype._init_header = function() {\n",
       "    var titlebar = $(\n",
       "        '<div class=\"ui-dialog-titlebar ui-widget-header ui-corner-all ' +\n",
       "        'ui-helper-clearfix\"/>');\n",
       "    var titletext = $(\n",
       "        '<div class=\"ui-dialog-title\" style=\"width: 100%; ' +\n",
       "        'text-align: center; padding: 3px;\"/>');\n",
       "    titlebar.append(titletext)\n",
       "    this.root.append(titlebar);\n",
       "    this.header = titletext[0];\n",
       "}\n",
       "\n",
       "\n",
       "\n",
       "mpl.figure.prototype._canvas_extra_style = function(canvas_div) {\n",
       "\n",
       "}\n",
       "\n",
       "\n",
       "mpl.figure.prototype._root_extra_style = function(canvas_div) {\n",
       "\n",
       "}\n",
       "\n",
       "mpl.figure.prototype._init_canvas = function() {\n",
       "    var fig = this;\n",
       "\n",
       "    var canvas_div = $('<div/>');\n",
       "\n",
       "    canvas_div.attr('style', 'position: relative; clear: both; outline: 0');\n",
       "\n",
       "    function canvas_keyboard_event(event) {\n",
       "        return fig.key_event(event, event['data']);\n",
       "    }\n",
       "\n",
       "    canvas_div.keydown('key_press', canvas_keyboard_event);\n",
       "    canvas_div.keyup('key_release', canvas_keyboard_event);\n",
       "    this.canvas_div = canvas_div\n",
       "    this._canvas_extra_style(canvas_div)\n",
       "    this.root.append(canvas_div);\n",
       "\n",
       "    var canvas = $('<canvas/>');\n",
       "    canvas.addClass('mpl-canvas');\n",
       "    canvas.attr('style', \"left: 0; top: 0; z-index: 0; outline: 0\")\n",
       "\n",
       "    this.canvas = canvas[0];\n",
       "    this.context = canvas[0].getContext(\"2d\");\n",
       "\n",
       "    var backingStore = this.context.backingStorePixelRatio ||\n",
       "\tthis.context.webkitBackingStorePixelRatio ||\n",
       "\tthis.context.mozBackingStorePixelRatio ||\n",
       "\tthis.context.msBackingStorePixelRatio ||\n",
       "\tthis.context.oBackingStorePixelRatio ||\n",
       "\tthis.context.backingStorePixelRatio || 1;\n",
       "\n",
       "    mpl.ratio = (window.devicePixelRatio || 1) / backingStore;\n",
       "\n",
       "    var rubberband = $('<canvas/>');\n",
       "    rubberband.attr('style', \"position: absolute; left: 0; top: 0; z-index: 1;\")\n",
       "\n",
       "    var pass_mouse_events = true;\n",
       "\n",
       "    canvas_div.resizable({\n",
       "        start: function(event, ui) {\n",
       "            pass_mouse_events = false;\n",
       "        },\n",
       "        resize: function(event, ui) {\n",
       "            fig.request_resize(ui.size.width, ui.size.height);\n",
       "        },\n",
       "        stop: function(event, ui) {\n",
       "            pass_mouse_events = true;\n",
       "            fig.request_resize(ui.size.width, ui.size.height);\n",
       "        },\n",
       "    });\n",
       "\n",
       "    function mouse_event_fn(event) {\n",
       "        if (pass_mouse_events)\n",
       "            return fig.mouse_event(event, event['data']);\n",
       "    }\n",
       "\n",
       "    rubberband.mousedown('button_press', mouse_event_fn);\n",
       "    rubberband.mouseup('button_release', mouse_event_fn);\n",
       "    // Throttle sequential mouse events to 1 every 20ms.\n",
       "    rubberband.mousemove('motion_notify', mouse_event_fn);\n",
       "\n",
       "    rubberband.mouseenter('figure_enter', mouse_event_fn);\n",
       "    rubberband.mouseleave('figure_leave', mouse_event_fn);\n",
       "\n",
       "    canvas_div.on(\"wheel\", function (event) {\n",
       "        event = event.originalEvent;\n",
       "        event['data'] = 'scroll'\n",
       "        if (event.deltaY < 0) {\n",
       "            event.step = 1;\n",
       "        } else {\n",
       "            event.step = -1;\n",
       "        }\n",
       "        mouse_event_fn(event);\n",
       "    });\n",
       "\n",
       "    canvas_div.append(canvas);\n",
       "    canvas_div.append(rubberband);\n",
       "\n",
       "    this.rubberband = rubberband;\n",
       "    this.rubberband_canvas = rubberband[0];\n",
       "    this.rubberband_context = rubberband[0].getContext(\"2d\");\n",
       "    this.rubberband_context.strokeStyle = \"#000000\";\n",
       "\n",
       "    this._resize_canvas = function(width, height) {\n",
       "        // Keep the size of the canvas, canvas container, and rubber band\n",
       "        // canvas in synch.\n",
       "        canvas_div.css('width', width)\n",
       "        canvas_div.css('height', height)\n",
       "\n",
       "        canvas.attr('width', width * mpl.ratio);\n",
       "        canvas.attr('height', height * mpl.ratio);\n",
       "        canvas.attr('style', 'width: ' + width + 'px; height: ' + height + 'px;');\n",
       "\n",
       "        rubberband.attr('width', width);\n",
       "        rubberband.attr('height', height);\n",
       "    }\n",
       "\n",
       "    // Set the figure to an initial 600x600px, this will subsequently be updated\n",
       "    // upon first draw.\n",
       "    this._resize_canvas(600, 600);\n",
       "\n",
       "    // Disable right mouse context menu.\n",
       "    $(this.rubberband_canvas).bind(\"contextmenu\",function(e){\n",
       "        return false;\n",
       "    });\n",
       "\n",
       "    function set_focus () {\n",
       "        canvas.focus();\n",
       "        canvas_div.focus();\n",
       "    }\n",
       "\n",
       "    window.setTimeout(set_focus, 100);\n",
       "}\n",
       "\n",
       "mpl.figure.prototype._init_toolbar = function() {\n",
       "    var fig = this;\n",
       "\n",
       "    var nav_element = $('<div/>');\n",
       "    nav_element.attr('style', 'width: 100%');\n",
       "    this.root.append(nav_element);\n",
       "\n",
       "    // Define a callback function for later on.\n",
       "    function toolbar_event(event) {\n",
       "        return fig.toolbar_button_onclick(event['data']);\n",
       "    }\n",
       "    function toolbar_mouse_event(event) {\n",
       "        return fig.toolbar_button_onmouseover(event['data']);\n",
       "    }\n",
       "\n",
       "    for(var toolbar_ind in mpl.toolbar_items) {\n",
       "        var name = mpl.toolbar_items[toolbar_ind][0];\n",
       "        var tooltip = mpl.toolbar_items[toolbar_ind][1];\n",
       "        var image = mpl.toolbar_items[toolbar_ind][2];\n",
       "        var method_name = mpl.toolbar_items[toolbar_ind][3];\n",
       "\n",
       "        if (!name) {\n",
       "            // put a spacer in here.\n",
       "            continue;\n",
       "        }\n",
       "        var button = $('<button/>');\n",
       "        button.addClass('ui-button ui-widget ui-state-default ui-corner-all ' +\n",
       "                        'ui-button-icon-only');\n",
       "        button.attr('role', 'button');\n",
       "        button.attr('aria-disabled', 'false');\n",
       "        button.click(method_name, toolbar_event);\n",
       "        button.mouseover(tooltip, toolbar_mouse_event);\n",
       "\n",
       "        var icon_img = $('<span/>');\n",
       "        icon_img.addClass('ui-button-icon-primary ui-icon');\n",
       "        icon_img.addClass(image);\n",
       "        icon_img.addClass('ui-corner-all');\n",
       "\n",
       "        var tooltip_span = $('<span/>');\n",
       "        tooltip_span.addClass('ui-button-text');\n",
       "        tooltip_span.html(tooltip);\n",
       "\n",
       "        button.append(icon_img);\n",
       "        button.append(tooltip_span);\n",
       "\n",
       "        nav_element.append(button);\n",
       "    }\n",
       "\n",
       "    var fmt_picker_span = $('<span/>');\n",
       "\n",
       "    var fmt_picker = $('<select/>');\n",
       "    fmt_picker.addClass('mpl-toolbar-option ui-widget ui-widget-content');\n",
       "    fmt_picker_span.append(fmt_picker);\n",
       "    nav_element.append(fmt_picker_span);\n",
       "    this.format_dropdown = fmt_picker[0];\n",
       "\n",
       "    for (var ind in mpl.extensions) {\n",
       "        var fmt = mpl.extensions[ind];\n",
       "        var option = $(\n",
       "            '<option/>', {selected: fmt === mpl.default_extension}).html(fmt);\n",
       "        fmt_picker.append(option);\n",
       "    }\n",
       "\n",
       "    // Add hover states to the ui-buttons\n",
       "    $( \".ui-button\" ).hover(\n",
       "        function() { $(this).addClass(\"ui-state-hover\");},\n",
       "        function() { $(this).removeClass(\"ui-state-hover\");}\n",
       "    );\n",
       "\n",
       "    var status_bar = $('<span class=\"mpl-message\"/>');\n",
       "    nav_element.append(status_bar);\n",
       "    this.message = status_bar[0];\n",
       "}\n",
       "\n",
       "mpl.figure.prototype.request_resize = function(x_pixels, y_pixels) {\n",
       "    // Request matplotlib to resize the figure. Matplotlib will then trigger a resize in the client,\n",
       "    // which will in turn request a refresh of the image.\n",
       "    this.send_message('resize', {'width': x_pixels, 'height': y_pixels});\n",
       "}\n",
       "\n",
       "mpl.figure.prototype.send_message = function(type, properties) {\n",
       "    properties['type'] = type;\n",
       "    properties['figure_id'] = this.id;\n",
       "    this.ws.send(JSON.stringify(properties));\n",
       "}\n",
       "\n",
       "mpl.figure.prototype.send_draw_message = function() {\n",
       "    if (!this.waiting) {\n",
       "        this.waiting = true;\n",
       "        this.ws.send(JSON.stringify({type: \"draw\", figure_id: this.id}));\n",
       "    }\n",
       "}\n",
       "\n",
       "\n",
       "mpl.figure.prototype.handle_save = function(fig, msg) {\n",
       "    var format_dropdown = fig.format_dropdown;\n",
       "    var format = format_dropdown.options[format_dropdown.selectedIndex].value;\n",
       "    fig.ondownload(fig, format);\n",
       "}\n",
       "\n",
       "\n",
       "mpl.figure.prototype.handle_resize = function(fig, msg) {\n",
       "    var size = msg['size'];\n",
       "    if (size[0] != fig.canvas.width || size[1] != fig.canvas.height) {\n",
       "        fig._resize_canvas(size[0], size[1]);\n",
       "        fig.send_message(\"refresh\", {});\n",
       "    };\n",
       "}\n",
       "\n",
       "mpl.figure.prototype.handle_rubberband = function(fig, msg) {\n",
       "    var x0 = msg['x0'] / mpl.ratio;\n",
       "    var y0 = (fig.canvas.height - msg['y0']) / mpl.ratio;\n",
       "    var x1 = msg['x1'] / mpl.ratio;\n",
       "    var y1 = (fig.canvas.height - msg['y1']) / mpl.ratio;\n",
       "    x0 = Math.floor(x0) + 0.5;\n",
       "    y0 = Math.floor(y0) + 0.5;\n",
       "    x1 = Math.floor(x1) + 0.5;\n",
       "    y1 = Math.floor(y1) + 0.5;\n",
       "    var min_x = Math.min(x0, x1);\n",
       "    var min_y = Math.min(y0, y1);\n",
       "    var width = Math.abs(x1 - x0);\n",
       "    var height = Math.abs(y1 - y0);\n",
       "\n",
       "    fig.rubberband_context.clearRect(\n",
       "        0, 0, fig.canvas.width / mpl.ratio, fig.canvas.height / mpl.ratio);\n",
       "\n",
       "    fig.rubberband_context.strokeRect(min_x, min_y, width, height);\n",
       "}\n",
       "\n",
       "mpl.figure.prototype.handle_figure_label = function(fig, msg) {\n",
       "    // Updates the figure title.\n",
       "    fig.header.textContent = msg['label'];\n",
       "}\n",
       "\n",
       "mpl.figure.prototype.handle_cursor = function(fig, msg) {\n",
       "    var cursor = msg['cursor'];\n",
       "    switch(cursor)\n",
       "    {\n",
       "    case 0:\n",
       "        cursor = 'pointer';\n",
       "        break;\n",
       "    case 1:\n",
       "        cursor = 'default';\n",
       "        break;\n",
       "    case 2:\n",
       "        cursor = 'crosshair';\n",
       "        break;\n",
       "    case 3:\n",
       "        cursor = 'move';\n",
       "        break;\n",
       "    }\n",
       "    fig.rubberband_canvas.style.cursor = cursor;\n",
       "}\n",
       "\n",
       "mpl.figure.prototype.handle_message = function(fig, msg) {\n",
       "    fig.message.textContent = msg['message'];\n",
       "}\n",
       "\n",
       "mpl.figure.prototype.handle_draw = function(fig, msg) {\n",
       "    // Request the server to send over a new figure.\n",
       "    fig.send_draw_message();\n",
       "}\n",
       "\n",
       "mpl.figure.prototype.handle_image_mode = function(fig, msg) {\n",
       "    fig.image_mode = msg['mode'];\n",
       "}\n",
       "\n",
       "mpl.figure.prototype.updated_canvas_event = function() {\n",
       "    // Called whenever the canvas gets updated.\n",
       "    this.send_message(\"ack\", {});\n",
       "}\n",
       "\n",
       "// A function to construct a web socket function for onmessage handling.\n",
       "// Called in the figure constructor.\n",
       "mpl.figure.prototype._make_on_message_function = function(fig) {\n",
       "    return function socket_on_message(evt) {\n",
       "        if (evt.data instanceof Blob) {\n",
       "            /* FIXME: We get \"Resource interpreted as Image but\n",
       "             * transferred with MIME type text/plain:\" errors on\n",
       "             * Chrome.  But how to set the MIME type?  It doesn't seem\n",
       "             * to be part of the websocket stream */\n",
       "            evt.data.type = \"image/png\";\n",
       "\n",
       "            /* Free the memory for the previous frames */\n",
       "            if (fig.imageObj.src) {\n",
       "                (window.URL || window.webkitURL).revokeObjectURL(\n",
       "                    fig.imageObj.src);\n",
       "            }\n",
       "\n",
       "            fig.imageObj.src = (window.URL || window.webkitURL).createObjectURL(\n",
       "                evt.data);\n",
       "            fig.updated_canvas_event();\n",
       "            fig.waiting = false;\n",
       "            return;\n",
       "        }\n",
       "        else if (typeof evt.data === 'string' && evt.data.slice(0, 21) == \"data:image/png;base64\") {\n",
       "            fig.imageObj.src = evt.data;\n",
       "            fig.updated_canvas_event();\n",
       "            fig.waiting = false;\n",
       "            return;\n",
       "        }\n",
       "\n",
       "        var msg = JSON.parse(evt.data);\n",
       "        var msg_type = msg['type'];\n",
       "\n",
       "        // Call the  \"handle_{type}\" callback, which takes\n",
       "        // the figure and JSON message as its only arguments.\n",
       "        try {\n",
       "            var callback = fig[\"handle_\" + msg_type];\n",
       "        } catch (e) {\n",
       "            console.log(\"No handler for the '\" + msg_type + \"' message type: \", msg);\n",
       "            return;\n",
       "        }\n",
       "\n",
       "        if (callback) {\n",
       "            try {\n",
       "                // console.log(\"Handling '\" + msg_type + \"' message: \", msg);\n",
       "                callback(fig, msg);\n",
       "            } catch (e) {\n",
       "                console.log(\"Exception inside the 'handler_\" + msg_type + \"' callback:\", e, e.stack, msg);\n",
       "            }\n",
       "        }\n",
       "    };\n",
       "}\n",
       "\n",
       "// from http://stackoverflow.com/questions/1114465/getting-mouse-location-in-canvas\n",
       "mpl.findpos = function(e) {\n",
       "    //this section is from http://www.quirksmode.org/js/events_properties.html\n",
       "    var targ;\n",
       "    if (!e)\n",
       "        e = window.event;\n",
       "    if (e.target)\n",
       "        targ = e.target;\n",
       "    else if (e.srcElement)\n",
       "        targ = e.srcElement;\n",
       "    if (targ.nodeType == 3) // defeat Safari bug\n",
       "        targ = targ.parentNode;\n",
       "\n",
       "    // jQuery normalizes the pageX and pageY\n",
       "    // pageX,Y are the mouse positions relative to the document\n",
       "    // offset() returns the position of the element relative to the document\n",
       "    var x = e.pageX - $(targ).offset().left;\n",
       "    var y = e.pageY - $(targ).offset().top;\n",
       "\n",
       "    return {\"x\": x, \"y\": y};\n",
       "};\n",
       "\n",
       "/*\n",
       " * return a copy of an object with only non-object keys\n",
       " * we need this to avoid circular references\n",
       " * http://stackoverflow.com/a/24161582/3208463\n",
       " */\n",
       "function simpleKeys (original) {\n",
       "  return Object.keys(original).reduce(function (obj, key) {\n",
       "    if (typeof original[key] !== 'object')\n",
       "        obj[key] = original[key]\n",
       "    return obj;\n",
       "  }, {});\n",
       "}\n",
       "\n",
       "mpl.figure.prototype.mouse_event = function(event, name) {\n",
       "    var canvas_pos = mpl.findpos(event)\n",
       "\n",
       "    if (name === 'button_press')\n",
       "    {\n",
       "        this.canvas.focus();\n",
       "        this.canvas_div.focus();\n",
       "    }\n",
       "\n",
       "    var x = canvas_pos.x * mpl.ratio;\n",
       "    var y = canvas_pos.y * mpl.ratio;\n",
       "\n",
       "    this.send_message(name, {x: x, y: y, button: event.button,\n",
       "                             step: event.step,\n",
       "                             guiEvent: simpleKeys(event)});\n",
       "\n",
       "    /* This prevents the web browser from automatically changing to\n",
       "     * the text insertion cursor when the button is pressed.  We want\n",
       "     * to control all of the cursor setting manually through the\n",
       "     * 'cursor' event from matplotlib */\n",
       "    event.preventDefault();\n",
       "    return false;\n",
       "}\n",
       "\n",
       "mpl.figure.prototype._key_event_extra = function(event, name) {\n",
       "    // Handle any extra behaviour associated with a key event\n",
       "}\n",
       "\n",
       "mpl.figure.prototype.key_event = function(event, name) {\n",
       "\n",
       "    // Prevent repeat events\n",
       "    if (name == 'key_press')\n",
       "    {\n",
       "        if (event.which === this._key)\n",
       "            return;\n",
       "        else\n",
       "            this._key = event.which;\n",
       "    }\n",
       "    if (name == 'key_release')\n",
       "        this._key = null;\n",
       "\n",
       "    var value = '';\n",
       "    if (event.ctrlKey && event.which != 17)\n",
       "        value += \"ctrl+\";\n",
       "    if (event.altKey && event.which != 18)\n",
       "        value += \"alt+\";\n",
       "    if (event.shiftKey && event.which != 16)\n",
       "        value += \"shift+\";\n",
       "\n",
       "    value += 'k';\n",
       "    value += event.which.toString();\n",
       "\n",
       "    this._key_event_extra(event, name);\n",
       "\n",
       "    this.send_message(name, {key: value,\n",
       "                             guiEvent: simpleKeys(event)});\n",
       "    return false;\n",
       "}\n",
       "\n",
       "mpl.figure.prototype.toolbar_button_onclick = function(name) {\n",
       "    if (name == 'download') {\n",
       "        this.handle_save(this, null);\n",
       "    } else {\n",
       "        this.send_message(\"toolbar_button\", {name: name});\n",
       "    }\n",
       "};\n",
       "\n",
       "mpl.figure.prototype.toolbar_button_onmouseover = function(tooltip) {\n",
       "    this.message.textContent = tooltip;\n",
       "};\n",
       "mpl.toolbar_items = [[\"Home\", \"Reset original view\", \"fa fa-home icon-home\", \"home\"], [\"Back\", \"Back to previous view\", \"fa fa-arrow-left icon-arrow-left\", \"back\"], [\"Forward\", \"Forward to next view\", \"fa fa-arrow-right icon-arrow-right\", \"forward\"], [\"\", \"\", \"\", \"\"], [\"Pan\", \"Pan axes with left mouse, zoom with right\", \"fa fa-arrows icon-move\", \"pan\"], [\"Zoom\", \"Zoom to rectangle\", \"fa fa-square-o icon-check-empty\", \"zoom\"], [\"\", \"\", \"\", \"\"], [\"Download\", \"Download plot\", \"fa fa-floppy-o icon-save\", \"download\"]];\n",
       "\n",
       "mpl.extensions = [\"eps\", \"jpeg\", \"pdf\", \"png\", \"ps\", \"raw\", \"svg\", \"tif\"];\n",
       "\n",
       "mpl.default_extension = \"png\";var comm_websocket_adapter = function(comm) {\n",
       "    // Create a \"websocket\"-like object which calls the given IPython comm\n",
       "    // object with the appropriate methods. Currently this is a non binary\n",
       "    // socket, so there is still some room for performance tuning.\n",
       "    var ws = {};\n",
       "\n",
       "    ws.close = function() {\n",
       "        comm.close()\n",
       "    };\n",
       "    ws.send = function(m) {\n",
       "        //console.log('sending', m);\n",
       "        comm.send(m);\n",
       "    };\n",
       "    // Register the callback with on_msg.\n",
       "    comm.on_msg(function(msg) {\n",
       "        //console.log('receiving', msg['content']['data'], msg);\n",
       "        // Pass the mpl event to the overridden (by mpl) onmessage function.\n",
       "        ws.onmessage(msg['content']['data'])\n",
       "    });\n",
       "    return ws;\n",
       "}\n",
       "\n",
       "mpl.mpl_figure_comm = function(comm, msg) {\n",
       "    // This is the function which gets called when the mpl process\n",
       "    // starts-up an IPython Comm through the \"matplotlib\" channel.\n",
       "\n",
       "    var id = msg.content.data.id;\n",
       "    // Get hold of the div created by the display call when the Comm\n",
       "    // socket was opened in Python.\n",
       "    var element = $(\"#\" + id);\n",
       "    var ws_proxy = comm_websocket_adapter(comm)\n",
       "\n",
       "    function ondownload(figure, format) {\n",
       "        window.open(figure.imageObj.src);\n",
       "    }\n",
       "\n",
       "    var fig = new mpl.figure(id, ws_proxy,\n",
       "                           ondownload,\n",
       "                           element.get(0));\n",
       "\n",
       "    // Call onopen now - mpl needs it, as it is assuming we've passed it a real\n",
       "    // web socket which is closed, not our websocket->open comm proxy.\n",
       "    ws_proxy.onopen();\n",
       "\n",
       "    fig.parent_element = element.get(0);\n",
       "    fig.cell_info = mpl.find_output_cell(\"<div id='\" + id + \"'></div>\");\n",
       "    if (!fig.cell_info) {\n",
       "        console.error(\"Failed to find cell for figure\", id, fig);\n",
       "        return;\n",
       "    }\n",
       "\n",
       "    var output_index = fig.cell_info[2]\n",
       "    var cell = fig.cell_info[0];\n",
       "\n",
       "};\n",
       "\n",
       "mpl.figure.prototype.handle_close = function(fig, msg) {\n",
       "    var width = fig.canvas.width/mpl.ratio\n",
       "    fig.root.unbind('remove')\n",
       "\n",
       "    // Update the output cell to use the data from the current canvas.\n",
       "    fig.push_to_output();\n",
       "    var dataURL = fig.canvas.toDataURL();\n",
       "    // Re-enable the keyboard manager in IPython - without this line, in FF,\n",
       "    // the notebook keyboard shortcuts fail.\n",
       "    IPython.keyboard_manager.enable()\n",
       "    $(fig.parent_element).html('<img src=\"' + dataURL + '\" width=\"' + width + '\">');\n",
       "    fig.close_ws(fig, msg);\n",
       "}\n",
       "\n",
       "mpl.figure.prototype.close_ws = function(fig, msg){\n",
       "    fig.send_message('closing', msg);\n",
       "    // fig.ws.close()\n",
       "}\n",
       "\n",
       "mpl.figure.prototype.push_to_output = function(remove_interactive) {\n",
       "    // Turn the data on the canvas into data in the output cell.\n",
       "    var width = this.canvas.width/mpl.ratio\n",
       "    var dataURL = this.canvas.toDataURL();\n",
       "    this.cell_info[1]['text/html'] = '<img src=\"' + dataURL + '\" width=\"' + width + '\">';\n",
       "}\n",
       "\n",
       "mpl.figure.prototype.updated_canvas_event = function() {\n",
       "    // Tell IPython that the notebook contents must change.\n",
       "    IPython.notebook.set_dirty(true);\n",
       "    this.send_message(\"ack\", {});\n",
       "    var fig = this;\n",
       "    // Wait a second, then push the new image to the DOM so\n",
       "    // that it is saved nicely (might be nice to debounce this).\n",
       "    setTimeout(function () { fig.push_to_output() }, 1000);\n",
       "}\n",
       "\n",
       "mpl.figure.prototype._init_toolbar = function() {\n",
       "    var fig = this;\n",
       "\n",
       "    var nav_element = $('<div/>');\n",
       "    nav_element.attr('style', 'width: 100%');\n",
       "    this.root.append(nav_element);\n",
       "\n",
       "    // Define a callback function for later on.\n",
       "    function toolbar_event(event) {\n",
       "        return fig.toolbar_button_onclick(event['data']);\n",
       "    }\n",
       "    function toolbar_mouse_event(event) {\n",
       "        return fig.toolbar_button_onmouseover(event['data']);\n",
       "    }\n",
       "\n",
       "    for(var toolbar_ind in mpl.toolbar_items){\n",
       "        var name = mpl.toolbar_items[toolbar_ind][0];\n",
       "        var tooltip = mpl.toolbar_items[toolbar_ind][1];\n",
       "        var image = mpl.toolbar_items[toolbar_ind][2];\n",
       "        var method_name = mpl.toolbar_items[toolbar_ind][3];\n",
       "\n",
       "        if (!name) { continue; };\n",
       "\n",
       "        var button = $('<button class=\"btn btn-default\" href=\"#\" title=\"' + name + '\"><i class=\"fa ' + image + ' fa-lg\"></i></button>');\n",
       "        button.click(method_name, toolbar_event);\n",
       "        button.mouseover(tooltip, toolbar_mouse_event);\n",
       "        nav_element.append(button);\n",
       "    }\n",
       "\n",
       "    // Add the status bar.\n",
       "    var status_bar = $('<span class=\"mpl-message\" style=\"text-align:right; float: right;\"/>');\n",
       "    nav_element.append(status_bar);\n",
       "    this.message = status_bar[0];\n",
       "\n",
       "    // Add the close button to the window.\n",
       "    var buttongrp = $('<div class=\"btn-group inline pull-right\"></div>');\n",
       "    var button = $('<button class=\"btn btn-mini btn-primary\" href=\"#\" title=\"Stop Interaction\"><i class=\"fa fa-power-off icon-remove icon-large\"></i></button>');\n",
       "    button.click(function (evt) { fig.handle_close(fig, {}); } );\n",
       "    button.mouseover('Stop Interaction', toolbar_mouse_event);\n",
       "    buttongrp.append(button);\n",
       "    var titlebar = this.root.find($('.ui-dialog-titlebar'));\n",
       "    titlebar.prepend(buttongrp);\n",
       "}\n",
       "\n",
       "mpl.figure.prototype._root_extra_style = function(el){\n",
       "    var fig = this\n",
       "    el.on(\"remove\", function(){\n",
       "\tfig.close_ws(fig, {});\n",
       "    });\n",
       "}\n",
       "\n",
       "mpl.figure.prototype._canvas_extra_style = function(el){\n",
       "    // this is important to make the div 'focusable\n",
       "    el.attr('tabindex', 0)\n",
       "    // reach out to IPython and tell the keyboard manager to turn it's self\n",
       "    // off when our div gets focus\n",
       "\n",
       "    // location in version 3\n",
       "    if (IPython.notebook.keyboard_manager) {\n",
       "        IPython.notebook.keyboard_manager.register_events(el);\n",
       "    }\n",
       "    else {\n",
       "        // location in version 2\n",
       "        IPython.keyboard_manager.register_events(el);\n",
       "    }\n",
       "\n",
       "}\n",
       "\n",
       "mpl.figure.prototype._key_event_extra = function(event, name) {\n",
       "    var manager = IPython.notebook.keyboard_manager;\n",
       "    if (!manager)\n",
       "        manager = IPython.keyboard_manager;\n",
       "\n",
       "    // Check for shift+enter\n",
       "    if (event.shiftKey && event.which == 13) {\n",
       "        this.canvas_div.blur();\n",
       "        // select the cell after this one\n",
       "        var index = IPython.notebook.find_cell_index(this.cell_info[0]);\n",
       "        IPython.notebook.select(index + 1);\n",
       "    }\n",
       "}\n",
       "\n",
       "mpl.figure.prototype.handle_save = function(fig, msg) {\n",
       "    fig.ondownload(fig, null);\n",
       "}\n",
       "\n",
       "\n",
       "mpl.find_output_cell = function(html_output) {\n",
       "    // Return the cell and output element which can be found *uniquely* in the notebook.\n",
       "    // Note - this is a bit hacky, but it is done because the \"notebook_saving.Notebook\"\n",
       "    // IPython event is triggered only after the cells have been serialised, which for\n",
       "    // our purposes (turning an active figure into a static one), is too late.\n",
       "    var cells = IPython.notebook.get_cells();\n",
       "    var ncells = cells.length;\n",
       "    for (var i=0; i<ncells; i++) {\n",
       "        var cell = cells[i];\n",
       "        if (cell.cell_type === 'code'){\n",
       "            for (var j=0; j<cell.output_area.outputs.length; j++) {\n",
       "                var data = cell.output_area.outputs[j];\n",
       "                if (data.data) {\n",
       "                    // IPython >= 3 moved mimebundle to data attribute of output\n",
       "                    data = data.data;\n",
       "                }\n",
       "                if (data['text/html'] == html_output) {\n",
       "                    return [cell, data, j];\n",
       "                }\n",
       "            }\n",
       "        }\n",
       "    }\n",
       "}\n",
       "\n",
       "// Register the function which deals with the matplotlib target/channel.\n",
       "// The kernel may be null if the page has been refreshed.\n",
       "if (IPython.notebook.kernel != null) {\n",
       "    IPython.notebook.kernel.comm_manager.register_target('matplotlib', mpl.mpl_figure_comm);\n",
       "}\n"
      ],
      "text/plain": [
       "<IPython.core.display.Javascript object>"
      ]
     },
     "metadata": {},
     "output_type": "display_data"
    },
    {
     "data": {
      "text/html": [
       "<img src=\"data:image/png;base64,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\" width=\"432\">"
      ],
      "text/plain": [
       "<IPython.core.display.HTML object>"
      ]
     },
     "metadata": {},
     "output_type": "display_data"
    }
   ],
   "source": [
    "from mpl_toolkits.mplot3d import Axes3D\n",
    "%matplotlib notebook \n",
    "\n",
    "fig = plt.figure()\n",
    "ax = fig.add_subplot(111, projection='3d')\n",
    "ax.scatter(xs=PCA_DF[\"PCA_1\"], ys=PCA_DF[\"PCA_2\"], zs=PCA_DF[\"PCA_3\"], marker=\"o\",linewidth=0.5)\n",
    "ax.set_xlabel('PCA_1')\n",
    "ax.set_ylabel('PCA_2')\n",
    "ax.set_zlabel('PCA_3')\n",
    "plt.show()"
   ]
  },
  {
   "cell_type": "markdown",
   "metadata": {},
   "source": [
    "## Proyecto Embedding\n",
    "http://educa.europeanvalley.es/tools/IA/NLP/quijote/?config=https://gist.githubusercontent.com/jmcalvomartin/ecb8c2ce58466601fe17f9695617dad4/raw/ee75a432371e55bb97a6453d61f9f08a9c36d253/Embedding_Project.json"
   ]
  },
  {
   "cell_type": "code",
   "execution_count": null,
   "metadata": {},
   "outputs": [],
   "source": [
    "#Generamos los vectores\n",
    "import io\n",
    "\n",
    "out_v = io.open('embedding/vecs_quijote.tsv', 'w', encoding='utf-8')\n",
    "out_m = io.open('embedding/meta_quijote.tsv', 'w', encoding='utf-8')\n",
    "\n",
    "for num, word in enumerate(words_list):\n",
    "  vec = weights[num+1] # skip 0, it's padding.\n",
    "  out_m.write(word + \"\\n\")\n",
    "  out_v.write('\\t'.join([str(x) for x in vec]) + \"\\n\")\n",
    "out_v.close()\n",
    "out_m.close()"
   ]
  },
  {
   "cell_type": "markdown",
   "metadata": {},
   "source": [
    "# TSNE (t-distributed stochastic neighbor embedding)"
   ]
  },
  {
   "cell_type": "code",
   "execution_count": null,
   "metadata": {},
   "outputs": [],
   "source": [
    "from sklearn.manifold import TSNE\n",
    "tsne = TSNE(n_components=2, verbose=1, perplexity=40, n_iter=300)\n",
    "tnse_results = tsne.fit_transform(weights)"
   ]
  },
  {
   "cell_type": "code",
   "execution_count": null,
   "metadata": {},
   "outputs": [],
   "source": [
    "principal_TSNE = pd.DataFrame(data = tnse_results\n",
    "             , columns = ['TSNE_1', 'TSNE_2'])\n",
    "\n",
    "#Unimos con las palabras\n",
    "TSNE_DF=pd.concat([wordsDF,principal_TSNE],axis=1)\n",
    "TSNE_DF.head()"
   ]
  },
  {
   "cell_type": "code",
   "execution_count": null,
   "metadata": {},
   "outputs": [],
   "source": [
    "sns.scatterplot(x=tnse_results[:,0], y=tnse_results[:,1])"
   ]
  }
 ],
 "metadata": {
  "kernelspec": {
   "display_name": "Python 3",
   "language": "python",
   "name": "python3"
  },
  "language_info": {
   "codemirror_mode": {
    "name": "ipython",
    "version": 3
   },
   "file_extension": ".py",
   "mimetype": "text/x-python",
   "name": "python",
   "nbconvert_exporter": "python",
   "pygments_lexer": "ipython3",
   "version": "3.8.5"
  }
 },
 "nbformat": 4,
 "nbformat_minor": 4
}
