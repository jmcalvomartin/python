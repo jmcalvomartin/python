{
 "cells": [
  {
   "cell_type": "markdown",
   "metadata": {},
   "source": [
    "# Proyecto NLP Quijote\n",
    "\n",
    "**Objetivo**\n",
    "Creación de un modelo de Deep Learning entrenado con los primeros **50 capitulos del Quijote**, para crear una contextualización artificial del contenido del libro y de esta manera poder predecir un nuevo texto en función a unas palabras dadas.\n",
    "\n",
    "**Requisitos**\n",
    "* Python 3.8\n",
    "* Tensorflow 2.x\n",
    "\n",
    "**Pasos de creación**\n",
    "* Adquirir el libro del Quijote en formato digital. https://www.gutenberg.org/ebooks/search/?query=quijote&submit_search=Go%21\n",
    "* Tratamiento de los datos\n",
    "* Creación del modelo usando redes LSTM (Large Short Term Memory)\n",
    "* Entrenamiento\n",
    "* Resultados y validación\n",
    "* Prediccón\n",
    "* Salvar modelo"
   ]
  },
  {
   "cell_type": "code",
   "execution_count": 2,
   "metadata": {
    "colab": {},
    "colab_type": "code",
    "id": "TzBKcqmSO-bq"
   },
   "outputs": [
    {
     "name": "stderr",
     "output_type": "stream",
     "text": [
      "2024-01-15 22:50:45.432715: I tensorflow/tsl/cuda/cudart_stub.cc:28] Could not find cuda drivers on your machine, GPU will not be used.\n",
      "2024-01-15 22:50:45.844037: I tensorflow/tsl/cuda/cudart_stub.cc:28] Could not find cuda drivers on your machine, GPU will not be used.\n",
      "2024-01-15 22:50:45.846112: I tensorflow/core/platform/cpu_feature_guard.cc:182] This TensorFlow binary is optimized to use available CPU instructions in performance-critical operations.\n",
      "To enable the following instructions: AVX2 FMA, in other operations, rebuild TensorFlow with the appropriate compiler flags.\n",
      "2024-01-15 22:50:47.174680: W tensorflow/compiler/tf2tensorrt/utils/py_utils.cc:38] TF-TRT Warning: Could not find TensorRT\n"
     ]
    }
   ],
   "source": [
    "#Cargamos las librerias correspondientes\n",
    "import tensorflow as tf\n",
    "\n",
    "from tensorflow.keras.preprocessing.sequence import pad_sequences\n",
    "from tensorflow.keras.layers import Embedding, LSTM, Dense, Bidirectional\n",
    "from tensorflow.keras.preprocessing.text import Tokenizer\n",
    "from tensorflow.keras.models import Sequential\n",
    "from tensorflow.keras.layers import Dropout\n",
    "from tensorflow.keras.optimizers import RMSprop\n",
    "from tensorflow.keras.optimizers import Adam\n",
    "from tensorflow.keras.callbacks import ModelCheckpoint\n",
    "import numpy as np\n",
    "import re\n",
    "\n",
    "from codecarbon import EmissionsTracker"
   ]
  },
  {
   "cell_type": "markdown",
   "metadata": {},
   "source": [
    "### Tokenizer\n",
    "Como la palabra sugiere tokenizar significa dividir la oración en una serie de tokens o en palabras simples, podemos decir que cada vez que hay un espacio en una oración agregamos una coma entre ellos para que nuestra oración se divida en tokens y cada palabra tenga un valor único de un número entero."
   ]
  },
  {
   "cell_type": "code",
   "execution_count": 3,
   "metadata": {
    "colab": {
     "base_uri": "https://localhost:8080/",
     "height": 55
    },
    "colab_type": "code",
    "id": "PLkTiMhlPWfq",
    "outputId": "af0789ef-4dec-4e02-e71c-f350f9cdc96a"
   },
   "outputs": [],
   "source": [
    "tokenizer = Tokenizer()\n",
    "\n",
    "data = open('Dataset/quijote_Lite.txt', encoding=\"utf8\").read()\n",
    "#data = open('/content/drive/My Drive/Colab Notebooks/Datasets/Vuelta_al_mundo.txt').read()\n",
    "\n",
    "#Limpiar de simbolos \n",
    "data = re.sub('[^a-zA-Z0-9á-ú\\¿\\?\\n\\.]', ' ', data)\n",
    "corpus = data.lower().split(\"\\n\")\n",
    "\n",
    "#Mostramos el cuerpo del texto ya limpio\n",
    "#print(corpus)\n",
    "corpus = sorted(list(set(corpus)))\n",
    "\n",
    "tokenizer.fit_on_texts(corpus)\n",
    "total_words = len(tokenizer.word_index) + 1\n",
    "\n"
   ]
  },
  {
   "cell_type": "markdown",
   "metadata": {},
   "source": [
    "### Resultado despues de realizar los **tokens**"
   ]
  },
  {
   "cell_type": "code",
   "execution_count": 4,
   "metadata": {
    "colab": {
     "base_uri": "https://localhost:8080/",
     "height": 110
    },
    "colab_type": "code",
    "id": "0ZGKiyUcRbs6",
    "outputId": "8b64452d-fadb-4204-b846-6e015ff19c60"
   },
   "outputs": [],
   "source": [
    "#print(tokenizer.word_index)\n",
    "#print(total_words)\n",
    "#print(corpus)\n",
    "#print(len(corpus))"
   ]
  },
  {
   "cell_type": "markdown",
   "metadata": {},
   "source": [
    "#### Preparación de los datos\n",
    "Para mejorar el entrenamiento del modelo y poder tener más datos a partir de los obtenidos, se realiza una tecnica llamda **secuencia**. Que consiste en dividir cada oración en una más pequeña en forma de escalera, de esta forma se hará una predicción de entrenamiento por cada subdivisión de esa oración.\n",
    "\n",
    "<img src=\"images/secuencias.png\">\n",
    "\n",
    "Posteriormente se realiza un **Padding**. Es un método para convertir la matriz de enteros de longitud variable en una longitud fija, ya sea truncando (si la longitud es mayor que la longitud_máxima definida que trunca la matriz) o rellenando (si la longitud es más corta que la longitud_máxima, rellene la matriz con 0).\n",
    "\n",
    "<img src=\"images/Padding.png\">"
   ]
  },
  {
   "cell_type": "code",
   "execution_count": 5,
   "metadata": {
    "colab": {},
    "colab_type": "code",
    "id": "MhEV05uxPXrI"
   },
   "outputs": [],
   "source": [
    "input_sequences = []\n",
    "#Marcamos los tokens por cada frase\n",
    "for line in corpus:\n",
    "\ttoken_list = tokenizer.texts_to_sequences([line])[0]\n",
    "\t#Creamos frases más pequeñas en función a al original\n",
    "\t#for i in range(1, len(token_list)):\n",
    "\tfor i in range(1, len(token_list)): #usamos cada frase para aumentar el train en modo de escalera\n",
    "\t\tn_gram_sequence = token_list[:i+1]\n",
    "\t\tinput_sequences.append(n_gram_sequence)\n",
    "\n",
    "# pad sequences \n",
    "#Buscamos la frase más larga y las igualamos todas con ceros en la parte de adelante\n",
    "max_sequence_len = max([len(x) for x in input_sequences])\n",
    "input_sequences = np.array(pad_sequences(input_sequences, maxlen=max_sequence_len, padding='pre'))\n",
    "\n",
    "# create predictors and label\n",
    "#Cogemos el ultimo valor como etiqueta (y) y el resto como (x)\n",
    "xs, labels = input_sequences[:,:-1],input_sequences[:,-1]\n",
    "\n",
    "ys = tf.keras.utils.to_categorical(labels, num_classes=total_words)"
   ]
  },
  {
   "cell_type": "markdown",
   "metadata": {},
   "source": [
    "**Mostramos algunos ejemplos del proceso**"
   ]
  },
  {
   "cell_type": "code",
   "execution_count": 6,
   "metadata": {
    "colab": {
     "base_uri": "https://localhost:8080/",
     "height": 108
    },
    "colab_type": "code",
    "id": "bGqeJ-NXPeGA",
    "outputId": "2a7a8d1f-298f-48de-a9fb-bd8043eb8d3d"
   },
   "outputs": [
    {
     "name": "stdout",
     "output_type": "stream",
     "text": [
      "[   0    0    0    0    0    0    0    0    0    0    0    0  119 1725\n",
      "    1 4532    5   25]\n",
      "[0. 0. 0. ... 0. 0. 0.]\n",
      "(153835, 13850)\n",
      "(153835, 18)\n"
     ]
    }
   ],
   "source": [
    "print(xs[5])\n",
    "print(ys[5])\n",
    "print(ys.shape)\n",
    "print(xs.shape)"
   ]
  },
  {
   "cell_type": "markdown",
   "metadata": {},
   "source": [
    "### Creación del modelo\n",
    "\n",
    "* La primera capa incluye el número de palabras a entrenar y la salida de predicción que queremos mostrar, en este caso se hará una predicción de 50 palabras en función a la dada.\n",
    "\n",
    "* Usamos como optimizador Adam, aunque tambien se optienen buenos resultados con RMSprop"
   ]
  },
  {
   "cell_type": "code",
   "execution_count": 8,
   "metadata": {
    "colab": {
     "base_uri": "https://localhost:8080/",
     "height": 345
    },
    "colab_type": "code",
    "id": "zxvxkZIEPgz3",
    "outputId": "bae380ea-7c2d-41a8-f06b-d2d1f830a4a6"
   },
   "outputs": [
    {
     "name": "stderr",
     "output_type": "stream",
     "text": [
      "2024-01-15 22:51:27.153473: I tensorflow/core/common_runtime/executor.cc:1197] [/device:CPU:0] (DEBUG INFO) Executor start aborting (this does not indicate an error and you can ignore this message): INVALID_ARGUMENT: You must feed a value for placeholder tensor 'gradients/split_2_grad/concat/split_2/split_dim' with dtype int32\n",
      "\t [[{{node gradients/split_2_grad/concat/split_2/split_dim}}]]\n",
      "2024-01-15 22:51:27.156361: I tensorflow/core/common_runtime/executor.cc:1197] [/device:CPU:0] (DEBUG INFO) Executor start aborting (this does not indicate an error and you can ignore this message): INVALID_ARGUMENT: You must feed a value for placeholder tensor 'gradients/split_grad/concat/split/split_dim' with dtype int32\n",
      "\t [[{{node gradients/split_grad/concat/split/split_dim}}]]\n",
      "2024-01-15 22:51:27.158158: I tensorflow/core/common_runtime/executor.cc:1197] [/device:CPU:0] (DEBUG INFO) Executor start aborting (this does not indicate an error and you can ignore this message): INVALID_ARGUMENT: You must feed a value for placeholder tensor 'gradients/split_1_grad/concat/split_1/split_dim' with dtype int32\n",
      "\t [[{{node gradients/split_1_grad/concat/split_1/split_dim}}]]\n",
      "2024-01-15 22:51:27.391860: I tensorflow/core/common_runtime/executor.cc:1197] [/device:CPU:0] (DEBUG INFO) Executor start aborting (this does not indicate an error and you can ignore this message): INVALID_ARGUMENT: You must feed a value for placeholder tensor 'gradients/split_2_grad/concat/split_2/split_dim' with dtype int32\n",
      "\t [[{{node gradients/split_2_grad/concat/split_2/split_dim}}]]\n",
      "2024-01-15 22:51:27.394582: I tensorflow/core/common_runtime/executor.cc:1197] [/device:CPU:0] (DEBUG INFO) Executor start aborting (this does not indicate an error and you can ignore this message): INVALID_ARGUMENT: You must feed a value for placeholder tensor 'gradients/split_grad/concat/split/split_dim' with dtype int32\n",
      "\t [[{{node gradients/split_grad/concat/split/split_dim}}]]\n",
      "2024-01-15 22:51:27.396481: I tensorflow/core/common_runtime/executor.cc:1197] [/device:CPU:0] (DEBUG INFO) Executor start aborting (this does not indicate an error and you can ignore this message): INVALID_ARGUMENT: You must feed a value for placeholder tensor 'gradients/split_1_grad/concat/split_1/split_dim' with dtype int32\n",
      "\t [[{{node gradients/split_1_grad/concat/split_1/split_dim}}]]\n",
      "WARNING:absl:`lr` is deprecated in Keras optimizer, please use `learning_rate` or use the legacy optimizer, e.g.,tf.keras.optimizers.legacy.Adam.\n"
     ]
    },
    {
     "name": "stdout",
     "output_type": "stream",
     "text": [
      "Model: \"sequential\"\n",
      "_________________________________________________________________\n",
      " Layer (type)                Output Shape              Param #   \n",
      "=================================================================\n",
      " embedding (Embedding)       (None, 18, 50)            692500    \n",
      "                                                                 \n",
      " lstm (LSTM)                 (None, 18, 100)           60400     \n",
      "                                                                 \n",
      " lstm_1 (LSTM)               (None, 100)               80400     \n",
      "                                                                 \n",
      " dense (Dense)               (None, 100)               10100     \n",
      "                                                                 \n",
      " dense_1 (Dense)             (None, 13850)             1398850   \n",
      "                                                                 \n",
      "=================================================================\n",
      "Total params: 2,242,250\n",
      "Trainable params: 2,242,250\n",
      "Non-trainable params: 0\n",
      "_________________________________________________________________\n"
     ]
    }
   ],
   "source": [
    "model = Sequential()\n",
    "model.add(Embedding(total_words, 50, input_length=max_sequence_len-1))\n",
    "#model.add(Bidirectional(LSTM(128)))\n",
    "#model.add(Dropout(0.2))\n",
    "model.add(LSTM(100, return_sequences=True))\n",
    "model.add(LSTM(100))\n",
    "model.add(Dense(100,activation='relu'))\n",
    "model.add(Dense(total_words, activation='softmax'))\n",
    "adam = Adam(lr=0.001)\n",
    "rms=RMSprop(learning_rate=0.01)\n",
    "\n",
    "model.compile(loss='categorical_crossentropy', optimizer=adam, metrics=['accuracy'])\n",
    "#earlystop = EarlyStopping(monitor='val_loss', min_delta=0, patience=5, verbose=0, mode='auto')\n",
    "#filepath=\"/content/drive/My Drive/Colab Notebooks/Projects/QuijoteNLP/model/weights-improvement-{epoch:02d}-{loss:.4f}-bigger.hdf5\"\n",
    "filepath=\"model/weights-QuijoteNLP.hdf5\"\n",
    "checkpoint = ModelCheckpoint(filepath, monitor='accuracy', verbose=1, save_best_only=True, mode='max')\n",
    "callbacks_list = [checkpoint]\n",
    "\n",
    "model.summary()\n",
    "\n"
   ]
  },
  {
   "cell_type": "code",
   "execution_count": 9,
   "metadata": {
    "colab": {
     "base_uri": "https://localhost:8080/",
     "height": 1000
    },
    "colab_type": "code",
    "id": "lmh_OntsR9uh",
    "outputId": "c905c06b-4e6f-4626-829c-9706aabc3fc7"
   },
   "outputs": [
    {
     "name": "stderr",
     "output_type": "stream",
     "text": [
      "[codecarbon INFO @ 22:51:31] [setup] RAM Tracking...\n",
      "[codecarbon INFO @ 22:51:31] [setup] GPU Tracking...\n",
      "[codecarbon INFO @ 22:51:31] No GPU found.\n",
      "[codecarbon INFO @ 22:51:31] [setup] CPU Tracking...\n",
      "[codecarbon WARNING @ 22:51:31] No CPU tracking mode found. Falling back on CPU constant mode.\n",
      "[codecarbon INFO @ 22:51:33] CPU Model on constant consumption mode: Intel(R) Core(TM) i5-8250U CPU @ 1.60GHz\n",
      "[codecarbon INFO @ 22:51:33] >>> Tracker's metadata:\n",
      "[codecarbon INFO @ 22:51:33]   Platform system: Linux-6.5.0-14-generic-x86_64-with-glibc2.35\n",
      "[codecarbon INFO @ 22:51:33]   Python version: 3.10.9\n",
      "[codecarbon INFO @ 22:51:33]   CodeCarbon version: 2.3.2\n",
      "[codecarbon INFO @ 22:51:33]   Available RAM : 15.458 GB\n",
      "[codecarbon INFO @ 22:51:33]   CPU count: 8\n",
      "[codecarbon INFO @ 22:51:33]   CPU model: Intel(R) Core(TM) i5-8250U CPU @ 1.60GHz\n",
      "[codecarbon INFO @ 22:51:33]   GPU count: None\n",
      "[codecarbon INFO @ 22:51:33]   GPU model: None\n"
     ]
    },
    {
     "name": "stdout",
     "output_type": "stream",
     "text": [
      "Epoch 1/70\n"
     ]
    },
    {
     "name": "stderr",
     "output_type": "stream",
     "text": [
      "2024-01-15 22:51:36.441506: W tensorflow/tsl/framework/cpu_allocator_impl.cc:83] Allocation of 8522459000 exceeds 10% of free system memory.\n",
      "2024-01-15 22:51:43.590100: I tensorflow/core/common_runtime/executor.cc:1197] [/device:CPU:0] (DEBUG INFO) Executor start aborting (this does not indicate an error and you can ignore this message): INVALID_ARGUMENT: You must feed a value for placeholder tensor 'gradients/split_2_grad/concat/split_2/split_dim' with dtype int32\n",
      "\t [[{{node gradients/split_2_grad/concat/split_2/split_dim}}]]\n",
      "2024-01-15 22:51:43.591875: I tensorflow/core/common_runtime/executor.cc:1197] [/device:CPU:0] (DEBUG INFO) Executor start aborting (this does not indicate an error and you can ignore this message): INVALID_ARGUMENT: You must feed a value for placeholder tensor 'gradients/split_grad/concat/split/split_dim' with dtype int32\n",
      "\t [[{{node gradients/split_grad/concat/split/split_dim}}]]\n",
      "2024-01-15 22:51:43.593234: I tensorflow/core/common_runtime/executor.cc:1197] [/device:CPU:0] (DEBUG INFO) Executor start aborting (this does not indicate an error and you can ignore this message): INVALID_ARGUMENT: You must feed a value for placeholder tensor 'gradients/split_1_grad/concat/split_1/split_dim' with dtype int32\n",
      "\t [[{{node gradients/split_1_grad/concat/split_1/split_dim}}]]\n",
      "2024-01-15 22:51:43.780865: I tensorflow/core/common_runtime/executor.cc:1197] [/device:CPU:0] (DEBUG INFO) Executor start aborting (this does not indicate an error and you can ignore this message): INVALID_ARGUMENT: You must feed a value for placeholder tensor 'gradients/split_2_grad/concat/split_2/split_dim' with dtype int32\n",
      "\t [[{{node gradients/split_2_grad/concat/split_2/split_dim}}]]\n",
      "2024-01-15 22:51:43.782130: I tensorflow/core/common_runtime/executor.cc:1197] [/device:CPU:0] (DEBUG INFO) Executor start aborting (this does not indicate an error and you can ignore this message): INVALID_ARGUMENT: You must feed a value for placeholder tensor 'gradients/split_grad/concat/split/split_dim' with dtype int32\n",
      "\t [[{{node gradients/split_grad/concat/split/split_dim}}]]\n",
      "2024-01-15 22:51:43.783381: I tensorflow/core/common_runtime/executor.cc:1197] [/device:CPU:0] (DEBUG INFO) Executor start aborting (this does not indicate an error and you can ignore this message): INVALID_ARGUMENT: You must feed a value for placeholder tensor 'gradients/split_1_grad/concat/split_1/split_dim' with dtype int32\n",
      "\t [[{{node gradients/split_1_grad/concat/split_1/split_dim}}]]\n",
      "2024-01-15 22:51:44.790702: I tensorflow/core/common_runtime/executor.cc:1197] [/device:CPU:0] (DEBUG INFO) Executor start aborting (this does not indicate an error and you can ignore this message): INVALID_ARGUMENT: You must feed a value for placeholder tensor 'gradients/split_2_grad/concat/split_2/split_dim' with dtype int32\n",
      "\t [[{{node gradients/split_2_grad/concat/split_2/split_dim}}]]\n",
      "2024-01-15 22:51:44.793181: I tensorflow/core/common_runtime/executor.cc:1197] [/device:CPU:0] (DEBUG INFO) Executor start aborting (this does not indicate an error and you can ignore this message): INVALID_ARGUMENT: You must feed a value for placeholder tensor 'gradients/split_grad/concat/split/split_dim' with dtype int32\n",
      "\t [[{{node gradients/split_grad/concat/split/split_dim}}]]\n",
      "2024-01-15 22:51:44.795097: I tensorflow/core/common_runtime/executor.cc:1197] [/device:CPU:0] (DEBUG INFO) Executor start aborting (this does not indicate an error and you can ignore this message): INVALID_ARGUMENT: You must feed a value for placeholder tensor 'gradients/split_1_grad/concat/split_1/split_dim' with dtype int32\n",
      "\t [[{{node gradients/split_1_grad/concat/split_1/split_dim}}]]\n",
      "2024-01-15 22:51:45.002087: I tensorflow/core/common_runtime/executor.cc:1197] [/device:CPU:0] (DEBUG INFO) Executor start aborting (this does not indicate an error and you can ignore this message): INVALID_ARGUMENT: You must feed a value for placeholder tensor 'gradients/split_2_grad/concat/split_2/split_dim' with dtype int32\n",
      "\t [[{{node gradients/split_2_grad/concat/split_2/split_dim}}]]\n",
      "2024-01-15 22:51:45.003801: I tensorflow/core/common_runtime/executor.cc:1197] [/device:CPU:0] (DEBUG INFO) Executor start aborting (this does not indicate an error and you can ignore this message): INVALID_ARGUMENT: You must feed a value for placeholder tensor 'gradients/split_grad/concat/split/split_dim' with dtype int32\n",
      "\t [[{{node gradients/split_grad/concat/split/split_dim}}]]\n",
      "2024-01-15 22:51:45.005039: I tensorflow/core/common_runtime/executor.cc:1197] [/device:CPU:0] (DEBUG INFO) Executor start aborting (this does not indicate an error and you can ignore this message): INVALID_ARGUMENT: You must feed a value for placeholder tensor 'gradients/split_1_grad/concat/split_1/split_dim' with dtype int32\n",
      "\t [[{{node gradients/split_1_grad/concat/split_1/split_dim}}]]\n"
     ]
    },
    {
     "name": "stdout",
     "output_type": "stream",
     "text": [
      "  68/1202 [>.............................] - ETA: 1:18 - loss: 7.5562 - accuracy: 0.0411"
     ]
    },
    {
     "name": "stderr",
     "output_type": "stream",
     "text": [
      "[codecarbon INFO @ 22:51:51] Energy consumed for RAM : 0.000024 kWh. RAM Power : 5.796770095825195 W\n",
      "[codecarbon INFO @ 22:51:51] Energy consumed for all CPUs : 0.000031 kWh. Total CPU Power : 7.5 W\n",
      "[codecarbon INFO @ 22:51:51] 0.000055 kWh of electricity used since the beginning.\n"
     ]
    },
    {
     "name": "stdout",
     "output_type": "stream",
     "text": [
      " 282/1202 [======>.......................] - ETA: 1:04 - loss: 6.8969 - accuracy: 0.0543"
     ]
    },
    {
     "name": "stderr",
     "output_type": "stream",
     "text": [
      "[codecarbon INFO @ 22:52:06] Energy consumed for RAM : 0.000048 kWh. RAM Power : 5.796770095825195 W\n",
      "[codecarbon INFO @ 22:52:06] Energy consumed for all CPUs : 0.000063 kWh. Total CPU Power : 7.5 W\n",
      "[codecarbon INFO @ 22:52:06] 0.000111 kWh of electricity used since the beginning.\n"
     ]
    },
    {
     "name": "stdout",
     "output_type": "stream",
     "text": [
      " 495/1202 [===========>..................] - ETA: 49s - loss: 6.7481 - accuracy: 0.0560"
     ]
    },
    {
     "name": "stderr",
     "output_type": "stream",
     "text": [
      "[codecarbon INFO @ 22:52:21] Energy consumed for RAM : 0.000072 kWh. RAM Power : 5.796770095825195 W\n",
      "[codecarbon INFO @ 22:52:21] Energy consumed for all CPUs : 0.000094 kWh. Total CPU Power : 7.5 W\n",
      "[codecarbon INFO @ 22:52:21] 0.000166 kWh of electricity used since the beginning.\n"
     ]
    },
    {
     "name": "stdout",
     "output_type": "stream",
     "text": [
      " 708/1202 [================>.............] - ETA: 34s - loss: 6.6621 - accuracy: 0.0571"
     ]
    },
    {
     "name": "stderr",
     "output_type": "stream",
     "text": [
      "[codecarbon INFO @ 22:52:36] Energy consumed for RAM : 0.000097 kWh. RAM Power : 5.796770095825195 W\n",
      "[codecarbon INFO @ 22:52:36] Energy consumed for all CPUs : 0.000125 kWh. Total CPU Power : 7.5 W\n",
      "[codecarbon INFO @ 22:52:36] 0.000222 kWh of electricity used since the beginning.\n"
     ]
    },
    {
     "name": "stdout",
     "output_type": "stream",
     "text": [
      " 923/1202 [======================>.......] - ETA: 19s - loss: 6.6023 - accuracy: 0.0590"
     ]
    },
    {
     "name": "stderr",
     "output_type": "stream",
     "text": [
      "[codecarbon INFO @ 22:52:51] Energy consumed for RAM : 0.000121 kWh. RAM Power : 5.796770095825195 W\n",
      "[codecarbon INFO @ 22:52:51] Energy consumed for all CPUs : 0.000156 kWh. Total CPU Power : 7.5 W\n",
      "[codecarbon INFO @ 22:52:51] 0.000277 kWh of electricity used since the beginning.\n"
     ]
    },
    {
     "name": "stdout",
     "output_type": "stream",
     "text": [
      "1134/1202 [===========================>..] - ETA: 4s - loss: 6.5590 - accuracy: 0.0601"
     ]
    },
    {
     "name": "stderr",
     "output_type": "stream",
     "text": [
      "[codecarbon INFO @ 22:53:06] Energy consumed for RAM : 0.000145 kWh. RAM Power : 5.796770095825195 W\n",
      "[codecarbon INFO @ 22:53:06] Energy consumed for all CPUs : 0.000187 kWh. Total CPU Power : 7.5 W\n",
      "[codecarbon INFO @ 22:53:06] 0.000332 kWh of electricity used since the beginning.\n"
     ]
    },
    {
     "name": "stdout",
     "output_type": "stream",
     "text": [
      "1202/1202 [==============================] - ETA: 0s - loss: 6.5441 - accuracy: 0.0605\n",
      "Epoch 1: accuracy improved from -inf to 0.06054, saving model to model/weights-QuijoteNLP.hdf5\n",
      "1202/1202 [==============================] - 88s 70ms/step - loss: 6.5441 - accuracy: 0.0605\n",
      "Epoch 2/70\n",
      " 148/1202 [==>...........................] - ETA: 1:12 - loss: 6.1595 - accuracy: 0.0727"
     ]
    },
    {
     "name": "stderr",
     "output_type": "stream",
     "text": [
      "[codecarbon INFO @ 22:53:21] Energy consumed for RAM : 0.000169 kWh. RAM Power : 5.796770095825195 W\n",
      "[codecarbon INFO @ 22:53:21] Energy consumed for all CPUs : 0.000219 kWh. Total CPU Power : 7.5 W\n",
      "[codecarbon INFO @ 22:53:21] 0.000388 kWh of electricity used since the beginning.\n"
     ]
    },
    {
     "name": "stdout",
     "output_type": "stream",
     "text": [
      " 369/1202 [========>.....................] - ETA: 57s - loss: 6.1231 - accuracy: 0.0741"
     ]
    },
    {
     "name": "stderr",
     "output_type": "stream",
     "text": [
      "[codecarbon INFO @ 22:53:36] Energy consumed for RAM : 0.000193 kWh. RAM Power : 5.796770095825195 W\n",
      "[codecarbon INFO @ 22:53:36] Energy consumed for all CPUs : 0.000250 kWh. Total CPU Power : 7.5 W\n",
      "[codecarbon INFO @ 22:53:36] 0.000443 kWh of electricity used since the beginning.\n"
     ]
    },
    {
     "name": "stdout",
     "output_type": "stream",
     "text": [
      " 590/1202 [=============>................] - ETA: 41s - loss: 6.1201 - accuracy: 0.0741"
     ]
    },
    {
     "name": "stderr",
     "output_type": "stream",
     "text": [
      "[codecarbon INFO @ 22:53:51] Energy consumed for RAM : 0.000217 kWh. RAM Power : 5.796770095825195 W\n",
      "[codecarbon INFO @ 22:53:51] Energy consumed for all CPUs : 0.000281 kWh. Total CPU Power : 7.5 W\n",
      "[codecarbon INFO @ 22:53:51] 0.000499 kWh of electricity used since the beginning.\n"
     ]
    },
    {
     "name": "stdout",
     "output_type": "stream",
     "text": [
      " 810/1202 [===================>..........] - ETA: 26s - loss: 6.1172 - accuracy: 0.0737"
     ]
    },
    {
     "name": "stderr",
     "output_type": "stream",
     "text": [
      "[codecarbon INFO @ 22:54:06] Energy consumed for RAM : 0.000241 kWh. RAM Power : 5.796770095825195 W\n",
      "[codecarbon INFO @ 22:54:06] Energy consumed for all CPUs : 0.000312 kWh. Total CPU Power : 7.5 W\n",
      "[codecarbon INFO @ 22:54:06] 0.000554 kWh of electricity used since the beginning.\n"
     ]
    },
    {
     "name": "stdout",
     "output_type": "stream",
     "text": [
      "1026/1202 [========================>.....] - ETA: 12s - loss: 6.1130 - accuracy: 0.0739"
     ]
    },
    {
     "name": "stderr",
     "output_type": "stream",
     "text": [
      "[codecarbon INFO @ 22:54:21] Energy consumed for RAM : 0.000266 kWh. RAM Power : 5.796770095825195 W\n",
      "[codecarbon INFO @ 22:54:21] Energy consumed for all CPUs : 0.000344 kWh. Total CPU Power : 7.5 W\n",
      "[codecarbon INFO @ 22:54:21] 0.000609 kWh of electricity used since the beginning.\n"
     ]
    },
    {
     "name": "stdout",
     "output_type": "stream",
     "text": [
      "1202/1202 [==============================] - ETA: 0s - loss: 6.1039 - accuracy: 0.0749\n",
      "Epoch 2: accuracy improved from 0.06054 to 0.07488, saving model to model/weights-QuijoteNLP.hdf5\n",
      "1202/1202 [==============================] - 82s 69ms/step - loss: 6.1039 - accuracy: 0.0749\n",
      "Epoch 3/70\n",
      "  42/1202 [>.............................] - ETA: 1:18 - loss: 5.8830 - accuracy: 0.0787"
     ]
    },
    {
     "name": "stderr",
     "output_type": "stream",
     "text": [
      "[codecarbon INFO @ 22:54:36] Energy consumed for RAM : 0.000290 kWh. RAM Power : 5.796770095825195 W\n",
      "[codecarbon INFO @ 22:54:36] Energy consumed for all CPUs : 0.000375 kWh. Total CPU Power : 7.5 W\n",
      "[codecarbon INFO @ 22:54:36] 0.000665 kWh of electricity used since the beginning.\n"
     ]
    },
    {
     "name": "stdout",
     "output_type": "stream",
     "text": [
      " 267/1202 [=====>........................] - ETA: 1:02 - loss: 5.8719 - accuracy: 0.0870"
     ]
    },
    {
     "name": "stderr",
     "output_type": "stream",
     "text": [
      "[codecarbon INFO @ 22:54:51] Energy consumed for RAM : 0.000314 kWh. RAM Power : 5.796770095825195 W\n",
      "[codecarbon INFO @ 22:54:51] Energy consumed for all CPUs : 0.000406 kWh. Total CPU Power : 7.5 W\n",
      "[codecarbon INFO @ 22:54:51] 0.000720 kWh of electricity used since the beginning.\n"
     ]
    },
    {
     "name": "stdout",
     "output_type": "stream",
     "text": [
      " 492/1202 [===========>..................] - ETA: 47s - loss: 5.8763 - accuracy: 0.0871"
     ]
    },
    {
     "name": "stderr",
     "output_type": "stream",
     "text": [
      "[codecarbon INFO @ 22:55:06] Energy consumed for RAM : 0.000338 kWh. RAM Power : 5.796770095825195 W\n",
      "[codecarbon INFO @ 22:55:06] Energy consumed for all CPUs : 0.000437 kWh. Total CPU Power : 7.5 W\n",
      "[codecarbon INFO @ 22:55:06] 0.000776 kWh of electricity used since the beginning.\n"
     ]
    },
    {
     "name": "stdout",
     "output_type": "stream",
     "text": [
      " 718/1202 [================>.............] - ETA: 32s - loss: 5.8749 - accuracy: 0.0887"
     ]
    },
    {
     "name": "stderr",
     "output_type": "stream",
     "text": [
      "[codecarbon INFO @ 22:55:21] Energy consumed for RAM : 0.000362 kWh. RAM Power : 5.796770095825195 W\n",
      "[codecarbon INFO @ 22:55:21] Energy consumed for all CPUs : 0.000469 kWh. Total CPU Power : 7.5 W\n",
      "[codecarbon INFO @ 22:55:21] 0.000831 kWh of electricity used since the beginning.\n"
     ]
    },
    {
     "name": "stdout",
     "output_type": "stream",
     "text": [
      " 943/1202 [======================>.......] - ETA: 17s - loss: 5.8698 - accuracy: 0.0896"
     ]
    },
    {
     "name": "stderr",
     "output_type": "stream",
     "text": [
      "[codecarbon INFO @ 22:55:36] Energy consumed for RAM : 0.000386 kWh. RAM Power : 5.796770095825195 W\n",
      "[codecarbon INFO @ 22:55:36] Energy consumed for all CPUs : 0.000500 kWh. Total CPU Power : 7.5 W\n",
      "[codecarbon INFO @ 22:55:36] 0.000886 kWh of electricity used since the beginning.\n"
     ]
    },
    {
     "name": "stdout",
     "output_type": "stream",
     "text": [
      "1168/1202 [============================>.] - ETA: 2s - loss: 5.8647 - accuracy: 0.0913"
     ]
    },
    {
     "name": "stderr",
     "output_type": "stream",
     "text": [
      "[codecarbon INFO @ 22:55:51] Energy consumed for RAM : 0.000410 kWh. RAM Power : 5.796770095825195 W\n"
     ]
    },
    {
     "name": "stdout",
     "output_type": "stream",
     "text": [
      "1169/1202 [============================>.] - ETA: 2s - loss: 5.8647 - accuracy: 0.0913"
     ]
    },
    {
     "name": "stderr",
     "output_type": "stream",
     "text": [
      "[codecarbon INFO @ 22:55:51] Energy consumed for all CPUs : 0.000531 kWh. Total CPU Power : 7.5 W\n",
      "[codecarbon INFO @ 22:55:51] 0.000942 kWh of electricity used since the beginning.\n"
     ]
    },
    {
     "name": "stdout",
     "output_type": "stream",
     "text": [
      "1202/1202 [==============================] - ETA: 0s - loss: 5.8644 - accuracy: 0.0916\n",
      "Epoch 3: accuracy improved from 0.07488 to 0.09157, saving model to model/weights-QuijoteNLP.hdf5\n",
      "1202/1202 [==============================] - 80s 67ms/step - loss: 5.8644 - accuracy: 0.0916\n",
      "Epoch 4/70\n",
      " 191/1202 [===>..........................] - ETA: 1:07 - loss: 5.6845 - accuracy: 0.1053"
     ]
    },
    {
     "name": "stderr",
     "output_type": "stream",
     "text": [
      "[codecarbon INFO @ 22:56:06] Energy consumed for RAM : 0.000435 kWh. RAM Power : 5.796770095825195 W\n",
      "[codecarbon INFO @ 22:56:06] Energy consumed for all CPUs : 0.000562 kWh. Total CPU Power : 7.5 W\n",
      "[codecarbon INFO @ 22:56:06] 0.000997 kWh of electricity used since the beginning.\n"
     ]
    },
    {
     "name": "stdout",
     "output_type": "stream",
     "text": [
      " 416/1202 [=========>....................] - ETA: 52s - loss: 5.6757 - accuracy: 0.1076"
     ]
    },
    {
     "name": "stderr",
     "output_type": "stream",
     "text": [
      "[codecarbon INFO @ 22:56:21] Energy consumed for RAM : 0.000459 kWh. RAM Power : 5.796770095825195 W\n",
      "[codecarbon INFO @ 22:56:21] Energy consumed for all CPUs : 0.000594 kWh. Total CPU Power : 7.5 W\n",
      "[codecarbon INFO @ 22:56:21] 0.001052 kWh of electricity used since the beginning.\n"
     ]
    },
    {
     "name": "stdout",
     "output_type": "stream",
     "text": [
      " 642/1202 [===============>..............] - ETA: 37s - loss: 5.6696 - accuracy: 0.1075"
     ]
    },
    {
     "name": "stderr",
     "output_type": "stream",
     "text": [
      "[codecarbon INFO @ 22:56:36] Energy consumed for RAM : 0.000483 kWh. RAM Power : 5.796770095825195 W\n",
      "[codecarbon INFO @ 22:56:36] Energy consumed for all CPUs : 0.000625 kWh. Total CPU Power : 7.5 W\n",
      "[codecarbon INFO @ 22:56:36] 0.001108 kWh of electricity used since the beginning.\n"
     ]
    },
    {
     "name": "stdout",
     "output_type": "stream",
     "text": [
      " 868/1202 [====================>.........] - ETA: 22s - loss: 5.6782 - accuracy: 0.1075"
     ]
    },
    {
     "name": "stderr",
     "output_type": "stream",
     "text": [
      "[codecarbon INFO @ 22:56:51] Energy consumed for RAM : 0.000507 kWh. RAM Power : 5.796770095825195 W\n",
      "[codecarbon INFO @ 22:56:51] Energy consumed for all CPUs : 0.000656 kWh. Total CPU Power : 7.5 W\n",
      "[codecarbon INFO @ 22:56:51] 0.001163 kWh of electricity used since the beginning.\n"
     ]
    },
    {
     "name": "stdout",
     "output_type": "stream",
     "text": [
      "1094/1202 [==========================>...] - ETA: 7s - loss: 5.6754 - accuracy: 0.1074"
     ]
    },
    {
     "name": "stderr",
     "output_type": "stream",
     "text": [
      "[codecarbon INFO @ 22:57:06] Energy consumed for RAM : 0.000531 kWh. RAM Power : 5.796770095825195 W\n",
      "[codecarbon INFO @ 22:57:06] Energy consumed for all CPUs : 0.000687 kWh. Total CPU Power : 7.5 W\n",
      "[codecarbon INFO @ 22:57:06] 0.001219 kWh of electricity used since the beginning.\n"
     ]
    },
    {
     "name": "stdout",
     "output_type": "stream",
     "text": [
      "1202/1202 [==============================] - ETA: 0s - loss: 5.6733 - accuracy: 0.1076\n",
      "Epoch 4: accuracy improved from 0.09157 to 0.10756, saving model to model/weights-QuijoteNLP.hdf5\n",
      "1202/1202 [==============================] - 80s 66ms/step - loss: 5.6733 - accuracy: 0.1076\n",
      "Epoch 5/70\n",
      " 116/1202 [=>............................] - ETA: 1:12 - loss: 5.4835 - accuracy: 0.1211"
     ]
    },
    {
     "name": "stderr",
     "output_type": "stream",
     "text": [
      "[codecarbon INFO @ 22:57:21] Energy consumed for RAM : 0.000555 kWh. RAM Power : 5.796770095825195 W\n",
      "[codecarbon INFO @ 22:57:21] Energy consumed for all CPUs : 0.000719 kWh. Total CPU Power : 7.5 W\n",
      "[codecarbon INFO @ 22:57:21] 0.001274 kWh of electricity used since the beginning.\n"
     ]
    },
    {
     "name": "stdout",
     "output_type": "stream",
     "text": [
      " 345/1202 [=======>......................] - ETA: 56s - loss: 5.4830 - accuracy: 0.1205"
     ]
    },
    {
     "name": "stderr",
     "output_type": "stream",
     "text": [
      "[codecarbon INFO @ 22:57:36] Energy consumed for RAM : 0.000580 kWh. RAM Power : 5.796770095825195 W\n",
      "[codecarbon INFO @ 22:57:36] Energy consumed for all CPUs : 0.000750 kWh. Total CPU Power : 7.5 W\n",
      "[codecarbon INFO @ 22:57:36] 0.001329 kWh of electricity used since the beginning.\n"
     ]
    },
    {
     "name": "stdout",
     "output_type": "stream",
     "text": [
      " 573/1202 [=============>................] - ETA: 41s - loss: 5.4976 - accuracy: 0.1192"
     ]
    },
    {
     "name": "stderr",
     "output_type": "stream",
     "text": [
      "[codecarbon INFO @ 22:57:51] Energy consumed for RAM : 0.000604 kWh. RAM Power : 5.796770095825195 W\n",
      "[codecarbon INFO @ 22:57:51] Energy consumed for all CPUs : 0.000781 kWh. Total CPU Power : 7.5 W\n",
      "[codecarbon INFO @ 22:57:51] 0.001385 kWh of electricity used since the beginning.\n"
     ]
    },
    {
     "name": "stdout",
     "output_type": "stream",
     "text": [
      " 799/1202 [==================>...........] - ETA: 26s - loss: 5.5159 - accuracy: 0.1180"
     ]
    },
    {
     "name": "stderr",
     "output_type": "stream",
     "text": [
      "[codecarbon INFO @ 22:58:06] Energy consumed for RAM : 0.000628 kWh. RAM Power : 5.796770095825195 W\n",
      "[codecarbon INFO @ 22:58:06] Energy consumed for all CPUs : 0.000812 kWh. Total CPU Power : 7.5 W\n",
      "[codecarbon INFO @ 22:58:06] 0.001440 kWh of electricity used since the beginning.\n"
     ]
    },
    {
     "name": "stdout",
     "output_type": "stream",
     "text": [
      "1027/1202 [========================>.....] - ETA: 11s - loss: 5.5229 - accuracy: 0.1179"
     ]
    },
    {
     "name": "stderr",
     "output_type": "stream",
     "text": [
      "[codecarbon INFO @ 22:58:21] Energy consumed for RAM : 0.000652 kWh. RAM Power : 5.796770095825195 W\n",
      "[codecarbon INFO @ 22:58:21] Energy consumed for all CPUs : 0.000844 kWh. Total CPU Power : 7.5 W\n",
      "[codecarbon INFO @ 22:58:21] 0.001496 kWh of electricity used since the beginning.\n"
     ]
    },
    {
     "name": "stdout",
     "output_type": "stream",
     "text": [
      "1202/1202 [==============================] - ETA: 0s - loss: 5.5225 - accuracy: 0.1185\n",
      "Epoch 5: accuracy improved from 0.10756 to 0.11848, saving model to model/weights-QuijoteNLP.hdf5\n",
      "1202/1202 [==============================] - 79s 66ms/step - loss: 5.5225 - accuracy: 0.1185\n",
      "Epoch 6/70\n",
      "  51/1202 [>.............................] - ETA: 1:15 - loss: 5.3377 - accuracy: 0.1336"
     ]
    },
    {
     "name": "stderr",
     "output_type": "stream",
     "text": [
      "[codecarbon INFO @ 22:58:36] Energy consumed for RAM : 0.000676 kWh. RAM Power : 5.796770095825195 W\n",
      "[codecarbon INFO @ 22:58:36] Energy consumed for all CPUs : 0.000875 kWh. Total CPU Power : 7.5 W\n",
      "[codecarbon INFO @ 22:58:36] 0.001551 kWh of electricity used since the beginning.\n"
     ]
    },
    {
     "name": "stdout",
     "output_type": "stream",
     "text": [
      " 279/1202 [=====>........................] - ETA: 1:00 - loss: 5.3810 - accuracy: 0.1274"
     ]
    },
    {
     "name": "stderr",
     "output_type": "stream",
     "text": [
      "[codecarbon INFO @ 22:58:51] Energy consumed for RAM : 0.000700 kWh. RAM Power : 5.796770095825195 W\n",
      "[codecarbon INFO @ 22:58:51] Energy consumed for all CPUs : 0.000906 kWh. Total CPU Power : 7.5 W\n",
      "[codecarbon INFO @ 22:58:51] 0.001606 kWh of electricity used since the beginning.\n"
     ]
    },
    {
     "name": "stdout",
     "output_type": "stream",
     "text": [
      " 507/1202 [===========>..................] - ETA: 45s - loss: 5.3902 - accuracy: 0.1266"
     ]
    },
    {
     "name": "stderr",
     "output_type": "stream",
     "text": [
      "[codecarbon INFO @ 22:59:06] Energy consumed for RAM : 0.000724 kWh. RAM Power : 5.796770095825195 W\n",
      "[codecarbon INFO @ 22:59:06] Energy consumed for all CPUs : 0.000937 kWh. Total CPU Power : 7.5 W\n",
      "[codecarbon INFO @ 22:59:06] 0.001662 kWh of electricity used since the beginning.\n"
     ]
    },
    {
     "name": "stdout",
     "output_type": "stream",
     "text": [
      " 734/1202 [=================>............] - ETA: 30s - loss: 5.3921 - accuracy: 0.1263"
     ]
    },
    {
     "name": "stderr",
     "output_type": "stream",
     "text": [
      "[codecarbon INFO @ 22:59:21] Energy consumed for RAM : 0.000749 kWh. RAM Power : 5.796770095825195 W\n",
      "[codecarbon INFO @ 22:59:21] Energy consumed for all CPUs : 0.000969 kWh. Total CPU Power : 7.5 W\n",
      "[codecarbon INFO @ 22:59:21] 0.001717 kWh of electricity used since the beginning.\n"
     ]
    },
    {
     "name": "stdout",
     "output_type": "stream",
     "text": [
      " 961/1202 [======================>.......] - ETA: 15s - loss: 5.3976 - accuracy: 0.1271"
     ]
    },
    {
     "name": "stderr",
     "output_type": "stream",
     "text": [
      "[codecarbon INFO @ 22:59:36] Energy consumed for RAM : 0.000773 kWh. RAM Power : 5.796770095825195 W\n",
      "[codecarbon INFO @ 22:59:36] Energy consumed for all CPUs : 0.001000 kWh. Total CPU Power : 7.5 W\n",
      "[codecarbon INFO @ 22:59:36] 0.001773 kWh of electricity used since the beginning.\n"
     ]
    },
    {
     "name": "stdout",
     "output_type": "stream",
     "text": [
      "1188/1202 [============================>.] - ETA: 0s - loss: 5.3999 - accuracy: 0.1270"
     ]
    },
    {
     "name": "stderr",
     "output_type": "stream",
     "text": [
      "[codecarbon INFO @ 22:59:51] Energy consumed for RAM : 0.000797 kWh. RAM Power : 5.796770095825195 W\n",
      "[codecarbon INFO @ 22:59:51] Energy consumed for all CPUs : 0.001031 kWh. Total CPU Power : 7.5 W\n",
      "[codecarbon INFO @ 22:59:51] 0.001828 kWh of electricity used since the beginning.\n"
     ]
    },
    {
     "name": "stdout",
     "output_type": "stream",
     "text": [
      "1202/1202 [==============================] - ETA: 0s - loss: 5.3990 - accuracy: 0.1270\n",
      "Epoch 6: accuracy improved from 0.11848 to 0.12701, saving model to model/weights-QuijoteNLP.hdf5\n",
      "1202/1202 [==============================] - 79s 66ms/step - loss: 5.3990 - accuracy: 0.1270\n",
      "Epoch 7/70\n",
      " 212/1202 [====>.........................] - ETA: 1:05 - loss: 5.2489 - accuracy: 0.1365"
     ]
    },
    {
     "name": "stderr",
     "output_type": "stream",
     "text": [
      "[codecarbon INFO @ 23:00:06] Energy consumed for RAM : 0.000821 kWh. RAM Power : 5.796770095825195 W\n",
      "[codecarbon INFO @ 23:00:06] Energy consumed for all CPUs : 0.001062 kWh. Total CPU Power : 7.5 W\n",
      "[codecarbon INFO @ 23:00:06] 0.001883 kWh of electricity used since the beginning.\n"
     ]
    },
    {
     "name": "stdout",
     "output_type": "stream",
     "text": [
      " 440/1202 [=========>....................] - ETA: 50s - loss: 5.2600 - accuracy: 0.1351"
     ]
    },
    {
     "name": "stderr",
     "output_type": "stream",
     "text": [
      "[codecarbon INFO @ 23:00:21] Energy consumed for RAM : 0.000845 kWh. RAM Power : 5.796770095825195 W\n",
      "[codecarbon INFO @ 23:00:21] Energy consumed for all CPUs : 0.001094 kWh. Total CPU Power : 7.5 W\n",
      "[codecarbon INFO @ 23:00:21] 0.001939 kWh of electricity used since the beginning.\n"
     ]
    },
    {
     "name": "stdout",
     "output_type": "stream",
     "text": [
      " 666/1202 [===============>..............] - ETA: 35s - loss: 5.2770 - accuracy: 0.1353"
     ]
    },
    {
     "name": "stderr",
     "output_type": "stream",
     "text": [
      "[codecarbon INFO @ 23:00:36] Energy consumed for RAM : 0.000869 kWh. RAM Power : 5.796770095825195 W\n",
      "[codecarbon INFO @ 23:00:36] Energy consumed for all CPUs : 0.001125 kWh. Total CPU Power : 7.5 W\n",
      "[codecarbon INFO @ 23:00:36] 0.001994 kWh of electricity used since the beginning.\n"
     ]
    },
    {
     "name": "stdout",
     "output_type": "stream",
     "text": [
      " 894/1202 [=====================>........] - ETA: 20s - loss: 5.2875 - accuracy: 0.1339"
     ]
    },
    {
     "name": "stderr",
     "output_type": "stream",
     "text": [
      "[codecarbon INFO @ 23:00:51] Energy consumed for RAM : 0.000893 kWh. RAM Power : 5.796770095825195 W\n",
      "[codecarbon INFO @ 23:00:51] Energy consumed for all CPUs : 0.001156 kWh. Total CPU Power : 7.5 W\n",
      "[codecarbon INFO @ 23:00:51] 0.002050 kWh of electricity used since the beginning.\n"
     ]
    },
    {
     "name": "stdout",
     "output_type": "stream",
     "text": [
      "1121/1202 [==========================>...] - ETA: 5s - loss: 5.2920 - accuracy: 0.1345"
     ]
    },
    {
     "name": "stderr",
     "output_type": "stream",
     "text": [
      "[codecarbon INFO @ 23:01:06] Energy consumed for RAM : 0.000918 kWh. RAM Power : 5.796770095825195 W\n",
      "[codecarbon INFO @ 23:01:06] Energy consumed for all CPUs : 0.001187 kWh. Total CPU Power : 7.5 W\n",
      "[codecarbon INFO @ 23:01:06] 0.002105 kWh of electricity used since the beginning.\n"
     ]
    },
    {
     "name": "stdout",
     "output_type": "stream",
     "text": [
      "1202/1202 [==============================] - ETA: 0s - loss: 5.2939 - accuracy: 0.1343\n",
      "Epoch 7: accuracy improved from 0.12701 to 0.13432, saving model to model/weights-QuijoteNLP.hdf5\n",
      "1202/1202 [==============================] - 79s 66ms/step - loss: 5.2939 - accuracy: 0.1343\n",
      "Epoch 8/70\n",
      " 145/1202 [==>...........................] - ETA: 1:10 - loss: 5.1528 - accuracy: 0.1432"
     ]
    },
    {
     "name": "stderr",
     "output_type": "stream",
     "text": [
      "[codecarbon INFO @ 23:01:21] Energy consumed for RAM : 0.000942 kWh. RAM Power : 5.796770095825195 W\n",
      "[codecarbon INFO @ 23:01:21] Energy consumed for all CPUs : 0.001219 kWh. Total CPU Power : 7.5 W\n",
      "[codecarbon INFO @ 23:01:21] 0.002160 kWh of electricity used since the beginning.\n"
     ]
    },
    {
     "name": "stdout",
     "output_type": "stream",
     "text": [
      " 373/1202 [========>.....................] - ETA: 54s - loss: 5.1679 - accuracy: 0.1410"
     ]
    },
    {
     "name": "stderr",
     "output_type": "stream",
     "text": [
      "[codecarbon INFO @ 23:01:36] Energy consumed for RAM : 0.000966 kWh. RAM Power : 5.796770095825195 W\n",
      "[codecarbon INFO @ 23:01:36] Energy consumed for all CPUs : 0.001250 kWh. Total CPU Power : 7.5 W\n",
      "[codecarbon INFO @ 23:01:36] 0.002216 kWh of electricity used since the beginning.\n"
     ]
    },
    {
     "name": "stdout",
     "output_type": "stream",
     "text": [
      " 601/1202 [==============>...............] - ETA: 39s - loss: 5.1827 - accuracy: 0.1414"
     ]
    },
    {
     "name": "stderr",
     "output_type": "stream",
     "text": [
      "[codecarbon INFO @ 23:01:51] Energy consumed for RAM : 0.000990 kWh. RAM Power : 5.796770095825195 W\n",
      "[codecarbon INFO @ 23:01:51] Energy consumed for all CPUs : 0.001281 kWh. Total CPU Power : 7.5 W\n",
      "[codecarbon INFO @ 23:01:51] 0.002271 kWh of electricity used since the beginning.\n"
     ]
    },
    {
     "name": "stdout",
     "output_type": "stream",
     "text": [
      " 827/1202 [===================>..........] - ETA: 24s - loss: 5.1894 - accuracy: 0.1411"
     ]
    },
    {
     "name": "stderr",
     "output_type": "stream",
     "text": [
      "[codecarbon INFO @ 23:02:06] Energy consumed for RAM : 0.001014 kWh. RAM Power : 5.796770095825195 W\n"
     ]
    },
    {
     "name": "stdout",
     "output_type": "stream",
     "text": [
      " 828/1202 [===================>..........] - ETA: 24s - loss: 5.1895 - accuracy: 0.1411"
     ]
    },
    {
     "name": "stderr",
     "output_type": "stream",
     "text": [
      "[codecarbon INFO @ 23:02:06] Energy consumed for all CPUs : 0.001312 kWh. Total CPU Power : 7.5 W\n",
      "[codecarbon INFO @ 23:02:06] 0.002326 kWh of electricity used since the beginning.\n"
     ]
    },
    {
     "name": "stdout",
     "output_type": "stream",
     "text": [
      "1055/1202 [=========================>....] - ETA: 9s - loss: 5.1995 - accuracy: 0.1401"
     ]
    },
    {
     "name": "stderr",
     "output_type": "stream",
     "text": [
      "[codecarbon INFO @ 23:02:21] Energy consumed for RAM : 0.001038 kWh. RAM Power : 5.796770095825195 W\n",
      "[codecarbon INFO @ 23:02:21] Energy consumed for all CPUs : 0.001344 kWh. Total CPU Power : 7.5 W\n",
      "[codecarbon INFO @ 23:02:21] 0.002382 kWh of electricity used since the beginning.\n"
     ]
    },
    {
     "name": "stdout",
     "output_type": "stream",
     "text": [
      "1202/1202 [==============================] - ETA: 0s - loss: 5.2015 - accuracy: 0.1403\n",
      "Epoch 8: accuracy improved from 0.13432 to 0.14026, saving model to model/weights-QuijoteNLP.hdf5\n",
      "1202/1202 [==============================] - 79s 66ms/step - loss: 5.2015 - accuracy: 0.1403\n",
      "Epoch 9/70\n",
      "  79/1202 [>.............................] - ETA: 1:13 - loss: 5.1570 - accuracy: 0.1384"
     ]
    },
    {
     "name": "stderr",
     "output_type": "stream",
     "text": [
      "[codecarbon INFO @ 23:02:36] Energy consumed for RAM : 0.001062 kWh. RAM Power : 5.796770095825195 W\n",
      "[codecarbon INFO @ 23:02:36] Energy consumed for all CPUs : 0.001375 kWh. Total CPU Power : 7.5 W\n",
      "[codecarbon INFO @ 23:02:36] 0.002437 kWh of electricity used since the beginning.\n"
     ]
    },
    {
     "name": "stdout",
     "output_type": "stream",
     "text": [
      " 306/1202 [======>.......................] - ETA: 59s - loss: 5.1114 - accuracy: 0.1416"
     ]
    },
    {
     "name": "stderr",
     "output_type": "stream",
     "text": [
      "[codecarbon INFO @ 23:02:51] Energy consumed for RAM : 0.001087 kWh. RAM Power : 5.796770095825195 W\n",
      "[codecarbon INFO @ 23:02:51] Energy consumed for all CPUs : 0.001406 kWh. Total CPU Power : 7.5 W\n",
      "[codecarbon INFO @ 23:02:51] 0.002493 kWh of electricity used since the beginning.\n"
     ]
    },
    {
     "name": "stdout",
     "output_type": "stream",
     "text": [
      " 532/1202 [============>.................] - ETA: 44s - loss: 5.1103 - accuracy: 0.1437"
     ]
    },
    {
     "name": "stderr",
     "output_type": "stream",
     "text": [
      "[codecarbon INFO @ 23:03:06] Energy consumed for RAM : 0.001111 kWh. RAM Power : 5.796770095825195 W\n",
      "[codecarbon INFO @ 23:03:06] Energy consumed for all CPUs : 0.001437 kWh. Total CPU Power : 7.5 W\n",
      "[codecarbon INFO @ 23:03:06] 0.002548 kWh of electricity used since the beginning.\n"
     ]
    },
    {
     "name": "stdout",
     "output_type": "stream",
     "text": [
      " 759/1202 [=================>............] - ETA: 29s - loss: 5.1053 - accuracy: 0.1449"
     ]
    },
    {
     "name": "stderr",
     "output_type": "stream",
     "text": [
      "[codecarbon INFO @ 23:03:21] Energy consumed for RAM : 0.001135 kWh. RAM Power : 5.796770095825195 W\n",
      "[codecarbon INFO @ 23:03:21] Energy consumed for all CPUs : 0.001469 kWh. Total CPU Power : 7.5 W\n",
      "[codecarbon INFO @ 23:03:21] 0.002603 kWh of electricity used since the beginning.\n"
     ]
    },
    {
     "name": "stdout",
     "output_type": "stream",
     "text": [
      " 986/1202 [=======================>......] - ETA: 14s - loss: 5.1098 - accuracy: 0.1446"
     ]
    },
    {
     "name": "stderr",
     "output_type": "stream",
     "text": [
      "[codecarbon INFO @ 23:03:36] Energy consumed for RAM : 0.001159 kWh. RAM Power : 5.796770095825195 W\n",
      "[codecarbon INFO @ 23:03:36] Energy consumed for all CPUs : 0.001500 kWh. Total CPU Power : 7.5 W\n",
      "[codecarbon INFO @ 23:03:36] 0.002659 kWh of electricity used since the beginning.\n"
     ]
    },
    {
     "name": "stdout",
     "output_type": "stream",
     "text": [
      "1202/1202 [==============================] - ETA: 0s - loss: 5.1165 - accuracy: 0.1448\n",
      "Epoch 9: accuracy improved from 0.14026 to 0.14478, saving model to model/weights-QuijoteNLP.hdf5\n",
      "1202/1202 [==============================] - 80s 66ms/step - loss: 5.1165 - accuracy: 0.1448\n",
      "Epoch 10/70\n",
      "   9/1202 [..............................] - ETA: 1:17 - loss: 5.0356 - accuracy: 0.1415"
     ]
    },
    {
     "name": "stderr",
     "output_type": "stream",
     "text": [
      "[codecarbon INFO @ 23:03:51] Energy consumed for RAM : 0.001183 kWh. RAM Power : 5.796770095825195 W\n",
      "[codecarbon INFO @ 23:03:51] Energy consumed for all CPUs : 0.001531 kWh. Total CPU Power : 7.5 W\n",
      "[codecarbon INFO @ 23:03:51] 0.002714 kWh of electricity used since the beginning.\n"
     ]
    },
    {
     "name": "stdout",
     "output_type": "stream",
     "text": [
      " 236/1202 [====>.........................] - ETA: 1:03 - loss: 5.0134 - accuracy: 0.1493"
     ]
    },
    {
     "name": "stderr",
     "output_type": "stream",
     "text": [
      "[codecarbon INFO @ 23:04:06] Energy consumed for RAM : 0.001207 kWh. RAM Power : 5.796770095825195 W\n",
      "[codecarbon INFO @ 23:04:06] Energy consumed for all CPUs : 0.001562 kWh. Total CPU Power : 7.5 W\n",
      "[codecarbon INFO @ 23:04:06] 0.002770 kWh of electricity used since the beginning.\n"
     ]
    },
    {
     "name": "stdout",
     "output_type": "stream",
     "text": [
      " 462/1202 [==========>...................] - ETA: 48s - loss: 5.0211 - accuracy: 0.1487"
     ]
    },
    {
     "name": "stderr",
     "output_type": "stream",
     "text": [
      "[codecarbon INFO @ 23:04:21] Energy consumed for RAM : 0.001231 kWh. RAM Power : 5.796770095825195 W\n",
      "[codecarbon INFO @ 23:04:21] Energy consumed for all CPUs : 0.001594 kWh. Total CPU Power : 7.5 W\n",
      "[codecarbon INFO @ 23:04:21] 0.002825 kWh of electricity used since the beginning.\n"
     ]
    },
    {
     "name": "stdout",
     "output_type": "stream",
     "text": [
      " 690/1202 [================>.............] - ETA: 33s - loss: 5.0286 - accuracy: 0.1484"
     ]
    },
    {
     "name": "stderr",
     "output_type": "stream",
     "text": [
      "[codecarbon INFO @ 23:04:36] Energy consumed for RAM : 0.001256 kWh. RAM Power : 5.796770095825195 W\n",
      "[codecarbon INFO @ 23:04:36] Energy consumed for all CPUs : 0.001625 kWh. Total CPU Power : 7.5 W\n",
      "[codecarbon INFO @ 23:04:36] 0.002880 kWh of electricity used since the beginning.\n"
     ]
    },
    {
     "name": "stdout",
     "output_type": "stream",
     "text": [
      " 916/1202 [=====================>........] - ETA: 18s - loss: 5.0334 - accuracy: 0.1483"
     ]
    },
    {
     "name": "stderr",
     "output_type": "stream",
     "text": [
      "[codecarbon INFO @ 23:04:51] Energy consumed for RAM : 0.001280 kWh. RAM Power : 5.796770095825195 W\n",
      "[codecarbon INFO @ 23:04:51] Energy consumed for all CPUs : 0.001656 kWh. Total CPU Power : 7.5 W\n",
      "[codecarbon INFO @ 23:04:51] 0.002936 kWh of electricity used since the beginning.\n"
     ]
    },
    {
     "name": "stdout",
     "output_type": "stream",
     "text": [
      "1142/1202 [===========================>..] - ETA: 3s - loss: 5.0379 - accuracy: 0.1478"
     ]
    },
    {
     "name": "stderr",
     "output_type": "stream",
     "text": [
      "[codecarbon INFO @ 23:05:06] Energy consumed for RAM : 0.001304 kWh. RAM Power : 5.796770095825195 W\n",
      "[codecarbon INFO @ 23:05:06] Energy consumed for all CPUs : 0.001687 kWh. Total CPU Power : 7.5 W\n",
      "[codecarbon INFO @ 23:05:06] 0.002991 kWh of electricity used since the beginning.\n"
     ]
    },
    {
     "name": "stdout",
     "output_type": "stream",
     "text": [
      "1202/1202 [==============================] - ETA: 0s - loss: 5.0389 - accuracy: 0.1477\n",
      "Epoch 10: accuracy improved from 0.14478 to 0.14766, saving model to model/weights-QuijoteNLP.hdf5\n",
      "1202/1202 [==============================] - 80s 66ms/step - loss: 5.0389 - accuracy: 0.1477\n",
      "Epoch 11/70\n",
      " 167/1202 [===>..........................] - ETA: 1:08 - loss: 4.9093 - accuracy: 0.1541"
     ]
    },
    {
     "name": "stderr",
     "output_type": "stream",
     "text": [
      "[codecarbon INFO @ 23:05:21] Energy consumed for RAM : 0.001328 kWh. RAM Power : 5.796770095825195 W\n",
      "[codecarbon INFO @ 23:05:21] Energy consumed for all CPUs : 0.001719 kWh. Total CPU Power : 7.5 W\n",
      "[codecarbon INFO @ 23:05:21] 0.003047 kWh of electricity used since the beginning.\n"
     ]
    },
    {
     "name": "stdout",
     "output_type": "stream",
     "text": [
      " 394/1202 [========>.....................] - ETA: 53s - loss: 4.9211 - accuracy: 0.1538"
     ]
    },
    {
     "name": "stderr",
     "output_type": "stream",
     "text": [
      "[codecarbon INFO @ 23:05:36] Energy consumed for RAM : 0.001352 kWh. RAM Power : 5.796770095825195 W\n",
      "[codecarbon INFO @ 23:05:36] Energy consumed for all CPUs : 0.001750 kWh. Total CPU Power : 7.5 W\n",
      "[codecarbon INFO @ 23:05:36] 0.003102 kWh of electricity used since the beginning.\n"
     ]
    },
    {
     "name": "stdout",
     "output_type": "stream",
     "text": [
      " 623/1202 [==============>...............] - ETA: 38s - loss: 4.9364 - accuracy: 0.1528"
     ]
    },
    {
     "name": "stderr",
     "output_type": "stream",
     "text": [
      "[codecarbon INFO @ 23:05:51] Energy consumed for RAM : 0.001376 kWh. RAM Power : 5.796770095825195 W\n",
      "[codecarbon INFO @ 23:05:51] Energy consumed for all CPUs : 0.001781 kWh. Total CPU Power : 7.5 W\n",
      "[codecarbon INFO @ 23:05:51] 0.003157 kWh of electricity used since the beginning.\n"
     ]
    },
    {
     "name": "stdout",
     "output_type": "stream",
     "text": [
      " 850/1202 [====================>.........] - ETA: 23s - loss: 4.9474 - accuracy: 0.1527"
     ]
    },
    {
     "name": "stderr",
     "output_type": "stream",
     "text": [
      "[codecarbon INFO @ 23:06:06] Energy consumed for RAM : 0.001400 kWh. RAM Power : 5.796770095825195 W\n",
      "[codecarbon INFO @ 23:06:06] Energy consumed for all CPUs : 0.001812 kWh. Total CPU Power : 7.5 W\n",
      "[codecarbon INFO @ 23:06:06] 0.003213 kWh of electricity used since the beginning.\n"
     ]
    },
    {
     "name": "stdout",
     "output_type": "stream",
     "text": [
      "1077/1202 [=========================>....] - ETA: 8s - loss: 4.9598 - accuracy: 0.1520"
     ]
    },
    {
     "name": "stderr",
     "output_type": "stream",
     "text": [
      "[codecarbon INFO @ 23:06:21] Energy consumed for RAM : 0.001425 kWh. RAM Power : 5.796770095825195 W\n",
      "[codecarbon INFO @ 23:06:21] Energy consumed for all CPUs : 0.001844 kWh. Total CPU Power : 7.5 W\n",
      "[codecarbon INFO @ 23:06:21] 0.003268 kWh of electricity used since the beginning.\n"
     ]
    },
    {
     "name": "stdout",
     "output_type": "stream",
     "text": [
      "1202/1202 [==============================] - ETA: 0s - loss: 4.9632 - accuracy: 0.1517\n",
      "Epoch 11: accuracy improved from 0.14766 to 0.15166, saving model to model/weights-QuijoteNLP.hdf5\n",
      "1202/1202 [==============================] - 79s 66ms/step - loss: 4.9632 - accuracy: 0.1517\n",
      "Epoch 12/70\n",
      " 100/1202 [=>............................] - ETA: 1:12 - loss: 4.8717 - accuracy: 0.1590"
     ]
    },
    {
     "name": "stderr",
     "output_type": "stream",
     "text": [
      "[codecarbon INFO @ 23:06:36] Energy consumed for RAM : 0.001449 kWh. RAM Power : 5.796770095825195 W\n",
      "[codecarbon INFO @ 23:06:36] Energy consumed for all CPUs : 0.001875 kWh. Total CPU Power : 7.5 W\n",
      "[codecarbon INFO @ 23:06:36] 0.003323 kWh of electricity used since the beginning.\n"
     ]
    },
    {
     "name": "stdout",
     "output_type": "stream",
     "text": [
      " 329/1202 [=======>......................] - ETA: 57s - loss: 4.8810 - accuracy: 0.1593"
     ]
    },
    {
     "name": "stderr",
     "output_type": "stream",
     "text": [
      "[codecarbon INFO @ 23:06:51] Energy consumed for RAM : 0.001473 kWh. RAM Power : 5.796770095825195 W\n",
      "[codecarbon INFO @ 23:06:51] Energy consumed for all CPUs : 0.001906 kWh. Total CPU Power : 7.5 W\n",
      "[codecarbon INFO @ 23:06:51] 0.003379 kWh of electricity used since the beginning.\n"
     ]
    },
    {
     "name": "stdout",
     "output_type": "stream",
     "text": [
      " 555/1202 [============>.................] - ETA: 42s - loss: 4.8856 - accuracy: 0.1558"
     ]
    },
    {
     "name": "stderr",
     "output_type": "stream",
     "text": [
      "[codecarbon INFO @ 23:07:06] Energy consumed for RAM : 0.001497 kWh. RAM Power : 5.796770095825195 W\n",
      "[codecarbon INFO @ 23:07:06] Energy consumed for all CPUs : 0.001937 kWh. Total CPU Power : 7.5 W\n",
      "[codecarbon INFO @ 23:07:06] 0.003434 kWh of electricity used since the beginning.\n"
     ]
    },
    {
     "name": "stdout",
     "output_type": "stream",
     "text": [
      " 782/1202 [==================>...........] - ETA: 27s - loss: 4.8862 - accuracy: 0.1556"
     ]
    },
    {
     "name": "stderr",
     "output_type": "stream",
     "text": [
      "[codecarbon INFO @ 23:07:21] Energy consumed for RAM : 0.001521 kWh. RAM Power : 5.796770095825195 W\n",
      "[codecarbon INFO @ 23:07:21] Energy consumed for all CPUs : 0.001969 kWh. Total CPU Power : 7.5 W\n",
      "[codecarbon INFO @ 23:07:21] 0.003490 kWh of electricity used since the beginning.\n"
     ]
    },
    {
     "name": "stdout",
     "output_type": "stream",
     "text": [
      "1008/1202 [========================>.....] - ETA: 12s - loss: 4.8910 - accuracy: 0.1545"
     ]
    },
    {
     "name": "stderr",
     "output_type": "stream",
     "text": [
      "[codecarbon INFO @ 23:07:36] Energy consumed for RAM : 0.001545 kWh. RAM Power : 5.796770095825195 W\n",
      "[codecarbon INFO @ 23:07:36] Energy consumed for all CPUs : 0.002000 kWh. Total CPU Power : 7.5 W\n",
      "[codecarbon INFO @ 23:07:36] 0.003545 kWh of electricity used since the beginning.\n"
     ]
    },
    {
     "name": "stdout",
     "output_type": "stream",
     "text": [
      "1202/1202 [==============================] - ETA: 0s - loss: 4.8913 - accuracy: 0.1547\n",
      "Epoch 12: accuracy improved from 0.15166 to 0.15469, saving model to model/weights-QuijoteNLP.hdf5\n",
      "1202/1202 [==============================] - 80s 66ms/step - loss: 4.8913 - accuracy: 0.1547\n",
      "Epoch 13/70\n",
      "  32/1202 [..............................] - ETA: 1:16 - loss: 4.7669 - accuracy: 0.1621"
     ]
    },
    {
     "name": "stderr",
     "output_type": "stream",
     "text": [
      "[codecarbon INFO @ 23:07:51] Energy consumed for RAM : 0.001569 kWh. RAM Power : 5.796770095825195 W\n",
      "[codecarbon INFO @ 23:07:51] Energy consumed for all CPUs : 0.002031 kWh. Total CPU Power : 7.5 W\n",
      "[codecarbon INFO @ 23:07:51] 0.003600 kWh of electricity used since the beginning.\n"
     ]
    },
    {
     "name": "stdout",
     "output_type": "stream",
     "text": [
      " 258/1202 [=====>........................] - ETA: 1:02 - loss: 4.7724 - accuracy: 0.1601"
     ]
    },
    {
     "name": "stderr",
     "output_type": "stream",
     "text": [
      "[codecarbon INFO @ 23:08:06] Energy consumed for RAM : 0.001594 kWh. RAM Power : 5.796770095825195 W\n",
      "[codecarbon INFO @ 23:08:06] Energy consumed for all CPUs : 0.002062 kWh. Total CPU Power : 7.5 W\n",
      "[codecarbon INFO @ 23:08:06] 0.003656 kWh of electricity used since the beginning.\n"
     ]
    },
    {
     "name": "stdout",
     "output_type": "stream",
     "text": [
      " 486/1202 [===========>..................] - ETA: 47s - loss: 4.7845 - accuracy: 0.1599"
     ]
    },
    {
     "name": "stderr",
     "output_type": "stream",
     "text": [
      "[codecarbon INFO @ 23:08:21] Energy consumed for RAM : 0.001618 kWh. RAM Power : 5.796770095825195 W\n",
      "[codecarbon INFO @ 23:08:21] Energy consumed for all CPUs : 0.002093 kWh. Total CPU Power : 7.5 W\n",
      "[codecarbon INFO @ 23:08:21] 0.003711 kWh of electricity used since the beginning.\n"
     ]
    },
    {
     "name": "stdout",
     "output_type": "stream",
     "text": [
      " 713/1202 [================>.............] - ETA: 32s - loss: 4.7959 - accuracy: 0.1596"
     ]
    },
    {
     "name": "stderr",
     "output_type": "stream",
     "text": [
      "[codecarbon INFO @ 23:08:36] Energy consumed for RAM : 0.001642 kWh. RAM Power : 5.796770095825195 W\n",
      "[codecarbon INFO @ 23:08:36] Energy consumed for all CPUs : 0.002125 kWh. Total CPU Power : 7.5 W\n",
      "[codecarbon INFO @ 23:08:36] 0.003767 kWh of electricity used since the beginning.\n"
     ]
    },
    {
     "name": "stdout",
     "output_type": "stream",
     "text": [
      " 940/1202 [======================>.......] - ETA: 17s - loss: 4.8085 - accuracy: 0.1593"
     ]
    },
    {
     "name": "stderr",
     "output_type": "stream",
     "text": [
      "[codecarbon INFO @ 23:08:51] Energy consumed for RAM : 0.001666 kWh. RAM Power : 5.796770095825195 W\n",
      "[codecarbon INFO @ 23:08:51] Energy consumed for all CPUs : 0.002156 kWh. Total CPU Power : 7.5 W\n",
      "[codecarbon INFO @ 23:08:51] 0.003822 kWh of electricity used since the beginning.\n"
     ]
    },
    {
     "name": "stdout",
     "output_type": "stream",
     "text": [
      "1167/1202 [============================>.] - ETA: 2s - loss: 4.8212 - accuracy: 0.1587"
     ]
    },
    {
     "name": "stderr",
     "output_type": "stream",
     "text": [
      "[codecarbon INFO @ 23:09:06] Energy consumed for RAM : 0.001690 kWh. RAM Power : 5.796770095825195 W\n",
      "[codecarbon INFO @ 23:09:06] Energy consumed for all CPUs : 0.002187 kWh. Total CPU Power : 7.5 W\n",
      "[codecarbon INFO @ 23:09:06] 0.003877 kWh of electricity used since the beginning.\n"
     ]
    },
    {
     "name": "stdout",
     "output_type": "stream",
     "text": [
      "1202/1202 [==============================] - ETA: 0s - loss: 4.8225 - accuracy: 0.1586\n",
      "Epoch 13: accuracy improved from 0.15469 to 0.15860, saving model to model/weights-QuijoteNLP.hdf5\n",
      "1202/1202 [==============================] - 79s 66ms/step - loss: 4.8225 - accuracy: 0.1586\n",
      "Epoch 14/70\n",
      " 191/1202 [===>..........................] - ETA: 1:07 - loss: 4.7242 - accuracy: 0.1585"
     ]
    },
    {
     "name": "stderr",
     "output_type": "stream",
     "text": [
      "[codecarbon INFO @ 23:09:21] Energy consumed for RAM : 0.001714 kWh. RAM Power : 5.796770095825195 W\n",
      "[codecarbon INFO @ 23:09:21] Energy consumed for all CPUs : 0.002218 kWh. Total CPU Power : 7.5 W\n",
      "[codecarbon INFO @ 23:09:21] 0.003933 kWh of electricity used since the beginning.\n"
     ]
    },
    {
     "name": "stdout",
     "output_type": "stream",
     "text": [
      " 414/1202 [=========>....................] - ETA: 52s - loss: 4.7164 - accuracy: 0.1613"
     ]
    },
    {
     "name": "stderr",
     "output_type": "stream",
     "text": [
      "[codecarbon INFO @ 23:09:36] Energy consumed for RAM : 0.001738 kWh. RAM Power : 5.796770095825195 W\n",
      "[codecarbon INFO @ 23:09:36] Energy consumed for all CPUs : 0.002250 kWh. Total CPU Power : 7.5 W\n",
      "[codecarbon INFO @ 23:09:36] 0.003988 kWh of electricity used since the beginning.\n"
     ]
    },
    {
     "name": "stdout",
     "output_type": "stream",
     "text": [
      " 642/1202 [===============>..............] - ETA: 37s - loss: 4.7270 - accuracy: 0.1612"
     ]
    },
    {
     "name": "stderr",
     "output_type": "stream",
     "text": [
      "[codecarbon INFO @ 23:09:51] Energy consumed for RAM : 0.001763 kWh. RAM Power : 5.796770095825195 W\n",
      "[codecarbon INFO @ 23:09:51] Energy consumed for all CPUs : 0.002281 kWh. Total CPU Power : 7.5 W\n",
      "[codecarbon INFO @ 23:09:51] 0.004044 kWh of electricity used since the beginning.\n"
     ]
    },
    {
     "name": "stdout",
     "output_type": "stream",
     "text": [
      " 869/1202 [====================>.........] - ETA: 22s - loss: 4.7410 - accuracy: 0.1606"
     ]
    },
    {
     "name": "stderr",
     "output_type": "stream",
     "text": [
      "[codecarbon INFO @ 23:10:06] Energy consumed for RAM : 0.001787 kWh. RAM Power : 5.796770095825195 W\n",
      "[codecarbon INFO @ 23:10:06] Energy consumed for all CPUs : 0.002312 kWh. Total CPU Power : 7.5 W\n",
      "[codecarbon INFO @ 23:10:06] 0.004099 kWh of electricity used since the beginning.\n"
     ]
    },
    {
     "name": "stdout",
     "output_type": "stream",
     "text": [
      "1097/1202 [==========================>...] - ETA: 6s - loss: 4.7488 - accuracy: 0.1609"
     ]
    },
    {
     "name": "stderr",
     "output_type": "stream",
     "text": [
      "[codecarbon INFO @ 23:10:21] Energy consumed for RAM : 0.001811 kWh. RAM Power : 5.796770095825195 W\n",
      "[codecarbon INFO @ 23:10:21] Energy consumed for all CPUs : 0.002343 kWh. Total CPU Power : 7.5 W\n",
      "[codecarbon INFO @ 23:10:21] 0.004154 kWh of electricity used since the beginning.\n"
     ]
    },
    {
     "name": "stdout",
     "output_type": "stream",
     "text": [
      "1202/1202 [==============================] - ETA: 0s - loss: 4.7542 - accuracy: 0.1605\n",
      "Epoch 14: accuracy improved from 0.15860 to 0.16053, saving model to model/weights-QuijoteNLP.hdf5\n",
      "1202/1202 [==============================] - 80s 66ms/step - loss: 4.7542 - accuracy: 0.1605\n",
      "Epoch 15/70\n",
      " 120/1202 [=>............................] - ETA: 1:11 - loss: 4.6011 - accuracy: 0.1699"
     ]
    },
    {
     "name": "stderr",
     "output_type": "stream",
     "text": [
      "[codecarbon INFO @ 23:10:36] Energy consumed for RAM : 0.001835 kWh. RAM Power : 5.796770095825195 W\n",
      "[codecarbon INFO @ 23:10:36] Energy consumed for all CPUs : 0.002375 kWh. Total CPU Power : 7.5 W\n",
      "[codecarbon INFO @ 23:10:36] 0.004210 kWh of electricity used since the beginning.\n"
     ]
    },
    {
     "name": "stdout",
     "output_type": "stream",
     "text": [
      " 347/1202 [=======>......................] - ETA: 56s - loss: 4.6337 - accuracy: 0.1658"
     ]
    },
    {
     "name": "stderr",
     "output_type": "stream",
     "text": [
      "[codecarbon INFO @ 23:10:51] Energy consumed for RAM : 0.001859 kWh. RAM Power : 5.796770095825195 W\n",
      "[codecarbon INFO @ 23:10:51] Energy consumed for all CPUs : 0.002406 kWh. Total CPU Power : 7.5 W\n",
      "[codecarbon INFO @ 23:10:51] 0.004265 kWh of electricity used since the beginning.\n"
     ]
    },
    {
     "name": "stdout",
     "output_type": "stream",
     "text": [
      " 573/1202 [=============>................] - ETA: 41s - loss: 4.6536 - accuracy: 0.1647"
     ]
    },
    {
     "name": "stderr",
     "output_type": "stream",
     "text": [
      "[codecarbon INFO @ 23:11:06] Energy consumed for RAM : 0.001883 kWh. RAM Power : 5.796770095825195 W\n"
     ]
    },
    {
     "name": "stdout",
     "output_type": "stream",
     "text": [
      " 574/1202 [=============>................] - ETA: 41s - loss: 4.6542 - accuracy: 0.1647"
     ]
    },
    {
     "name": "stderr",
     "output_type": "stream",
     "text": [
      "[codecarbon INFO @ 23:11:06] Energy consumed for all CPUs : 0.002437 kWh. Total CPU Power : 7.5 W\n",
      "[codecarbon INFO @ 23:11:06] 0.004321 kWh of electricity used since the beginning.\n"
     ]
    },
    {
     "name": "stdout",
     "output_type": "stream",
     "text": [
      " 800/1202 [==================>...........] - ETA: 26s - loss: 4.6672 - accuracy: 0.1635"
     ]
    },
    {
     "name": "stderr",
     "output_type": "stream",
     "text": [
      "[codecarbon INFO @ 23:11:21] Energy consumed for RAM : 0.001908 kWh. RAM Power : 5.796770095825195 W\n",
      "[codecarbon INFO @ 23:11:21] Energy consumed for all CPUs : 0.002468 kWh. Total CPU Power : 7.5 W\n",
      "[codecarbon INFO @ 23:11:21] 0.004376 kWh of electricity used since the beginning.\n"
     ]
    },
    {
     "name": "stdout",
     "output_type": "stream",
     "text": [
      "1028/1202 [========================>.....] - ETA: 11s - loss: 4.6806 - accuracy: 0.1629"
     ]
    },
    {
     "name": "stderr",
     "output_type": "stream",
     "text": [
      "[codecarbon INFO @ 23:11:36] Energy consumed for RAM : 0.001932 kWh. RAM Power : 5.796770095825195 W\n",
      "[codecarbon INFO @ 23:11:36] Energy consumed for all CPUs : 0.002500 kWh. Total CPU Power : 7.5 W\n",
      "[codecarbon INFO @ 23:11:36] 0.004431 kWh of electricity used since the beginning.\n"
     ]
    },
    {
     "name": "stdout",
     "output_type": "stream",
     "text": [
      "1202/1202 [==============================] - ETA: 0s - loss: 4.6906 - accuracy: 0.1621\n",
      "Epoch 15: accuracy improved from 0.16053 to 0.16214, saving model to model/weights-QuijoteNLP.hdf5\n",
      "1202/1202 [==============================] - 80s 66ms/step - loss: 4.6906 - accuracy: 0.1621\n",
      "Epoch 16/70\n",
      "  51/1202 [>.............................] - ETA: 1:15 - loss: 4.5412 - accuracy: 0.1763"
     ]
    },
    {
     "name": "stderr",
     "output_type": "stream",
     "text": [
      "[codecarbon INFO @ 23:11:51] Energy consumed for RAM : 0.001956 kWh. RAM Power : 5.796770095825195 W\n",
      "[codecarbon INFO @ 23:11:51] Energy consumed for all CPUs : 0.002531 kWh. Total CPU Power : 7.5 W\n",
      "[codecarbon INFO @ 23:11:51] 0.004487 kWh of electricity used since the beginning.\n"
     ]
    },
    {
     "name": "stdout",
     "output_type": "stream",
     "text": [
      " 277/1202 [=====>........................] - ETA: 1:01 - loss: 4.5813 - accuracy: 0.1670"
     ]
    },
    {
     "name": "stderr",
     "output_type": "stream",
     "text": [
      "[codecarbon INFO @ 23:12:06] Energy consumed for RAM : 0.001980 kWh. RAM Power : 5.796770095825195 W\n",
      "[codecarbon INFO @ 23:12:06] Energy consumed for all CPUs : 0.002562 kWh. Total CPU Power : 7.5 W\n",
      "[codecarbon INFO @ 23:12:06] 0.004542 kWh of electricity used since the beginning.\n"
     ]
    },
    {
     "name": "stdout",
     "output_type": "stream",
     "text": [
      " 503/1202 [===========>..................] - ETA: 46s - loss: 4.5978 - accuracy: 0.1666"
     ]
    },
    {
     "name": "stderr",
     "output_type": "stream",
     "text": [
      "[codecarbon INFO @ 23:12:21] Energy consumed for RAM : 0.002004 kWh. RAM Power : 5.796770095825195 W\n"
     ]
    },
    {
     "name": "stdout",
     "output_type": "stream",
     "text": [
      " 504/1202 [===========>..................] - ETA: 46s - loss: 4.5982 - accuracy: 0.1665"
     ]
    },
    {
     "name": "stderr",
     "output_type": "stream",
     "text": [
      "[codecarbon INFO @ 23:12:21] Energy consumed for all CPUs : 0.002593 kWh. Total CPU Power : 7.5 W\n",
      "[codecarbon INFO @ 23:12:21] 0.004598 kWh of electricity used since the beginning.\n"
     ]
    },
    {
     "name": "stdout",
     "output_type": "stream",
     "text": [
      " 730/1202 [=================>............] - ETA: 31s - loss: 4.6149 - accuracy: 0.1655"
     ]
    },
    {
     "name": "stderr",
     "output_type": "stream",
     "text": [
      "[codecarbon INFO @ 23:12:36] Energy consumed for RAM : 0.002028 kWh. RAM Power : 5.796770095825195 W\n",
      "[codecarbon INFO @ 23:12:36] Energy consumed for all CPUs : 0.002625 kWh. Total CPU Power : 7.5 W\n",
      "[codecarbon INFO @ 23:12:36] 0.004653 kWh of electricity used since the beginning.\n"
     ]
    },
    {
     "name": "stdout",
     "output_type": "stream",
     "text": [
      " 957/1202 [======================>.......] - ETA: 16s - loss: 4.6190 - accuracy: 0.1649"
     ]
    },
    {
     "name": "stderr",
     "output_type": "stream",
     "text": [
      "[codecarbon INFO @ 23:12:51] Energy consumed for RAM : 0.002052 kWh. RAM Power : 5.796770095825195 W\n",
      "[codecarbon INFO @ 23:12:51] Energy consumed for all CPUs : 0.002656 kWh. Total CPU Power : 7.5 W\n",
      "[codecarbon INFO @ 23:12:51] 0.004708 kWh of electricity used since the beginning.\n"
     ]
    },
    {
     "name": "stdout",
     "output_type": "stream",
     "text": [
      "1183/1202 [============================>.] - ETA: 1s - loss: 4.6291 - accuracy: 0.1650"
     ]
    },
    {
     "name": "stderr",
     "output_type": "stream",
     "text": [
      "[codecarbon INFO @ 23:13:06] Energy consumed for RAM : 0.002077 kWh. RAM Power : 5.796770095825195 W\n",
      "[codecarbon INFO @ 23:13:06] Energy consumed for all CPUs : 0.002687 kWh. Total CPU Power : 7.5 W\n",
      "[codecarbon INFO @ 23:13:06] 0.004764 kWh of electricity used since the beginning.\n"
     ]
    },
    {
     "name": "stdout",
     "output_type": "stream",
     "text": [
      "1202/1202 [==============================] - ETA: 0s - loss: 4.6290 - accuracy: 0.1652\n",
      "Epoch 16: accuracy improved from 0.16214 to 0.16518, saving model to model/weights-QuijoteNLP.hdf5\n",
      "1202/1202 [==============================] - 80s 66ms/step - loss: 4.6290 - accuracy: 0.1652\n",
      "Epoch 17/70\n",
      " 207/1202 [====>.........................] - ETA: 1:05 - loss: 4.4978 - accuracy: 0.1750"
     ]
    },
    {
     "name": "stderr",
     "output_type": "stream",
     "text": [
      "[codecarbon INFO @ 23:13:21] Energy consumed for RAM : 0.002101 kWh. RAM Power : 5.796770095825195 W\n",
      "[codecarbon INFO @ 23:13:21] Energy consumed for all CPUs : 0.002718 kWh. Total CPU Power : 7.5 W\n",
      "[codecarbon INFO @ 23:13:21] 0.004819 kWh of electricity used since the beginning.\n"
     ]
    },
    {
     "name": "stdout",
     "output_type": "stream",
     "text": [
      " 433/1202 [=========>....................] - ETA: 50s - loss: 4.5192 - accuracy: 0.1730"
     ]
    },
    {
     "name": "stderr",
     "output_type": "stream",
     "text": [
      "[codecarbon INFO @ 23:13:36] Energy consumed for RAM : 0.002125 kWh. RAM Power : 5.796770095825195 W\n",
      "[codecarbon INFO @ 23:13:36] Energy consumed for all CPUs : 0.002750 kWh. Total CPU Power : 7.5 W\n",
      "[codecarbon INFO @ 23:13:36] 0.004874 kWh of electricity used since the beginning.\n"
     ]
    },
    {
     "name": "stdout",
     "output_type": "stream",
     "text": [
      " 661/1202 [===============>..............] - ETA: 35s - loss: 4.5368 - accuracy: 0.1707"
     ]
    },
    {
     "name": "stderr",
     "output_type": "stream",
     "text": [
      "[codecarbon INFO @ 23:13:51] Energy consumed for RAM : 0.002149 kWh. RAM Power : 5.796770095825195 W\n",
      "[codecarbon INFO @ 23:13:51] Energy consumed for all CPUs : 0.002781 kWh. Total CPU Power : 7.5 W\n",
      "[codecarbon INFO @ 23:13:51] 0.004930 kWh of electricity used since the beginning.\n"
     ]
    },
    {
     "name": "stdout",
     "output_type": "stream",
     "text": [
      " 887/1202 [=====================>........] - ETA: 20s - loss: 4.5547 - accuracy: 0.1695"
     ]
    },
    {
     "name": "stderr",
     "output_type": "stream",
     "text": [
      "[codecarbon INFO @ 23:14:06] Energy consumed for RAM : 0.002173 kWh. RAM Power : 5.796770095825195 W\n",
      "[codecarbon INFO @ 23:14:06] Energy consumed for all CPUs : 0.002812 kWh. Total CPU Power : 7.5 W\n",
      "[codecarbon INFO @ 23:14:06] 0.004985 kWh of electricity used since the beginning.\n"
     ]
    },
    {
     "name": "stdout",
     "output_type": "stream",
     "text": [
      "1114/1202 [==========================>...] - ETA: 5s - loss: 4.5674 - accuracy: 0.1689"
     ]
    },
    {
     "name": "stderr",
     "output_type": "stream",
     "text": [
      "[codecarbon INFO @ 23:14:21] Energy consumed for RAM : 0.002197 kWh. RAM Power : 5.796770095825195 W\n",
      "[codecarbon INFO @ 23:14:21] Energy consumed for all CPUs : 0.002843 kWh. Total CPU Power : 7.5 W\n",
      "[codecarbon INFO @ 23:14:21] 0.005041 kWh of electricity used since the beginning.\n"
     ]
    },
    {
     "name": "stdout",
     "output_type": "stream",
     "text": [
      "1202/1202 [==============================] - ETA: 0s - loss: 4.5741 - accuracy: 0.1684\n",
      "Epoch 17: accuracy improved from 0.16518 to 0.16843, saving model to model/weights-QuijoteNLP.hdf5\n",
      "1202/1202 [==============================] - 80s 66ms/step - loss: 4.5741 - accuracy: 0.1684\n",
      "Epoch 18/70\n",
      " 138/1202 [==>...........................] - ETA: 1:09 - loss: 4.4614 - accuracy: 0.1741"
     ]
    },
    {
     "name": "stderr",
     "output_type": "stream",
     "text": [
      "[codecarbon INFO @ 23:14:36] Energy consumed for RAM : 0.002221 kWh. RAM Power : 5.796770095825195 W\n",
      "[codecarbon INFO @ 23:14:36] Energy consumed for all CPUs : 0.002875 kWh. Total CPU Power : 7.5 W\n",
      "[codecarbon INFO @ 23:14:36] 0.005096 kWh of electricity used since the beginning.\n"
     ]
    },
    {
     "name": "stdout",
     "output_type": "stream",
     "text": [
      " 364/1202 [========>.....................] - ETA: 55s - loss: 4.4772 - accuracy: 0.1728"
     ]
    },
    {
     "name": "stderr",
     "output_type": "stream",
     "text": [
      "[codecarbon INFO @ 23:14:51] Energy consumed for RAM : 0.002246 kWh. RAM Power : 5.796770095825195 W\n",
      "[codecarbon INFO @ 23:14:51] Energy consumed for all CPUs : 0.002906 kWh. Total CPU Power : 7.5 W\n"
     ]
    },
    {
     "name": "stdout",
     "output_type": "stream",
     "text": [
      " 365/1202 [========>.....................] - ETA: 55s - loss: 4.4781 - accuracy: 0.1727"
     ]
    },
    {
     "name": "stderr",
     "output_type": "stream",
     "text": [
      "[codecarbon INFO @ 23:14:51] 0.005151 kWh of electricity used since the beginning.\n"
     ]
    },
    {
     "name": "stdout",
     "output_type": "stream",
     "text": [
      " 591/1202 [=============>................] - ETA: 40s - loss: 4.4879 - accuracy: 0.1733"
     ]
    },
    {
     "name": "stderr",
     "output_type": "stream",
     "text": [
      "[codecarbon INFO @ 23:15:06] Energy consumed for RAM : 0.002270 kWh. RAM Power : 5.796770095825195 W\n",
      "[codecarbon INFO @ 23:15:06] Energy consumed for all CPUs : 0.002937 kWh. Total CPU Power : 7.5 W\n",
      "[codecarbon INFO @ 23:15:06] 0.005207 kWh of electricity used since the beginning.\n"
     ]
    },
    {
     "name": "stdout",
     "output_type": "stream",
     "text": [
      " 817/1202 [===================>..........] - ETA: 25s - loss: 4.4958 - accuracy: 0.1725"
     ]
    },
    {
     "name": "stderr",
     "output_type": "stream",
     "text": [
      "[codecarbon INFO @ 23:15:21] Energy consumed for RAM : 0.002294 kWh. RAM Power : 5.796770095825195 W\n",
      "[codecarbon INFO @ 23:15:21] Energy consumed for all CPUs : 0.002968 kWh. Total CPU Power : 7.5 W\n",
      "[codecarbon INFO @ 23:15:21] 0.005262 kWh of electricity used since the beginning.\n"
     ]
    },
    {
     "name": "stdout",
     "output_type": "stream",
     "text": [
      "1043/1202 [=========================>....] - ETA: 10s - loss: 4.5118 - accuracy: 0.1713"
     ]
    },
    {
     "name": "stderr",
     "output_type": "stream",
     "text": [
      "[codecarbon INFO @ 23:15:36] Energy consumed for RAM : 0.002318 kWh. RAM Power : 5.796770095825195 W\n",
      "[codecarbon INFO @ 23:15:36] Energy consumed for all CPUs : 0.003000 kWh. Total CPU Power : 7.5 W\n",
      "[codecarbon INFO @ 23:15:36] 0.005318 kWh of electricity used since the beginning.\n"
     ]
    },
    {
     "name": "stdout",
     "output_type": "stream",
     "text": [
      "1202/1202 [==============================] - ETA: 0s - loss: 4.5207 - accuracy: 0.1709\n",
      "Epoch 18: accuracy improved from 0.16843 to 0.17086, saving model to model/weights-QuijoteNLP.hdf5\n",
      "1202/1202 [==============================] - 80s 66ms/step - loss: 4.5207 - accuracy: 0.1709\n",
      "Epoch 19/70\n",
      "  66/1202 [>.............................] - ETA: 1:14 - loss: 4.3965 - accuracy: 0.1784"
     ]
    },
    {
     "name": "stderr",
     "output_type": "stream",
     "text": [
      "[codecarbon INFO @ 23:15:51] Energy consumed for RAM : 0.002342 kWh. RAM Power : 5.796770095825195 W\n",
      "[codecarbon INFO @ 23:15:51] Energy consumed for all CPUs : 0.003031 kWh. Total CPU Power : 7.5 W\n",
      "[codecarbon INFO @ 23:15:51] 0.005373 kWh of electricity used since the beginning.\n"
     ]
    },
    {
     "name": "stdout",
     "output_type": "stream",
     "text": [
      " 293/1202 [======>.......................] - ETA: 1:00 - loss: 4.4133 - accuracy: 0.1786"
     ]
    },
    {
     "name": "stderr",
     "output_type": "stream",
     "text": [
      "[codecarbon INFO @ 23:16:06] Energy consumed for RAM : 0.002366 kWh. RAM Power : 5.796770095825195 W\n",
      "[codecarbon INFO @ 23:16:06] Energy consumed for all CPUs : 0.003062 kWh. Total CPU Power : 7.5 W\n",
      "[codecarbon INFO @ 23:16:06] 0.005428 kWh of electricity used since the beginning.\n"
     ]
    },
    {
     "name": "stdout",
     "output_type": "stream",
     "text": [
      " 520/1202 [===========>..................] - ETA: 45s - loss: 4.4306 - accuracy: 0.1769"
     ]
    },
    {
     "name": "stderr",
     "output_type": "stream",
     "text": [
      "[codecarbon INFO @ 23:16:21] Energy consumed for RAM : 0.002390 kWh. RAM Power : 5.796770095825195 W\n",
      "[codecarbon INFO @ 23:16:21] Energy consumed for all CPUs : 0.003093 kWh. Total CPU Power : 7.5 W\n",
      "[codecarbon INFO @ 23:16:21] 0.005484 kWh of electricity used since the beginning.\n"
     ]
    },
    {
     "name": "stdout",
     "output_type": "stream",
     "text": [
      " 746/1202 [=================>............] - ETA: 30s - loss: 4.4405 - accuracy: 0.1760"
     ]
    },
    {
     "name": "stderr",
     "output_type": "stream",
     "text": [
      "[codecarbon INFO @ 23:16:36] Energy consumed for RAM : 0.002415 kWh. RAM Power : 5.796770095825195 W\n",
      "[codecarbon INFO @ 23:16:36] Energy consumed for all CPUs : 0.003125 kWh. Total CPU Power : 7.5 W\n",
      "[codecarbon INFO @ 23:16:36] 0.005539 kWh of electricity used since the beginning.\n"
     ]
    },
    {
     "name": "stdout",
     "output_type": "stream",
     "text": [
      " 973/1202 [=======================>......] - ETA: 15s - loss: 4.4554 - accuracy: 0.1749"
     ]
    },
    {
     "name": "stderr",
     "output_type": "stream",
     "text": [
      "[codecarbon INFO @ 23:16:51] Energy consumed for RAM : 0.002439 kWh. RAM Power : 5.796770095825195 W\n",
      "[codecarbon INFO @ 23:16:51] Energy consumed for all CPUs : 0.003156 kWh. Total CPU Power : 7.5 W\n",
      "[codecarbon INFO @ 23:16:51] 0.005595 kWh of electricity used since the beginning.\n"
     ]
    },
    {
     "name": "stdout",
     "output_type": "stream",
     "text": [
      "1200/1202 [============================>.] - ETA: 0s - loss: 4.4696 - accuracy: 0.1744"
     ]
    },
    {
     "name": "stderr",
     "output_type": "stream",
     "text": [
      "[codecarbon INFO @ 23:17:06] Energy consumed for RAM : 0.002463 kWh. RAM Power : 5.796770095825195 W\n",
      "[codecarbon INFO @ 23:17:06] Energy consumed for all CPUs : 0.003187 kWh. Total CPU Power : 7.5 W\n",
      "[codecarbon INFO @ 23:17:06] 0.005650 kWh of electricity used since the beginning.\n"
     ]
    },
    {
     "name": "stdout",
     "output_type": "stream",
     "text": [
      "1202/1202 [==============================] - ETA: 0s - loss: 4.4695 - accuracy: 0.1745\n",
      "Epoch 19: accuracy improved from 0.17086 to 0.17446, saving model to model/weights-QuijoteNLP.hdf5\n",
      "1202/1202 [==============================] - 80s 66ms/step - loss: 4.4695 - accuracy: 0.1745\n",
      "Epoch 20/70\n",
      " 223/1202 [====>.........................] - ETA: 1:04 - loss: 4.3417 - accuracy: 0.1832"
     ]
    },
    {
     "name": "stderr",
     "output_type": "stream",
     "text": [
      "[codecarbon INFO @ 23:17:21] Energy consumed for RAM : 0.002487 kWh. RAM Power : 5.796770095825195 W\n",
      "[codecarbon INFO @ 23:17:21] Energy consumed for all CPUs : 0.003218 kWh. Total CPU Power : 7.5 W\n",
      "[codecarbon INFO @ 23:17:21] 0.005705 kWh of electricity used since the beginning.\n"
     ]
    },
    {
     "name": "stdout",
     "output_type": "stream",
     "text": [
      " 451/1202 [==========>...................] - ETA: 49s - loss: 4.3700 - accuracy: 0.1798"
     ]
    },
    {
     "name": "stderr",
     "output_type": "stream",
     "text": [
      "[codecarbon INFO @ 23:17:36] Energy consumed for RAM : 0.002511 kWh. RAM Power : 5.796770095825195 W\n",
      "[codecarbon INFO @ 23:17:36] Energy consumed for all CPUs : 0.003250 kWh. Total CPU Power : 7.5 W\n",
      "[codecarbon INFO @ 23:17:36] 0.005761 kWh of electricity used since the beginning.\n"
     ]
    },
    {
     "name": "stdout",
     "output_type": "stream",
     "text": [
      " 678/1202 [===============>..............] - ETA: 34s - loss: 4.3855 - accuracy: 0.1784"
     ]
    },
    {
     "name": "stderr",
     "output_type": "stream",
     "text": [
      "[codecarbon INFO @ 23:17:51] Energy consumed for RAM : 0.002535 kWh. RAM Power : 5.796770095825195 W\n",
      "[codecarbon INFO @ 23:17:51] Energy consumed for all CPUs : 0.003281 kWh. Total CPU Power : 7.5 W\n",
      "[codecarbon INFO @ 23:17:51] 0.005816 kWh of electricity used since the beginning.\n"
     ]
    },
    {
     "name": "stdout",
     "output_type": "stream",
     "text": [
      " 905/1202 [=====================>........] - ETA: 19s - loss: 4.4072 - accuracy: 0.1772"
     ]
    },
    {
     "name": "stderr",
     "output_type": "stream",
     "text": [
      "[codecarbon INFO @ 23:18:06] Energy consumed for RAM : 0.002559 kWh. RAM Power : 5.796770095825195 W\n",
      "[codecarbon INFO @ 23:18:06] Energy consumed for all CPUs : 0.003312 kWh. Total CPU Power : 7.5 W\n",
      "[codecarbon INFO @ 23:18:06] 0.005872 kWh of electricity used since the beginning.\n"
     ]
    },
    {
     "name": "stdout",
     "output_type": "stream",
     "text": [
      "1132/1202 [===========================>..] - ETA: 4s - loss: 4.4217 - accuracy: 0.1757"
     ]
    },
    {
     "name": "stderr",
     "output_type": "stream",
     "text": [
      "[codecarbon INFO @ 23:18:21] Energy consumed for RAM : 0.002584 kWh. RAM Power : 5.796770095825195 W\n",
      "[codecarbon INFO @ 23:18:21] Energy consumed for all CPUs : 0.003343 kWh. Total CPU Power : 7.5 W\n",
      "[codecarbon INFO @ 23:18:21] 0.005927 kWh of electricity used since the beginning.\n"
     ]
    },
    {
     "name": "stdout",
     "output_type": "stream",
     "text": [
      "1202/1202 [==============================] - ETA: 0s - loss: 4.4247 - accuracy: 0.1760\n",
      "Epoch 20: accuracy improved from 0.17446 to 0.17601, saving model to model/weights-QuijoteNLP.hdf5\n",
      "1202/1202 [==============================] - 80s 66ms/step - loss: 4.4247 - accuracy: 0.1760\n",
      "Epoch 21/70\n",
      " 155/1202 [==>...........................] - ETA: 1:08 - loss: 4.3157 - accuracy: 0.1836"
     ]
    },
    {
     "name": "stderr",
     "output_type": "stream",
     "text": [
      "[codecarbon INFO @ 23:18:36] Energy consumed for RAM : 0.002608 kWh. RAM Power : 5.796770095825195 W\n",
      "[codecarbon INFO @ 23:18:36] Energy consumed for all CPUs : 0.003375 kWh. Total CPU Power : 7.5 W\n",
      "[codecarbon INFO @ 23:18:36] 0.005982 kWh of electricity used since the beginning.\n"
     ]
    },
    {
     "name": "stdout",
     "output_type": "stream",
     "text": [
      " 381/1202 [========>.....................] - ETA: 54s - loss: 4.3404 - accuracy: 0.1811"
     ]
    },
    {
     "name": "stderr",
     "output_type": "stream",
     "text": [
      "[codecarbon INFO @ 23:18:51] Energy consumed for RAM : 0.002632 kWh. RAM Power : 5.796770095825195 W\n",
      "[codecarbon INFO @ 23:18:51] Energy consumed for all CPUs : 0.003406 kWh. Total CPU Power : 7.5 W\n",
      "[codecarbon INFO @ 23:18:51] 0.006038 kWh of electricity used since the beginning.\n"
     ]
    },
    {
     "name": "stdout",
     "output_type": "stream",
     "text": [
      " 608/1202 [==============>...............] - ETA: 39s - loss: 4.3479 - accuracy: 0.1814"
     ]
    },
    {
     "name": "stderr",
     "output_type": "stream",
     "text": [
      "[codecarbon INFO @ 23:19:06] Energy consumed for RAM : 0.002656 kWh. RAM Power : 5.796770095825195 W\n",
      "[codecarbon INFO @ 23:19:06] Energy consumed for all CPUs : 0.003437 kWh. Total CPU Power : 7.5 W\n",
      "[codecarbon INFO @ 23:19:06] 0.006093 kWh of electricity used since the beginning.\n"
     ]
    },
    {
     "name": "stdout",
     "output_type": "stream",
     "text": [
      " 835/1202 [===================>..........] - ETA: 24s - loss: 4.3672 - accuracy: 0.1800"
     ]
    },
    {
     "name": "stderr",
     "output_type": "stream",
     "text": [
      "[codecarbon INFO @ 23:19:21] Energy consumed for RAM : 0.002680 kWh. RAM Power : 5.796770095825195 W\n",
      "[codecarbon INFO @ 23:19:21] Energy consumed for all CPUs : 0.003468 kWh. Total CPU Power : 7.5 W\n",
      "[codecarbon INFO @ 23:19:21] 0.006148 kWh of electricity used since the beginning.\n"
     ]
    },
    {
     "name": "stdout",
     "output_type": "stream",
     "text": [
      "1060/1202 [=========================>....] - ETA: 9s - loss: 4.3783 - accuracy: 0.1793"
     ]
    },
    {
     "name": "stderr",
     "output_type": "stream",
     "text": [
      "[codecarbon INFO @ 23:19:36] Energy consumed for RAM : 0.002704 kWh. RAM Power : 5.796770095825195 W\n",
      "[codecarbon INFO @ 23:19:36] Energy consumed for all CPUs : 0.003500 kWh. Total CPU Power : 7.5 W\n",
      "[codecarbon INFO @ 23:19:36] 0.006204 kWh of electricity used since the beginning.\n"
     ]
    },
    {
     "name": "stdout",
     "output_type": "stream",
     "text": [
      "1202/1202 [==============================] - ETA: 0s - loss: 4.3835 - accuracy: 0.1785\n",
      "Epoch 21: accuracy improved from 0.17601 to 0.17855, saving model to model/weights-QuijoteNLP.hdf5\n",
      "1202/1202 [==============================] - 80s 66ms/step - loss: 4.3835 - accuracy: 0.1785\n",
      "Epoch 22/70\n",
      "  84/1202 [=>............................] - ETA: 1:13 - loss: 4.2528 - accuracy: 0.1928"
     ]
    },
    {
     "name": "stderr",
     "output_type": "stream",
     "text": [
      "[codecarbon INFO @ 23:19:51] Energy consumed for RAM : 0.002728 kWh. RAM Power : 5.796770095825195 W\n",
      "[codecarbon INFO @ 23:19:51] Energy consumed for all CPUs : 0.003531 kWh. Total CPU Power : 7.5 W\n",
      "[codecarbon INFO @ 23:19:51] 0.006259 kWh of electricity used since the beginning.\n"
     ]
    },
    {
     "name": "stdout",
     "output_type": "stream",
     "text": [
      " 310/1202 [======>.......................] - ETA: 59s - loss: 4.2754 - accuracy: 0.1859"
     ]
    },
    {
     "name": "stderr",
     "output_type": "stream",
     "text": [
      "[codecarbon INFO @ 23:20:06] Energy consumed for RAM : 0.002753 kWh. RAM Power : 5.796770095825195 W\n",
      "[codecarbon INFO @ 23:20:06] Energy consumed for all CPUs : 0.003562 kWh. Total CPU Power : 7.5 W\n",
      "[codecarbon INFO @ 23:20:06] 0.006315 kWh of electricity used since the beginning.\n"
     ]
    },
    {
     "name": "stdout",
     "output_type": "stream",
     "text": [
      " 536/1202 [============>.................] - ETA: 44s - loss: 4.3010 - accuracy: 0.1835"
     ]
    },
    {
     "name": "stderr",
     "output_type": "stream",
     "text": [
      "[codecarbon INFO @ 23:20:21] Energy consumed for RAM : 0.002777 kWh. RAM Power : 5.796770095825195 W\n",
      "[codecarbon INFO @ 23:20:21] Energy consumed for all CPUs : 0.003593 kWh. Total CPU Power : 7.5 W\n",
      "[codecarbon INFO @ 23:20:21] 0.006370 kWh of electricity used since the beginning.\n"
     ]
    },
    {
     "name": "stdout",
     "output_type": "stream",
     "text": [
      " 762/1202 [==================>...........] - ETA: 29s - loss: 4.3165 - accuracy: 0.1833"
     ]
    },
    {
     "name": "stderr",
     "output_type": "stream",
     "text": [
      "[codecarbon INFO @ 23:20:36] Energy consumed for RAM : 0.002801 kWh. RAM Power : 5.796770095825195 W\n",
      "[codecarbon INFO @ 23:20:36] Energy consumed for all CPUs : 0.003625 kWh. Total CPU Power : 7.5 W\n",
      "[codecarbon INFO @ 23:20:36] 0.006425 kWh of electricity used since the beginning.\n"
     ]
    },
    {
     "name": "stdout",
     "output_type": "stream",
     "text": [
      " 989/1202 [=======================>......] - ETA: 14s - loss: 4.3317 - accuracy: 0.1826"
     ]
    },
    {
     "name": "stderr",
     "output_type": "stream",
     "text": [
      "[codecarbon INFO @ 23:20:51] Energy consumed for RAM : 0.002825 kWh. RAM Power : 5.796770095825195 W\n",
      "[codecarbon INFO @ 23:20:51] Energy consumed for all CPUs : 0.003656 kWh. Total CPU Power : 7.5 W\n",
      "[codecarbon INFO @ 23:20:51] 0.006481 kWh of electricity used since the beginning.\n"
     ]
    },
    {
     "name": "stdout",
     "output_type": "stream",
     "text": [
      "1202/1202 [==============================] - ETA: 0s - loss: 4.3424 - accuracy: 0.1823\n",
      "Epoch 22: accuracy improved from 0.17855 to 0.18233, saving model to model/weights-QuijoteNLP.hdf5\n",
      "1202/1202 [==============================] - 80s 66ms/step - loss: 4.3424 - accuracy: 0.1823\n",
      "Epoch 23/70\n",
      "  12/1202 [..............................] - ETA: 1:18 - loss: 4.2394 - accuracy: 0.1836"
     ]
    },
    {
     "name": "stderr",
     "output_type": "stream",
     "text": [
      "[codecarbon INFO @ 23:21:06] Energy consumed for RAM : 0.002849 kWh. RAM Power : 5.796770095825195 W\n",
      "[codecarbon INFO @ 23:21:06] Energy consumed for all CPUs : 0.003687 kWh. Total CPU Power : 7.5 W\n",
      "[codecarbon INFO @ 23:21:06] 0.006536 kWh of electricity used since the beginning.\n"
     ]
    },
    {
     "name": "stdout",
     "output_type": "stream",
     "text": [
      " 239/1202 [====>.........................] - ETA: 1:03 - loss: 4.2313 - accuracy: 0.1904"
     ]
    },
    {
     "name": "stderr",
     "output_type": "stream",
     "text": [
      "[codecarbon INFO @ 23:21:21] Energy consumed for RAM : 0.002873 kWh. RAM Power : 5.796770095825195 W\n",
      "[codecarbon INFO @ 23:21:21] Energy consumed for all CPUs : 0.003718 kWh. Total CPU Power : 7.5 W\n",
      "[codecarbon INFO @ 23:21:21] 0.006592 kWh of electricity used since the beginning.\n"
     ]
    },
    {
     "name": "stdout",
     "output_type": "stream",
     "text": [
      " 466/1202 [==========>...................] - ETA: 48s - loss: 4.2487 - accuracy: 0.1900"
     ]
    },
    {
     "name": "stderr",
     "output_type": "stream",
     "text": [
      "[codecarbon INFO @ 23:21:36] Energy consumed for RAM : 0.002897 kWh. RAM Power : 5.796770095825195 W\n"
     ]
    },
    {
     "name": "stdout",
     "output_type": "stream",
     "text": [
      " 467/1202 [==========>...................] - ETA: 48s - loss: 4.2488 - accuracy: 0.1900"
     ]
    },
    {
     "name": "stderr",
     "output_type": "stream",
     "text": [
      "[codecarbon INFO @ 23:21:36] Energy consumed for all CPUs : 0.003750 kWh. Total CPU Power : 7.5 W\n",
      "[codecarbon INFO @ 23:21:36] 0.006647 kWh of electricity used since the beginning.\n"
     ]
    },
    {
     "name": "stdout",
     "output_type": "stream",
     "text": [
      " 693/1202 [================>.............] - ETA: 33s - loss: 4.2639 - accuracy: 0.1885"
     ]
    },
    {
     "name": "stderr",
     "output_type": "stream",
     "text": [
      "[codecarbon INFO @ 23:21:51] Energy consumed for RAM : 0.002922 kWh. RAM Power : 5.796770095825195 W\n",
      "[codecarbon INFO @ 23:21:51] Energy consumed for all CPUs : 0.003781 kWh. Total CPU Power : 7.5 W\n"
     ]
    },
    {
     "name": "stdout",
     "output_type": "stream",
     "text": [
      " 694/1202 [================>.............] - ETA: 33s - loss: 4.2639 - accuracy: 0.1885"
     ]
    },
    {
     "name": "stderr",
     "output_type": "stream",
     "text": [
      "[codecarbon INFO @ 23:21:51] 0.006702 kWh of electricity used since the beginning.\n"
     ]
    },
    {
     "name": "stdout",
     "output_type": "stream",
     "text": [
      " 921/1202 [=====================>........] - ETA: 18s - loss: 4.2857 - accuracy: 0.1861"
     ]
    },
    {
     "name": "stderr",
     "output_type": "stream",
     "text": [
      "[codecarbon INFO @ 23:22:06] Energy consumed for RAM : 0.002946 kWh. RAM Power : 5.796770095825195 W\n",
      "[codecarbon INFO @ 23:22:06] Energy consumed for all CPUs : 0.003812 kWh. Total CPU Power : 7.5 W\n",
      "[codecarbon INFO @ 23:22:06] 0.006758 kWh of electricity used since the beginning.\n"
     ]
    },
    {
     "name": "stdout",
     "output_type": "stream",
     "text": [
      "1147/1202 [===========================>..] - ETA: 3s - loss: 4.3026 - accuracy: 0.1846"
     ]
    },
    {
     "name": "stderr",
     "output_type": "stream",
     "text": [
      "[codecarbon INFO @ 23:22:21] Energy consumed for RAM : 0.002970 kWh. RAM Power : 5.796770095825195 W\n",
      "[codecarbon INFO @ 23:22:21] Energy consumed for all CPUs : 0.003843 kWh. Total CPU Power : 7.5 W\n",
      "[codecarbon INFO @ 23:22:21] 0.006813 kWh of electricity used since the beginning.\n"
     ]
    },
    {
     "name": "stdout",
     "output_type": "stream",
     "text": [
      "1202/1202 [==============================] - ETA: 0s - loss: 4.3044 - accuracy: 0.1846\n",
      "Epoch 23: accuracy improved from 0.18233 to 0.18457, saving model to model/weights-QuijoteNLP.hdf5\n",
      "1202/1202 [==============================] - 80s 66ms/step - loss: 4.3044 - accuracy: 0.1846\n",
      "Epoch 24/70\n",
      " 172/1202 [===>..........................] - ETA: 1:07 - loss: 4.2077 - accuracy: 0.1928"
     ]
    },
    {
     "name": "stderr",
     "output_type": "stream",
     "text": [
      "[codecarbon INFO @ 23:22:36] Energy consumed for RAM : 0.002994 kWh. RAM Power : 5.796770095825195 W\n",
      "[codecarbon INFO @ 23:22:36] Energy consumed for all CPUs : 0.003874 kWh. Total CPU Power : 7.5 W\n",
      "[codecarbon INFO @ 23:22:36] 0.006869 kWh of electricity used since the beginning.\n"
     ]
    },
    {
     "name": "stdout",
     "output_type": "stream",
     "text": [
      " 398/1202 [========>.....................] - ETA: 53s - loss: 4.2123 - accuracy: 0.1927"
     ]
    },
    {
     "name": "stderr",
     "output_type": "stream",
     "text": [
      "[codecarbon INFO @ 23:22:51] Energy consumed for RAM : 0.003018 kWh. RAM Power : 5.796770095825195 W\n",
      "[codecarbon INFO @ 23:22:51] Energy consumed for all CPUs : 0.003906 kWh. Total CPU Power : 7.5 W\n",
      "[codecarbon INFO @ 23:22:51] 0.006924 kWh of electricity used since the beginning.\n"
     ]
    },
    {
     "name": "stdout",
     "output_type": "stream",
     "text": [
      " 624/1202 [==============>...............] - ETA: 38s - loss: 4.2310 - accuracy: 0.1909"
     ]
    },
    {
     "name": "stderr",
     "output_type": "stream",
     "text": [
      "[codecarbon INFO @ 23:23:06] Energy consumed for RAM : 0.003042 kWh. RAM Power : 5.796770095825195 W\n",
      "[codecarbon INFO @ 23:23:06] Energy consumed for all CPUs : 0.003937 kWh. Total CPU Power : 7.5 W\n",
      "[codecarbon INFO @ 23:23:06] 0.006979 kWh of electricity used since the beginning.\n"
     ]
    },
    {
     "name": "stdout",
     "output_type": "stream",
     "text": [
      " 850/1202 [====================>.........] - ETA: 23s - loss: 4.2461 - accuracy: 0.1893"
     ]
    },
    {
     "name": "stderr",
     "output_type": "stream",
     "text": [
      "[codecarbon INFO @ 23:23:21] Energy consumed for RAM : 0.003067 kWh. RAM Power : 5.796770095825195 W\n"
     ]
    },
    {
     "name": "stdout",
     "output_type": "stream",
     "text": [
      " 851/1202 [====================>.........] - ETA: 23s - loss: 4.2465 - accuracy: 0.1892"
     ]
    },
    {
     "name": "stderr",
     "output_type": "stream",
     "text": [
      "[codecarbon INFO @ 23:23:21] Energy consumed for all CPUs : 0.003968 kWh. Total CPU Power : 7.5 W\n",
      "[codecarbon INFO @ 23:23:21] 0.007035 kWh of electricity used since the beginning.\n"
     ]
    },
    {
     "name": "stdout",
     "output_type": "stream",
     "text": [
      "1077/1202 [=========================>....] - ETA: 8s - loss: 4.2603 - accuracy: 0.1878"
     ]
    },
    {
     "name": "stderr",
     "output_type": "stream",
     "text": [
      "[codecarbon INFO @ 23:23:36] Energy consumed for RAM : 0.003091 kWh. RAM Power : 5.796770095825195 W\n",
      "[codecarbon INFO @ 23:23:36] Energy consumed for all CPUs : 0.003999 kWh. Total CPU Power : 7.5 W\n",
      "[codecarbon INFO @ 23:23:36] 0.007090 kWh of electricity used since the beginning.\n"
     ]
    },
    {
     "name": "stdout",
     "output_type": "stream",
     "text": [
      "1202/1202 [==============================] - ETA: 0s - loss: 4.2699 - accuracy: 0.1869\n",
      "Epoch 24: accuracy improved from 0.18457 to 0.18692, saving model to model/weights-QuijoteNLP.hdf5\n",
      "1202/1202 [==============================] - 80s 66ms/step - loss: 4.2699 - accuracy: 0.1869\n",
      "Epoch 25/70\n",
      " 101/1202 [=>............................] - ETA: 1:12 - loss: 4.1564 - accuracy: 0.1952"
     ]
    },
    {
     "name": "stderr",
     "output_type": "stream",
     "text": [
      "[codecarbon INFO @ 23:23:51] Energy consumed for RAM : 0.003115 kWh. RAM Power : 5.796770095825195 W\n",
      "[codecarbon INFO @ 23:23:51] Energy consumed for all CPUs : 0.004031 kWh. Total CPU Power : 7.5 W\n",
      "[codecarbon INFO @ 23:23:51] 0.007146 kWh of electricity used since the beginning.\n"
     ]
    },
    {
     "name": "stdout",
     "output_type": "stream",
     "text": [
      " 327/1202 [=======>......................] - ETA: 57s - loss: 4.1708 - accuracy: 0.1960"
     ]
    },
    {
     "name": "stderr",
     "output_type": "stream",
     "text": [
      "[codecarbon INFO @ 23:24:06] Energy consumed for RAM : 0.003139 kWh. RAM Power : 5.796770095825195 W\n",
      "[codecarbon INFO @ 23:24:06] Energy consumed for all CPUs : 0.004062 kWh. Total CPU Power : 7.5 W\n",
      "[codecarbon INFO @ 23:24:06] 0.007201 kWh of electricity used since the beginning.\n"
     ]
    },
    {
     "name": "stdout",
     "output_type": "stream",
     "text": [
      " 554/1202 [============>.................] - ETA: 42s - loss: 4.1934 - accuracy: 0.1928"
     ]
    },
    {
     "name": "stderr",
     "output_type": "stream",
     "text": [
      "[codecarbon INFO @ 23:24:21] Energy consumed for RAM : 0.003163 kWh. RAM Power : 5.796770095825195 W\n",
      "[codecarbon INFO @ 23:24:21] Energy consumed for all CPUs : 0.004093 kWh. Total CPU Power : 7.5 W\n",
      "[codecarbon INFO @ 23:24:21] 0.007256 kWh of electricity used since the beginning.\n"
     ]
    },
    {
     "name": "stdout",
     "output_type": "stream",
     "text": [
      " 779/1202 [==================>...........] - ETA: 28s - loss: 4.2071 - accuracy: 0.1915"
     ]
    },
    {
     "name": "stderr",
     "output_type": "stream",
     "text": [
      "[codecarbon INFO @ 23:24:36] Energy consumed for RAM : 0.003187 kWh. RAM Power : 5.796770095825195 W\n",
      "[codecarbon INFO @ 23:24:36] Energy consumed for all CPUs : 0.004124 kWh. Total CPU Power : 7.5 W\n",
      "[codecarbon INFO @ 23:24:36] 0.007312 kWh of electricity used since the beginning.\n"
     ]
    },
    {
     "name": "stdout",
     "output_type": "stream",
     "text": [
      "1006/1202 [========================>.....] - ETA: 12s - loss: 4.2241 - accuracy: 0.1903"
     ]
    },
    {
     "name": "stderr",
     "output_type": "stream",
     "text": [
      "[codecarbon INFO @ 23:24:51] Energy consumed for RAM : 0.003211 kWh. RAM Power : 5.796770095825195 W\n",
      "[codecarbon INFO @ 23:24:51] Energy consumed for all CPUs : 0.004156 kWh. Total CPU Power : 7.5 W\n",
      "[codecarbon INFO @ 23:24:51] 0.007367 kWh of electricity used since the beginning.\n"
     ]
    },
    {
     "name": "stdout",
     "output_type": "stream",
     "text": [
      "1202/1202 [==============================] - ETA: 0s - loss: 4.2379 - accuracy: 0.1898\n",
      "Epoch 25: accuracy improved from 0.18692 to 0.18977, saving model to model/weights-QuijoteNLP.hdf5\n",
      "1202/1202 [==============================] - 80s 66ms/step - loss: 4.2379 - accuracy: 0.1898\n",
      "Epoch 26/70\n",
      "  29/1202 [..............................] - ETA: 1:20 - loss: 4.0886 - accuracy: 0.2047"
     ]
    },
    {
     "name": "stderr",
     "output_type": "stream",
     "text": [
      "[codecarbon INFO @ 23:25:06] Energy consumed for RAM : 0.003236 kWh. RAM Power : 5.796770095825195 W\n",
      "[codecarbon INFO @ 23:25:06] Energy consumed for all CPUs : 0.004187 kWh. Total CPU Power : 7.5 W\n",
      "[codecarbon INFO @ 23:25:06] 0.007422 kWh of electricity used since the beginning.\n"
     ]
    },
    {
     "name": "stdout",
     "output_type": "stream",
     "text": [
      " 256/1202 [=====>........................] - ETA: 1:02 - loss: 4.1196 - accuracy: 0.1967"
     ]
    },
    {
     "name": "stderr",
     "output_type": "stream",
     "text": [
      "[codecarbon INFO @ 23:25:21] Energy consumed for RAM : 0.003260 kWh. RAM Power : 5.796770095825195 W\n",
      "[codecarbon INFO @ 23:25:21] Energy consumed for all CPUs : 0.004218 kWh. Total CPU Power : 7.5 W\n",
      "[codecarbon INFO @ 23:25:21] 0.007478 kWh of electricity used since the beginning.\n"
     ]
    },
    {
     "name": "stdout",
     "output_type": "stream",
     "text": [
      " 483/1202 [===========>..................] - ETA: 47s - loss: 4.1586 - accuracy: 0.1930"
     ]
    },
    {
     "name": "stderr",
     "output_type": "stream",
     "text": [
      "[codecarbon INFO @ 23:25:36] Energy consumed for RAM : 0.003284 kWh. RAM Power : 5.796770095825195 W\n",
      "[codecarbon INFO @ 23:25:36] Energy consumed for all CPUs : 0.004249 kWh. Total CPU Power : 7.5 W\n",
      "[codecarbon INFO @ 23:25:36] 0.007533 kWh of electricity used since the beginning.\n"
     ]
    },
    {
     "name": "stdout",
     "output_type": "stream",
     "text": [
      " 710/1202 [================>.............] - ETA: 32s - loss: 4.1673 - accuracy: 0.1937"
     ]
    },
    {
     "name": "stderr",
     "output_type": "stream",
     "text": [
      "[codecarbon INFO @ 23:25:51] Energy consumed for RAM : 0.003308 kWh. RAM Power : 5.796770095825195 W\n",
      "[codecarbon INFO @ 23:25:51] Energy consumed for all CPUs : 0.004281 kWh. Total CPU Power : 7.5 W\n",
      "[codecarbon INFO @ 23:25:51] 0.007589 kWh of electricity used since the beginning.\n"
     ]
    },
    {
     "name": "stdout",
     "output_type": "stream",
     "text": [
      " 936/1202 [======================>.......] - ETA: 17s - loss: 4.1873 - accuracy: 0.1928"
     ]
    },
    {
     "name": "stderr",
     "output_type": "stream",
     "text": [
      "[codecarbon INFO @ 23:26:06] Energy consumed for RAM : 0.003332 kWh. RAM Power : 5.796770095825195 W\n",
      "[codecarbon INFO @ 23:26:06] Energy consumed for all CPUs : 0.004312 kWh. Total CPU Power : 7.5 W\n",
      "[codecarbon INFO @ 23:26:06] 0.007644 kWh of electricity used since the beginning.\n"
     ]
    },
    {
     "name": "stdout",
     "output_type": "stream",
     "text": [
      "1163/1202 [============================>.] - ETA: 2s - loss: 4.2018 - accuracy: 0.1919"
     ]
    },
    {
     "name": "stderr",
     "output_type": "stream",
     "text": [
      "[codecarbon INFO @ 23:26:21] Energy consumed for RAM : 0.003356 kWh. RAM Power : 5.796770095825195 W\n",
      "[codecarbon INFO @ 23:26:21] Energy consumed for all CPUs : 0.004343 kWh. Total CPU Power : 7.5 W\n",
      "[codecarbon INFO @ 23:26:21] 0.007699 kWh of electricity used since the beginning.\n"
     ]
    },
    {
     "name": "stdout",
     "output_type": "stream",
     "text": [
      "1202/1202 [==============================] - ETA: 0s - loss: 4.2055 - accuracy: 0.1915\n",
      "Epoch 26: accuracy improved from 0.18977 to 0.19150, saving model to model/weights-QuijoteNLP.hdf5\n",
      "1202/1202 [==============================] - 80s 66ms/step - loss: 4.2055 - accuracy: 0.1915\n",
      "Epoch 27/70\n",
      " 187/1202 [===>..........................] - ETA: 1:06 - loss: 4.0753 - accuracy: 0.2023"
     ]
    },
    {
     "name": "stderr",
     "output_type": "stream",
     "text": [
      "[codecarbon INFO @ 23:26:36] Energy consumed for RAM : 0.003380 kWh. RAM Power : 5.796770095825195 W\n",
      "[codecarbon INFO @ 23:26:36] Energy consumed for all CPUs : 0.004374 kWh. Total CPU Power : 7.5 W\n",
      "[codecarbon INFO @ 23:26:36] 0.007755 kWh of electricity used since the beginning.\n"
     ]
    },
    {
     "name": "stdout",
     "output_type": "stream",
     "text": [
      " 413/1202 [=========>....................] - ETA: 52s - loss: 4.1115 - accuracy: 0.1988"
     ]
    },
    {
     "name": "stderr",
     "output_type": "stream",
     "text": [
      "[codecarbon INFO @ 23:26:51] Energy consumed for RAM : 0.003405 kWh. RAM Power : 5.796770095825195 W\n",
      "[codecarbon INFO @ 23:26:51] Energy consumed for all CPUs : 0.004406 kWh. Total CPU Power : 7.5 W\n",
      "[codecarbon INFO @ 23:26:51] 0.007810 kWh of electricity used since the beginning.\n"
     ]
    },
    {
     "name": "stdout",
     "output_type": "stream",
     "text": [
      " 639/1202 [==============>...............] - ETA: 37s - loss: 4.1309 - accuracy: 0.1979"
     ]
    },
    {
     "name": "stderr",
     "output_type": "stream",
     "text": [
      "[codecarbon INFO @ 23:27:06] Energy consumed for RAM : 0.003429 kWh. RAM Power : 5.796770095825195 W\n",
      "[codecarbon INFO @ 23:27:06] Energy consumed for all CPUs : 0.004437 kWh. Total CPU Power : 7.5 W\n",
      "[codecarbon INFO @ 23:27:06] 0.007866 kWh of electricity used since the beginning.\n"
     ]
    },
    {
     "name": "stdout",
     "output_type": "stream",
     "text": [
      " 865/1202 [====================>.........] - ETA: 22s - loss: 4.1497 - accuracy: 0.1966"
     ]
    },
    {
     "name": "stderr",
     "output_type": "stream",
     "text": [
      "[codecarbon INFO @ 23:27:21] Energy consumed for RAM : 0.003453 kWh. RAM Power : 5.796770095825195 W\n",
      "[codecarbon INFO @ 23:27:21] Energy consumed for all CPUs : 0.004468 kWh. Total CPU Power : 7.5 W\n",
      "[codecarbon INFO @ 23:27:21] 0.007921 kWh of electricity used since the beginning.\n"
     ]
    },
    {
     "name": "stdout",
     "output_type": "stream",
     "text": [
      "1092/1202 [==========================>...] - ETA: 7s - loss: 4.1680 - accuracy: 0.1948"
     ]
    },
    {
     "name": "stderr",
     "output_type": "stream",
     "text": [
      "[codecarbon INFO @ 23:27:36] Energy consumed for RAM : 0.003477 kWh. RAM Power : 5.796770095825195 W\n",
      "[codecarbon INFO @ 23:27:36] Energy consumed for all CPUs : 0.004499 kWh. Total CPU Power : 7.5 W\n",
      "[codecarbon INFO @ 23:27:36] 0.007976 kWh of electricity used since the beginning.\n"
     ]
    },
    {
     "name": "stdout",
     "output_type": "stream",
     "text": [
      "1202/1202 [==============================] - ETA: 0s - loss: 4.1757 - accuracy: 0.1943\n",
      "Epoch 27: accuracy improved from 0.19150 to 0.19428, saving model to model/weights-QuijoteNLP.hdf5\n",
      "1202/1202 [==============================] - 80s 66ms/step - loss: 4.1757 - accuracy: 0.1943\n",
      "Epoch 28/70\n",
      " 115/1202 [=>............................] - ETA: 1:12 - loss: 4.0523 - accuracy: 0.2067"
     ]
    },
    {
     "name": "stderr",
     "output_type": "stream",
     "text": [
      "[codecarbon INFO @ 23:27:51] Energy consumed for RAM : 0.003501 kWh. RAM Power : 5.796770095825195 W\n",
      "[codecarbon INFO @ 23:27:51] Energy consumed for all CPUs : 0.004531 kWh. Total CPU Power : 7.5 W\n",
      "[codecarbon INFO @ 23:27:51] 0.008032 kWh of electricity used since the beginning.\n"
     ]
    },
    {
     "name": "stdout",
     "output_type": "stream",
     "text": [
      " 341/1202 [=======>......................] - ETA: 57s - loss: 4.0790 - accuracy: 0.2041"
     ]
    },
    {
     "name": "stderr",
     "output_type": "stream",
     "text": [
      "[codecarbon INFO @ 23:28:06] Energy consumed for RAM : 0.003525 kWh. RAM Power : 5.796770095825195 W\n",
      "[codecarbon INFO @ 23:28:06] Energy consumed for all CPUs : 0.004562 kWh. Total CPU Power : 7.5 W\n",
      "[codecarbon INFO @ 23:28:06] 0.008087 kWh of electricity used since the beginning.\n"
     ]
    },
    {
     "name": "stdout",
     "output_type": "stream",
     "text": [
      " 568/1202 [=============>................] - ETA: 42s - loss: 4.1056 - accuracy: 0.2010"
     ]
    },
    {
     "name": "stderr",
     "output_type": "stream",
     "text": [
      "[codecarbon INFO @ 23:28:21] Energy consumed for RAM : 0.003549 kWh. RAM Power : 5.796770095825195 W\n",
      "[codecarbon INFO @ 23:28:21] Energy consumed for all CPUs : 0.004593 kWh. Total CPU Power : 7.5 W\n",
      "[codecarbon INFO @ 23:28:21] 0.008143 kWh of electricity used since the beginning.\n"
     ]
    },
    {
     "name": "stdout",
     "output_type": "stream",
     "text": [
      " 794/1202 [==================>...........] - ETA: 27s - loss: 4.1224 - accuracy: 0.1994"
     ]
    },
    {
     "name": "stderr",
     "output_type": "stream",
     "text": [
      "[codecarbon INFO @ 23:28:36] Energy consumed for RAM : 0.003574 kWh. RAM Power : 5.796770095825195 W\n",
      "[codecarbon INFO @ 23:28:36] Energy consumed for all CPUs : 0.004624 kWh. Total CPU Power : 7.5 W\n",
      "[codecarbon INFO @ 23:28:36] 0.008198 kWh of electricity used since the beginning.\n"
     ]
    },
    {
     "name": "stdout",
     "output_type": "stream",
     "text": [
      "1020/1202 [========================>.....] - ETA: 12s - loss: 4.1360 - accuracy: 0.1980"
     ]
    },
    {
     "name": "stderr",
     "output_type": "stream",
     "text": [
      "[codecarbon INFO @ 23:28:51] Energy consumed for RAM : 0.003598 kWh. RAM Power : 5.796770095825195 W\n",
      "[codecarbon INFO @ 23:28:51] Energy consumed for all CPUs : 0.004656 kWh. Total CPU Power : 7.5 W\n",
      "[codecarbon INFO @ 23:28:51] 0.008253 kWh of electricity used since the beginning.\n"
     ]
    },
    {
     "name": "stdout",
     "output_type": "stream",
     "text": [
      "1202/1202 [==============================] - ETA: 0s - loss: 4.1446 - accuracy: 0.1980\n",
      "Epoch 28: accuracy improved from 0.19428 to 0.19798, saving model to model/weights-QuijoteNLP.hdf5\n",
      "1202/1202 [==============================] - 80s 66ms/step - loss: 4.1446 - accuracy: 0.1980\n",
      "Epoch 29/70\n",
      "  44/1202 [>.............................] - ETA: 1:18 - loss: 4.0119 - accuracy: 0.2118"
     ]
    },
    {
     "name": "stderr",
     "output_type": "stream",
     "text": [
      "[codecarbon INFO @ 23:29:06] Energy consumed for RAM : 0.003622 kWh. RAM Power : 5.796770095825195 W\n",
      "[codecarbon INFO @ 23:29:06] Energy consumed for all CPUs : 0.004687 kWh. Total CPU Power : 7.5 W\n",
      "[codecarbon INFO @ 23:29:06] 0.008309 kWh of electricity used since the beginning.\n"
     ]
    },
    {
     "name": "stdout",
     "output_type": "stream",
     "text": [
      " 271/1202 [=====>........................] - ETA: 1:01 - loss: 4.0373 - accuracy: 0.2075"
     ]
    },
    {
     "name": "stderr",
     "output_type": "stream",
     "text": [
      "[codecarbon INFO @ 23:29:21] Energy consumed for RAM : 0.003646 kWh. RAM Power : 5.796770095825195 W\n",
      "[codecarbon INFO @ 23:29:21] Energy consumed for all CPUs : 0.004718 kWh. Total CPU Power : 7.5 W\n",
      "[codecarbon INFO @ 23:29:21] 0.008364 kWh of electricity used since the beginning.\n"
     ]
    },
    {
     "name": "stdout",
     "output_type": "stream",
     "text": [
      " 498/1202 [===========>..................] - ETA: 46s - loss: 4.0601 - accuracy: 0.2047"
     ]
    },
    {
     "name": "stderr",
     "output_type": "stream",
     "text": [
      "[codecarbon INFO @ 23:29:36] Energy consumed for RAM : 0.003670 kWh. RAM Power : 5.796770095825195 W\n",
      "[codecarbon INFO @ 23:29:36] Energy consumed for all CPUs : 0.004749 kWh. Total CPU Power : 7.5 W\n",
      "[codecarbon INFO @ 23:29:36] 0.008420 kWh of electricity used since the beginning.\n"
     ]
    },
    {
     "name": "stdout",
     "output_type": "stream",
     "text": [
      " 725/1202 [=================>............] - ETA: 31s - loss: 4.0829 - accuracy: 0.2027"
     ]
    },
    {
     "name": "stderr",
     "output_type": "stream",
     "text": [
      "[codecarbon INFO @ 23:29:51] Energy consumed for RAM : 0.003694 kWh. RAM Power : 5.796770095825195 W\n",
      "[codecarbon INFO @ 23:29:51] Energy consumed for all CPUs : 0.004781 kWh. Total CPU Power : 7.5 W\n",
      "[codecarbon INFO @ 23:29:51] 0.008475 kWh of electricity used since the beginning.\n"
     ]
    },
    {
     "name": "stdout",
     "output_type": "stream",
     "text": [
      " 953/1202 [======================>.......] - ETA: 16s - loss: 4.0974 - accuracy: 0.2016"
     ]
    },
    {
     "name": "stderr",
     "output_type": "stream",
     "text": [
      "[codecarbon INFO @ 23:30:06] Energy consumed for RAM : 0.003718 kWh. RAM Power : 5.796770095825195 W\n",
      "[codecarbon INFO @ 23:30:06] Energy consumed for all CPUs : 0.004812 kWh. Total CPU Power : 7.5 W\n",
      "[codecarbon INFO @ 23:30:06] 0.008530 kWh of electricity used since the beginning.\n"
     ]
    },
    {
     "name": "stdout",
     "output_type": "stream",
     "text": [
      "1179/1202 [============================>.] - ETA: 1s - loss: 4.1156 - accuracy: 0.1993"
     ]
    },
    {
     "name": "stderr",
     "output_type": "stream",
     "text": [
      "[codecarbon INFO @ 23:30:21] Energy consumed for RAM : 0.003743 kWh. RAM Power : 5.796770095825195 W\n",
      "[codecarbon INFO @ 23:30:21] Energy consumed for all CPUs : 0.004843 kWh. Total CPU Power : 7.5 W\n",
      "[codecarbon INFO @ 23:30:21] 0.008586 kWh of electricity used since the beginning.\n"
     ]
    },
    {
     "name": "stdout",
     "output_type": "stream",
     "text": [
      "1202/1202 [==============================] - ETA: 0s - loss: 4.1179 - accuracy: 0.1990\n",
      "Epoch 29: accuracy improved from 0.19798 to 0.19904, saving model to model/weights-QuijoteNLP.hdf5\n",
      "1202/1202 [==============================] - 80s 66ms/step - loss: 4.1179 - accuracy: 0.1990\n",
      "Epoch 30/70\n",
      " 202/1202 [====>.........................] - ETA: 1:06 - loss: 3.9961 - accuracy: 0.2097"
     ]
    },
    {
     "name": "stderr",
     "output_type": "stream",
     "text": [
      "[codecarbon INFO @ 23:30:36] Energy consumed for RAM : 0.003767 kWh. RAM Power : 5.796770095825195 W\n",
      "[codecarbon INFO @ 23:30:36] Energy consumed for all CPUs : 0.004874 kWh. Total CPU Power : 7.5 W\n",
      "[codecarbon INFO @ 23:30:36] 0.008641 kWh of electricity used since the beginning.\n"
     ]
    },
    {
     "name": "stdout",
     "output_type": "stream",
     "text": [
      " 428/1202 [=========>....................] - ETA: 51s - loss: 4.0233 - accuracy: 0.2082"
     ]
    },
    {
     "name": "stderr",
     "output_type": "stream",
     "text": [
      "[codecarbon INFO @ 23:30:51] Energy consumed for RAM : 0.003791 kWh. RAM Power : 5.796770095825195 W\n",
      "[codecarbon INFO @ 23:30:51] Energy consumed for all CPUs : 0.004906 kWh. Total CPU Power : 7.5 W\n",
      "[codecarbon INFO @ 23:30:51] 0.008697 kWh of electricity used since the beginning.\n"
     ]
    },
    {
     "name": "stdout",
     "output_type": "stream",
     "text": [
      " 653/1202 [===============>..............] - ETA: 36s - loss: 4.0431 - accuracy: 0.2064"
     ]
    },
    {
     "name": "stderr",
     "output_type": "stream",
     "text": [
      "[codecarbon INFO @ 23:31:06] Energy consumed for RAM : 0.003815 kWh. RAM Power : 5.796770095825195 W\n",
      "[codecarbon INFO @ 23:31:06] Energy consumed for all CPUs : 0.004937 kWh. Total CPU Power : 7.5 W\n",
      "[codecarbon INFO @ 23:31:06] 0.008752 kWh of electricity used since the beginning.\n"
     ]
    },
    {
     "name": "stdout",
     "output_type": "stream",
     "text": [
      " 879/1202 [====================>.........] - ETA: 21s - loss: 4.0662 - accuracy: 0.2044"
     ]
    },
    {
     "name": "stderr",
     "output_type": "stream",
     "text": [
      "[codecarbon INFO @ 23:31:21] Energy consumed for RAM : 0.003839 kWh. RAM Power : 5.796770095825195 W\n",
      "[codecarbon INFO @ 23:31:21] Energy consumed for all CPUs : 0.004968 kWh. Total CPU Power : 7.5 W\n",
      "[codecarbon INFO @ 23:31:21] 0.008807 kWh of electricity used since the beginning.\n"
     ]
    },
    {
     "name": "stdout",
     "output_type": "stream",
     "text": [
      "1105/1202 [==========================>...] - ETA: 6s - loss: 4.0825 - accuracy: 0.2028"
     ]
    },
    {
     "name": "stderr",
     "output_type": "stream",
     "text": [
      "[codecarbon INFO @ 23:31:36] Energy consumed for RAM : 0.003863 kWh. RAM Power : 5.796770095825195 W\n",
      "[codecarbon INFO @ 23:31:36] Energy consumed for all CPUs : 0.004999 kWh. Total CPU Power : 7.5 W\n",
      "[codecarbon INFO @ 23:31:36] 0.008863 kWh of electricity used since the beginning.\n"
     ]
    },
    {
     "name": "stdout",
     "output_type": "stream",
     "text": [
      "1202/1202 [==============================] - ETA: 0s - loss: 4.0907 - accuracy: 0.2024\n",
      "Epoch 30: accuracy improved from 0.19904 to 0.20238, saving model to model/weights-QuijoteNLP.hdf5\n",
      "1202/1202 [==============================] - 80s 66ms/step - loss: 4.0907 - accuracy: 0.2024\n",
      "Epoch 31/70\n",
      " 129/1202 [==>...........................] - ETA: 1:11 - loss: 3.9710 - accuracy: 0.2109"
     ]
    },
    {
     "name": "stderr",
     "output_type": "stream",
     "text": [
      "[codecarbon INFO @ 23:31:51] Energy consumed for RAM : 0.003888 kWh. RAM Power : 5.796770095825195 W\n",
      "[codecarbon INFO @ 23:31:51] Energy consumed for all CPUs : 0.005031 kWh. Total CPU Power : 7.5 W\n",
      "[codecarbon INFO @ 23:31:51] 0.008918 kWh of electricity used since the beginning.\n"
     ]
    },
    {
     "name": "stdout",
     "output_type": "stream",
     "text": [
      " 356/1202 [=======>......................] - ETA: 56s - loss: 4.0015 - accuracy: 0.2109"
     ]
    },
    {
     "name": "stderr",
     "output_type": "stream",
     "text": [
      "[codecarbon INFO @ 23:32:06] Energy consumed for RAM : 0.003912 kWh. RAM Power : 5.796770095825195 W\n",
      "[codecarbon INFO @ 23:32:06] Energy consumed for all CPUs : 0.005062 kWh. Total CPU Power : 7.5 W\n",
      "[codecarbon INFO @ 23:32:06] 0.008973 kWh of electricity used since the beginning.\n"
     ]
    },
    {
     "name": "stdout",
     "output_type": "stream",
     "text": [
      " 581/1202 [=============>................] - ETA: 41s - loss: 4.0229 - accuracy: 0.2093"
     ]
    },
    {
     "name": "stderr",
     "output_type": "stream",
     "text": [
      "[codecarbon INFO @ 23:32:21] Energy consumed for RAM : 0.003936 kWh. RAM Power : 5.796770095825195 W\n"
     ]
    },
    {
     "name": "stdout",
     "output_type": "stream",
     "text": [
      " 582/1202 [=============>................] - ETA: 41s - loss: 4.0227 - accuracy: 0.2094"
     ]
    },
    {
     "name": "stderr",
     "output_type": "stream",
     "text": [
      "[codecarbon INFO @ 23:32:21] Energy consumed for all CPUs : 0.005093 kWh. Total CPU Power : 7.5 W\n",
      "[codecarbon INFO @ 23:32:21] 0.009029 kWh of electricity used since the beginning.\n"
     ]
    },
    {
     "name": "stdout",
     "output_type": "stream",
     "text": [
      " 808/1202 [===================>..........] - ETA: 26s - loss: 4.0430 - accuracy: 0.2068"
     ]
    },
    {
     "name": "stderr",
     "output_type": "stream",
     "text": [
      "[codecarbon INFO @ 23:32:36] Energy consumed for RAM : 0.003960 kWh. RAM Power : 5.796770095825195 W\n",
      "[codecarbon INFO @ 23:32:36] Energy consumed for all CPUs : 0.005124 kWh. Total CPU Power : 7.5 W\n",
      "[codecarbon INFO @ 23:32:36] 0.009084 kWh of electricity used since the beginning.\n"
     ]
    },
    {
     "name": "stdout",
     "output_type": "stream",
     "text": [
      "1034/1202 [========================>.....] - ETA: 11s - loss: 4.0557 - accuracy: 0.2059"
     ]
    },
    {
     "name": "stderr",
     "output_type": "stream",
     "text": [
      "[codecarbon INFO @ 23:32:51] Energy consumed for RAM : 0.003984 kWh. RAM Power : 5.796770095825195 W\n",
      "[codecarbon INFO @ 23:32:51] Energy consumed for all CPUs : 0.005156 kWh. Total CPU Power : 7.5 W\n",
      "[codecarbon INFO @ 23:32:51] 0.009140 kWh of electricity used since the beginning.\n"
     ]
    },
    {
     "name": "stdout",
     "output_type": "stream",
     "text": [
      "1202/1202 [==============================] - ETA: 0s - loss: 4.0649 - accuracy: 0.2047\n",
      "Epoch 31: accuracy improved from 0.20238 to 0.20473, saving model to model/weights-QuijoteNLP.hdf5\n",
      "1202/1202 [==============================] - 80s 66ms/step - loss: 4.0649 - accuracy: 0.2047\n",
      "Epoch 32/70\n",
      "  57/1202 [>.............................] - ETA: 1:18 - loss: 3.8996 - accuracy: 0.2257"
     ]
    },
    {
     "name": "stderr",
     "output_type": "stream",
     "text": [
      "[codecarbon INFO @ 23:33:06] Energy consumed for RAM : 0.004008 kWh. RAM Power : 5.796770095825195 W\n",
      "[codecarbon INFO @ 23:33:06] Energy consumed for all CPUs : 0.005187 kWh. Total CPU Power : 7.5 W\n",
      "[codecarbon INFO @ 23:33:06] 0.009195 kWh of electricity used since the beginning.\n"
     ]
    },
    {
     "name": "stdout",
     "output_type": "stream",
     "text": [
      " 284/1202 [======>.......................] - ETA: 1:01 - loss: 3.9558 - accuracy: 0.2147"
     ]
    },
    {
     "name": "stderr",
     "output_type": "stream",
     "text": [
      "[codecarbon INFO @ 23:33:21] Energy consumed for RAM : 0.004032 kWh. RAM Power : 5.796770095825195 W\n",
      "[codecarbon INFO @ 23:33:21] Energy consumed for all CPUs : 0.005218 kWh. Total CPU Power : 7.5 W\n",
      "[codecarbon INFO @ 23:33:21] 0.009250 kWh of electricity used since the beginning.\n"
     ]
    },
    {
     "name": "stdout",
     "output_type": "stream",
     "text": [
      " 510/1202 [===========>..................] - ETA: 45s - loss: 3.9838 - accuracy: 0.2122"
     ]
    },
    {
     "name": "stderr",
     "output_type": "stream",
     "text": [
      "[codecarbon INFO @ 23:33:36] Energy consumed for RAM : 0.004057 kWh. RAM Power : 5.796770095825195 W\n",
      "[codecarbon INFO @ 23:33:36] Energy consumed for all CPUs : 0.005249 kWh. Total CPU Power : 7.5 W\n",
      "[codecarbon INFO @ 23:33:36] 0.009306 kWh of electricity used since the beginning.\n"
     ]
    },
    {
     "name": "stdout",
     "output_type": "stream",
     "text": [
      " 738/1202 [=================>............] - ETA: 30s - loss: 4.0028 - accuracy: 0.2112"
     ]
    },
    {
     "name": "stderr",
     "output_type": "stream",
     "text": [
      "[codecarbon INFO @ 23:33:51] Energy consumed for RAM : 0.004081 kWh. RAM Power : 5.796770095825195 W\n",
      "[codecarbon INFO @ 23:33:51] Energy consumed for all CPUs : 0.005281 kWh. Total CPU Power : 7.5 W\n",
      "[codecarbon INFO @ 23:33:51] 0.009361 kWh of electricity used since the beginning.\n"
     ]
    },
    {
     "name": "stdout",
     "output_type": "stream",
     "text": [
      " 964/1202 [=======================>......] - ETA: 15s - loss: 4.0195 - accuracy: 0.2101"
     ]
    },
    {
     "name": "stderr",
     "output_type": "stream",
     "text": [
      "[codecarbon INFO @ 23:34:06] Energy consumed for RAM : 0.004105 kWh. RAM Power : 5.796770095825195 W\n",
      "[codecarbon INFO @ 23:34:06] Energy consumed for all CPUs : 0.005312 kWh. Total CPU Power : 7.5 W\n",
      "[codecarbon INFO @ 23:34:06] 0.009417 kWh of electricity used since the beginning.\n"
     ]
    },
    {
     "name": "stdout",
     "output_type": "stream",
     "text": [
      "1190/1202 [============================>.] - ETA: 0s - loss: 4.0359 - accuracy: 0.2083"
     ]
    },
    {
     "name": "stderr",
     "output_type": "stream",
     "text": [
      "[codecarbon INFO @ 23:34:21] Energy consumed for RAM : 0.004129 kWh. RAM Power : 5.796770095825195 W\n",
      "[codecarbon INFO @ 23:34:21] Energy consumed for all CPUs : 0.005343 kWh. Total CPU Power : 7.5 W\n",
      "[codecarbon INFO @ 23:34:21] 0.009472 kWh of electricity used since the beginning.\n"
     ]
    },
    {
     "name": "stdout",
     "output_type": "stream",
     "text": [
      "1202/1202 [==============================] - ETA: 0s - loss: 4.0379 - accuracy: 0.2081\n",
      "Epoch 32: accuracy improved from 0.20473 to 0.20805, saving model to model/weights-QuijoteNLP.hdf5\n",
      "1202/1202 [==============================] - 80s 66ms/step - loss: 4.0379 - accuracy: 0.2081\n",
      "Epoch 33/70\n",
      " 214/1202 [====>.........................] - ETA: 1:05 - loss: 3.9470 - accuracy: 0.2195"
     ]
    },
    {
     "name": "stderr",
     "output_type": "stream",
     "text": [
      "[codecarbon INFO @ 23:34:36] Energy consumed for RAM : 0.004153 kWh. RAM Power : 5.796770095825195 W\n",
      "[codecarbon INFO @ 23:34:36] Energy consumed for all CPUs : 0.005374 kWh. Total CPU Power : 7.5 W\n",
      "[codecarbon INFO @ 23:34:36] 0.009527 kWh of electricity used since the beginning.\n"
     ]
    },
    {
     "name": "stdout",
     "output_type": "stream",
     "text": [
      " 440/1202 [=========>....................] - ETA: 50s - loss: 3.9547 - accuracy: 0.2199"
     ]
    },
    {
     "name": "stderr",
     "output_type": "stream",
     "text": [
      "[codecarbon INFO @ 23:34:51] Energy consumed for RAM : 0.004177 kWh. RAM Power : 5.796770095825195 W\n",
      "[codecarbon INFO @ 23:34:51] Energy consumed for all CPUs : 0.005406 kWh. Total CPU Power : 7.5 W\n",
      "[codecarbon INFO @ 23:34:51] 0.009583 kWh of electricity used since the beginning.\n"
     ]
    },
    {
     "name": "stdout",
     "output_type": "stream",
     "text": [
      " 667/1202 [===============>..............] - ETA: 35s - loss: 3.9696 - accuracy: 0.2172"
     ]
    },
    {
     "name": "stderr",
     "output_type": "stream",
     "text": [
      "[codecarbon INFO @ 23:35:06] Energy consumed for RAM : 0.004201 kWh. RAM Power : 5.796770095825195 W\n",
      "[codecarbon INFO @ 23:35:06] Energy consumed for all CPUs : 0.005437 kWh. Total CPU Power : 7.5 W\n",
      "[codecarbon INFO @ 23:35:06] 0.009638 kWh of electricity used since the beginning.\n"
     ]
    },
    {
     "name": "stdout",
     "output_type": "stream",
     "text": [
      " 893/1202 [=====================>........] - ETA: 20s - loss: 3.9884 - accuracy: 0.2145"
     ]
    },
    {
     "name": "stderr",
     "output_type": "stream",
     "text": [
      "[codecarbon INFO @ 23:35:21] Energy consumed for RAM : 0.004226 kWh. RAM Power : 5.796770095825195 W\n",
      "[codecarbon INFO @ 23:35:21] Energy consumed for all CPUs : 0.005468 kWh. Total CPU Power : 7.5 W\n",
      "[codecarbon INFO @ 23:35:21] 0.009694 kWh of electricity used since the beginning.\n"
     ]
    },
    {
     "name": "stdout",
     "output_type": "stream",
     "text": [
      "1119/1202 [==========================>...] - ETA: 5s - loss: 4.0066 - accuracy: 0.2113"
     ]
    },
    {
     "name": "stderr",
     "output_type": "stream",
     "text": [
      "[codecarbon INFO @ 23:35:36] Energy consumed for RAM : 0.004250 kWh. RAM Power : 5.796770095825195 W\n",
      "[codecarbon INFO @ 23:35:36] Energy consumed for all CPUs : 0.005499 kWh. Total CPU Power : 7.5 W\n",
      "[codecarbon INFO @ 23:35:36] 0.009749 kWh of electricity used since the beginning.\n"
     ]
    },
    {
     "name": "stdout",
     "output_type": "stream",
     "text": [
      "1202/1202 [==============================] - ETA: 0s - loss: 4.0150 - accuracy: 0.2103\n",
      "Epoch 33: accuracy improved from 0.20805 to 0.21029, saving model to model/weights-QuijoteNLP.hdf5\n",
      "1202/1202 [==============================] - 80s 66ms/step - loss: 4.0150 - accuracy: 0.2103\n",
      "Epoch 34/70\n",
      " 142/1202 [==>...........................] - ETA: 1:10 - loss: 3.8901 - accuracy: 0.2241"
     ]
    },
    {
     "name": "stderr",
     "output_type": "stream",
     "text": [
      "[codecarbon INFO @ 23:35:51] Energy consumed for RAM : 0.004274 kWh. RAM Power : 5.796770095825195 W\n",
      "[codecarbon INFO @ 23:35:51] Energy consumed for all CPUs : 0.005531 kWh. Total CPU Power : 7.5 W\n",
      "[codecarbon INFO @ 23:35:51] 0.009804 kWh of electricity used since the beginning.\n"
     ]
    },
    {
     "name": "stdout",
     "output_type": "stream",
     "text": [
      " 369/1202 [========>.....................] - ETA: 55s - loss: 3.9139 - accuracy: 0.2208"
     ]
    },
    {
     "name": "stderr",
     "output_type": "stream",
     "text": [
      "[codecarbon INFO @ 23:36:06] Energy consumed for RAM : 0.004298 kWh. RAM Power : 5.796770095825195 W\n",
      "[codecarbon INFO @ 23:36:06] Energy consumed for all CPUs : 0.005562 kWh. Total CPU Power : 7.5 W\n",
      "[codecarbon INFO @ 23:36:06] 0.009860 kWh of electricity used since the beginning.\n"
     ]
    },
    {
     "name": "stdout",
     "output_type": "stream",
     "text": [
      " 594/1202 [=============>................] - ETA: 40s - loss: 3.9416 - accuracy: 0.2182"
     ]
    },
    {
     "name": "stderr",
     "output_type": "stream",
     "text": [
      "[codecarbon INFO @ 23:36:21] Energy consumed for RAM : 0.004322 kWh. RAM Power : 5.796770095825195 W\n",
      "[codecarbon INFO @ 23:36:21] Energy consumed for all CPUs : 0.005593 kWh. Total CPU Power : 7.5 W\n",
      "[codecarbon INFO @ 23:36:21] 0.009915 kWh of electricity used since the beginning.\n"
     ]
    },
    {
     "name": "stdout",
     "output_type": "stream",
     "text": [
      " 820/1202 [===================>..........] - ETA: 25s - loss: 3.9628 - accuracy: 0.2152"
     ]
    },
    {
     "name": "stderr",
     "output_type": "stream",
     "text": [
      "[codecarbon INFO @ 23:36:36] Energy consumed for RAM : 0.004346 kWh. RAM Power : 5.796770095825195 W\n",
      "[codecarbon INFO @ 23:36:36] Energy consumed for all CPUs : 0.005624 kWh. Total CPU Power : 7.5 W\n",
      "[codecarbon INFO @ 23:36:36] 0.009971 kWh of electricity used since the beginning.\n"
     ]
    },
    {
     "name": "stdout",
     "output_type": "stream",
     "text": [
      "1047/1202 [=========================>....] - ETA: 10s - loss: 3.9784 - accuracy: 0.2134"
     ]
    },
    {
     "name": "stderr",
     "output_type": "stream",
     "text": [
      "[codecarbon INFO @ 23:36:51] Energy consumed for RAM : 0.004370 kWh. RAM Power : 5.796770095825195 W\n",
      "[codecarbon INFO @ 23:36:51] Energy consumed for all CPUs : 0.005656 kWh. Total CPU Power : 7.5 W\n",
      "[codecarbon INFO @ 23:36:51] 0.010026 kWh of electricity used since the beginning.\n"
     ]
    },
    {
     "name": "stdout",
     "output_type": "stream",
     "text": [
      "1202/1202 [==============================] - ETA: 0s - loss: 3.9915 - accuracy: 0.2122\n",
      "Epoch 34: accuracy improved from 0.21029 to 0.21216, saving model to model/weights-QuijoteNLP.hdf5\n",
      "1202/1202 [==============================] - 80s 66ms/step - loss: 3.9915 - accuracy: 0.2122\n",
      "Epoch 35/70\n",
      "  70/1202 [>.............................] - ETA: 1:16 - loss: 3.8600 - accuracy: 0.2288"
     ]
    },
    {
     "name": "stderr",
     "output_type": "stream",
     "text": [
      "[codecarbon INFO @ 23:37:06] Energy consumed for RAM : 0.004395 kWh. RAM Power : 5.796770095825195 W\n",
      "[codecarbon INFO @ 23:37:06] Energy consumed for all CPUs : 0.005687 kWh. Total CPU Power : 7.5 W\n",
      "[codecarbon INFO @ 23:37:06] 0.010081 kWh of electricity used since the beginning.\n"
     ]
    },
    {
     "name": "stdout",
     "output_type": "stream",
     "text": [
      " 296/1202 [======>.......................] - ETA: 1:00 - loss: 3.8865 - accuracy: 0.2246"
     ]
    },
    {
     "name": "stderr",
     "output_type": "stream",
     "text": [
      "[codecarbon INFO @ 23:37:21] Energy consumed for RAM : 0.004419 kWh. RAM Power : 5.796770095825195 W\n",
      "[codecarbon INFO @ 23:37:21] Energy consumed for all CPUs : 0.005718 kWh. Total CPU Power : 7.5 W\n",
      "[codecarbon INFO @ 23:37:21] 0.010137 kWh of electricity used since the beginning.\n"
     ]
    },
    {
     "name": "stdout",
     "output_type": "stream",
     "text": [
      " 523/1202 [============>.................] - ETA: 45s - loss: 3.9198 - accuracy: 0.2210"
     ]
    },
    {
     "name": "stderr",
     "output_type": "stream",
     "text": [
      "[codecarbon INFO @ 23:37:36] Energy consumed for RAM : 0.004443 kWh. RAM Power : 5.796770095825195 W\n",
      "[codecarbon INFO @ 23:37:36] Energy consumed for all CPUs : 0.005749 kWh. Total CPU Power : 7.5 W\n",
      "[codecarbon INFO @ 23:37:36] 0.010192 kWh of electricity used since the beginning.\n"
     ]
    },
    {
     "name": "stdout",
     "output_type": "stream",
     "text": [
      " 749/1202 [=================>............] - ETA: 30s - loss: 3.9374 - accuracy: 0.2183"
     ]
    },
    {
     "name": "stderr",
     "output_type": "stream",
     "text": [
      "[codecarbon INFO @ 23:37:51] Energy consumed for RAM : 0.004467 kWh. RAM Power : 5.796770095825195 W\n",
      "[codecarbon INFO @ 23:37:51] Energy consumed for all CPUs : 0.005781 kWh. Total CPU Power : 7.5 W\n",
      "[codecarbon INFO @ 23:37:51] 0.010248 kWh of electricity used since the beginning.\n"
     ]
    },
    {
     "name": "stdout",
     "output_type": "stream",
     "text": [
      " 976/1202 [=======================>......] - ETA: 15s - loss: 3.9501 - accuracy: 0.2165"
     ]
    },
    {
     "name": "stderr",
     "output_type": "stream",
     "text": [
      "[codecarbon INFO @ 23:38:06] Energy consumed for RAM : 0.004491 kWh. RAM Power : 5.796770095825195 W\n",
      "[codecarbon INFO @ 23:38:06] Energy consumed for all CPUs : 0.005812 kWh. Total CPU Power : 7.5 W\n",
      "[codecarbon INFO @ 23:38:06] 0.010303 kWh of electricity used since the beginning.\n"
     ]
    },
    {
     "name": "stdout",
     "output_type": "stream",
     "text": [
      "1202/1202 [==============================] - ETA: 0s - loss: 3.9670 - accuracy: 0.2151\n",
      "Epoch 35: accuracy improved from 0.21216 to 0.21511, saving model to model/weights-QuijoteNLP.hdf5\n"
     ]
    },
    {
     "name": "stderr",
     "output_type": "stream",
     "text": [
      "[codecarbon INFO @ 23:38:21] Energy consumed for RAM : 0.004515 kWh. RAM Power : 5.796770095825195 W\n",
      "[codecarbon INFO @ 23:38:21] Energy consumed for all CPUs : 0.005843 kWh. Total CPU Power : 7.5 W\n",
      "[codecarbon INFO @ 23:38:21] 0.010358 kWh of electricity used since the beginning.\n"
     ]
    },
    {
     "name": "stdout",
     "output_type": "stream",
     "text": [
      "1202/1202 [==============================] - 80s 66ms/step - loss: 3.9670 - accuracy: 0.2151\n",
      "Epoch 36/70\n",
      " 224/1202 [====>.........................] - ETA: 1:05 - loss: 3.8577 - accuracy: 0.2271"
     ]
    },
    {
     "name": "stderr",
     "output_type": "stream",
     "text": [
      "[codecarbon INFO @ 23:38:36] Energy consumed for RAM : 0.004539 kWh. RAM Power : 5.796770095825195 W\n",
      "[codecarbon INFO @ 23:38:36] Energy consumed for all CPUs : 0.005874 kWh. Total CPU Power : 7.5 W\n",
      "[codecarbon INFO @ 23:38:36] 0.010414 kWh of electricity used since the beginning.\n"
     ]
    },
    {
     "name": "stdout",
     "output_type": "stream",
     "text": [
      " 450/1202 [==========>...................] - ETA: 49s - loss: 3.8907 - accuracy: 0.2239"
     ]
    },
    {
     "name": "stderr",
     "output_type": "stream",
     "text": [
      "[codecarbon INFO @ 23:38:51] Energy consumed for RAM : 0.004564 kWh. RAM Power : 5.796770095825195 W\n",
      "[codecarbon INFO @ 23:38:51] Energy consumed for all CPUs : 0.005906 kWh. Total CPU Power : 7.5 W\n",
      "[codecarbon INFO @ 23:38:51] 0.010469 kWh of electricity used since the beginning.\n"
     ]
    },
    {
     "name": "stdout",
     "output_type": "stream",
     "text": [
      " 676/1202 [===============>..............] - ETA: 34s - loss: 3.9163 - accuracy: 0.2200"
     ]
    },
    {
     "name": "stderr",
     "output_type": "stream",
     "text": [
      "[codecarbon INFO @ 23:39:06] Energy consumed for RAM : 0.004588 kWh. RAM Power : 5.796770095825195 W\n",
      "[codecarbon INFO @ 23:39:06] Energy consumed for all CPUs : 0.005937 kWh. Total CPU Power : 7.5 W\n",
      "[codecarbon INFO @ 23:39:06] 0.010525 kWh of electricity used since the beginning.\n"
     ]
    },
    {
     "name": "stdout",
     "output_type": "stream",
     "text": [
      " 902/1202 [=====================>........] - ETA: 19s - loss: 3.9281 - accuracy: 0.2190"
     ]
    },
    {
     "name": "stderr",
     "output_type": "stream",
     "text": [
      "[codecarbon INFO @ 23:39:21] Energy consumed for RAM : 0.004612 kWh. RAM Power : 5.796770095825195 W\n",
      "[codecarbon INFO @ 23:39:21] Energy consumed for all CPUs : 0.005968 kWh. Total CPU Power : 7.5 W\n",
      "[codecarbon INFO @ 23:39:21] 0.010580 kWh of electricity used since the beginning.\n"
     ]
    },
    {
     "name": "stdout",
     "output_type": "stream",
     "text": [
      "1128/1202 [===========================>..] - ETA: 4s - loss: 3.9403 - accuracy: 0.2181"
     ]
    },
    {
     "name": "stderr",
     "output_type": "stream",
     "text": [
      "[codecarbon INFO @ 23:39:36] Energy consumed for RAM : 0.004636 kWh. RAM Power : 5.796770095825195 W\n",
      "[codecarbon INFO @ 23:39:36] Energy consumed for all CPUs : 0.005999 kWh. Total CPU Power : 7.5 W\n",
      "[codecarbon INFO @ 23:39:36] 0.010635 kWh of electricity used since the beginning.\n"
     ]
    },
    {
     "name": "stdout",
     "output_type": "stream",
     "text": [
      "1202/1202 [==============================] - ETA: 0s - loss: 3.9457 - accuracy: 0.2173\n",
      "Epoch 36: accuracy improved from 0.21511 to 0.21728, saving model to model/weights-QuijoteNLP.hdf5\n",
      "1202/1202 [==============================] - 80s 66ms/step - loss: 3.9457 - accuracy: 0.2173\n",
      "Epoch 37/70\n",
      " 151/1202 [==>...........................] - ETA: 1:09 - loss: 3.8043 - accuracy: 0.2305"
     ]
    },
    {
     "name": "stderr",
     "output_type": "stream",
     "text": [
      "[codecarbon INFO @ 23:39:51] Energy consumed for RAM : 0.004660 kWh. RAM Power : 5.796770095825195 W\n",
      "[codecarbon INFO @ 23:39:51] Energy consumed for all CPUs : 0.006030 kWh. Total CPU Power : 7.5 W\n",
      "[codecarbon INFO @ 23:39:51] 0.010691 kWh of electricity used since the beginning.\n"
     ]
    },
    {
     "name": "stdout",
     "output_type": "stream",
     "text": [
      " 376/1202 [========>.....................] - ETA: 54s - loss: 3.8428 - accuracy: 0.2277"
     ]
    },
    {
     "name": "stderr",
     "output_type": "stream",
     "text": [
      "[codecarbon INFO @ 23:40:06] Energy consumed for RAM : 0.004684 kWh. RAM Power : 5.796770095825195 W\n",
      "[codecarbon INFO @ 23:40:06] Energy consumed for all CPUs : 0.006062 kWh. Total CPU Power : 7.5 W\n",
      "[codecarbon INFO @ 23:40:06] 0.010746 kWh of electricity used since the beginning.\n"
     ]
    },
    {
     "name": "stdout",
     "output_type": "stream",
     "text": [
      " 602/1202 [==============>...............] - ETA: 39s - loss: 3.8651 - accuracy: 0.2255"
     ]
    },
    {
     "name": "stderr",
     "output_type": "stream",
     "text": [
      "[codecarbon INFO @ 23:40:21] Energy consumed for RAM : 0.004708 kWh. RAM Power : 5.796770095825195 W\n",
      "[codecarbon INFO @ 23:40:21] Energy consumed for all CPUs : 0.006093 kWh. Total CPU Power : 7.5 W\n",
      "[codecarbon INFO @ 23:40:21] 0.010801 kWh of electricity used since the beginning.\n"
     ]
    },
    {
     "name": "stdout",
     "output_type": "stream",
     "text": [
      " 827/1202 [===================>..........] - ETA: 24s - loss: 3.8870 - accuracy: 0.2241"
     ]
    },
    {
     "name": "stderr",
     "output_type": "stream",
     "text": [
      "[codecarbon INFO @ 23:40:36] Energy consumed for RAM : 0.004733 kWh. RAM Power : 5.796770095825195 W\n",
      "[codecarbon INFO @ 23:40:36] Energy consumed for all CPUs : 0.006124 kWh. Total CPU Power : 7.5 W\n",
      "[codecarbon INFO @ 23:40:36] 0.010857 kWh of electricity used since the beginning.\n"
     ]
    },
    {
     "name": "stdout",
     "output_type": "stream",
     "text": [
      "1054/1202 [=========================>....] - ETA: 9s - loss: 3.9064 - accuracy: 0.2222"
     ]
    },
    {
     "name": "stderr",
     "output_type": "stream",
     "text": [
      "[codecarbon INFO @ 23:40:51] Energy consumed for RAM : 0.004757 kWh. RAM Power : 5.796770095825195 W\n",
      "[codecarbon INFO @ 23:40:51] Energy consumed for all CPUs : 0.006155 kWh. Total CPU Power : 7.5 W\n",
      "[codecarbon INFO @ 23:40:51] 0.010912 kWh of electricity used since the beginning.\n"
     ]
    },
    {
     "name": "stdout",
     "output_type": "stream",
     "text": [
      "1202/1202 [==============================] - ETA: 0s - loss: 3.9225 - accuracy: 0.2199\n",
      "Epoch 37: accuracy improved from 0.21728 to 0.21987, saving model to model/weights-QuijoteNLP.hdf5\n",
      "1202/1202 [==============================] - 80s 66ms/step - loss: 3.9225 - accuracy: 0.2199\n",
      "Epoch 38/70\n",
      "  77/1202 [>.............................] - ETA: 1:15 - loss: 3.7779 - accuracy: 0.2376"
     ]
    },
    {
     "name": "stderr",
     "output_type": "stream",
     "text": [
      "[codecarbon INFO @ 23:41:06] Energy consumed for RAM : 0.004781 kWh. RAM Power : 5.796770095825195 W\n",
      "[codecarbon INFO @ 23:41:06] Energy consumed for all CPUs : 0.006187 kWh. Total CPU Power : 7.5 W\n",
      "[codecarbon INFO @ 23:41:06] 0.010968 kWh of electricity used since the beginning.\n"
     ]
    },
    {
     "name": "stdout",
     "output_type": "stream",
     "text": [
      " 303/1202 [======>.......................] - ETA: 59s - loss: 3.8224 - accuracy: 0.2320"
     ]
    },
    {
     "name": "stderr",
     "output_type": "stream",
     "text": [
      "[codecarbon INFO @ 23:41:21] Energy consumed for RAM : 0.004805 kWh. RAM Power : 5.796770095825195 W\n",
      "[codecarbon INFO @ 23:41:21] Energy consumed for all CPUs : 0.006218 kWh. Total CPU Power : 7.5 W\n",
      "[codecarbon INFO @ 23:41:21] 0.011023 kWh of electricity used since the beginning.\n"
     ]
    },
    {
     "name": "stdout",
     "output_type": "stream",
     "text": [
      " 531/1202 [============>.................] - ETA: 44s - loss: 3.8453 - accuracy: 0.2269"
     ]
    },
    {
     "name": "stderr",
     "output_type": "stream",
     "text": [
      "[codecarbon INFO @ 23:41:36] Energy consumed for RAM : 0.004829 kWh. RAM Power : 5.796770095825195 W\n",
      "[codecarbon INFO @ 23:41:36] Energy consumed for all CPUs : 0.006249 kWh. Total CPU Power : 7.5 W\n",
      "[codecarbon INFO @ 23:41:36] 0.011078 kWh of electricity used since the beginning.\n"
     ]
    },
    {
     "name": "stdout",
     "output_type": "stream",
     "text": [
      " 757/1202 [=================>............] - ETA: 29s - loss: 3.8676 - accuracy: 0.2257"
     ]
    },
    {
     "name": "stderr",
     "output_type": "stream",
     "text": [
      "[codecarbon INFO @ 23:41:51] Energy consumed for RAM : 0.004853 kWh. RAM Power : 5.796770095825195 W\n",
      "[codecarbon INFO @ 23:41:51] Energy consumed for all CPUs : 0.006280 kWh. Total CPU Power : 7.5 W\n"
     ]
    },
    {
     "name": "stdout",
     "output_type": "stream",
     "text": [
      " 758/1202 [=================>............] - ETA: 29s - loss: 3.8674 - accuracy: 0.2257"
     ]
    },
    {
     "name": "stderr",
     "output_type": "stream",
     "text": [
      "[codecarbon INFO @ 23:41:51] 0.011134 kWh of electricity used since the beginning.\n"
     ]
    },
    {
     "name": "stdout",
     "output_type": "stream",
     "text": [
      " 985/1202 [=======================>......] - ETA: 14s - loss: 3.8855 - accuracy: 0.2238"
     ]
    },
    {
     "name": "stderr",
     "output_type": "stream",
     "text": [
      "[codecarbon INFO @ 23:42:06] Energy consumed for RAM : 0.004878 kWh. RAM Power : 5.796770095825195 W\n",
      "[codecarbon INFO @ 23:42:06] Energy consumed for all CPUs : 0.006312 kWh. Total CPU Power : 7.5 W\n",
      "[codecarbon INFO @ 23:42:06] 0.011189 kWh of electricity used since the beginning.\n"
     ]
    },
    {
     "name": "stdout",
     "output_type": "stream",
     "text": [
      "1202/1202 [==============================] - ETA: 0s - loss: 3.9011 - accuracy: 0.2220\n",
      "Epoch 38: accuracy improved from 0.21987 to 0.22197, saving model to model/weights-QuijoteNLP.hdf5\n",
      "1202/1202 [==============================] - 80s 66ms/step - loss: 3.9011 - accuracy: 0.2220\n",
      "Epoch 39/70\n",
      "   8/1202 [..............................] - ETA: 1:17 - loss: 3.6758 - accuracy: 0.2510"
     ]
    },
    {
     "name": "stderr",
     "output_type": "stream",
     "text": [
      "[codecarbon INFO @ 23:42:21] Energy consumed for RAM : 0.004902 kWh. RAM Power : 5.796770095825195 W\n",
      "[codecarbon INFO @ 23:42:21] Energy consumed for all CPUs : 0.006343 kWh. Total CPU Power : 7.5 W\n",
      "[codecarbon INFO @ 23:42:21] 0.011245 kWh of electricity used since the beginning.\n"
     ]
    },
    {
     "name": "stdout",
     "output_type": "stream",
     "text": [
      " 235/1202 [====>.........................] - ETA: 1:03 - loss: 3.7742 - accuracy: 0.2375"
     ]
    },
    {
     "name": "stderr",
     "output_type": "stream",
     "text": [
      "[codecarbon INFO @ 23:42:36] Energy consumed for RAM : 0.004926 kWh. RAM Power : 5.796770095825195 W\n",
      "[codecarbon INFO @ 23:42:36] Energy consumed for all CPUs : 0.006374 kWh. Total CPU Power : 7.5 W\n",
      "[codecarbon INFO @ 23:42:36] 0.011300 kWh of electricity used since the beginning.\n"
     ]
    },
    {
     "name": "stdout",
     "output_type": "stream",
     "text": [
      " 461/1202 [==========>...................] - ETA: 49s - loss: 3.8070 - accuracy: 0.2328"
     ]
    },
    {
     "name": "stderr",
     "output_type": "stream",
     "text": [
      "[codecarbon INFO @ 23:42:51] Energy consumed for RAM : 0.004950 kWh. RAM Power : 5.796770095825195 W\n",
      "[codecarbon INFO @ 23:42:51] Energy consumed for all CPUs : 0.006405 kWh. Total CPU Power : 7.5 W\n",
      "[codecarbon INFO @ 23:42:51] 0.011355 kWh of electricity used since the beginning.\n"
     ]
    },
    {
     "name": "stdout",
     "output_type": "stream",
     "text": [
      " 688/1202 [================>.............] - ETA: 34s - loss: 3.8335 - accuracy: 0.2302"
     ]
    },
    {
     "name": "stderr",
     "output_type": "stream",
     "text": [
      "[codecarbon INFO @ 23:43:06] Energy consumed for RAM : 0.004974 kWh. RAM Power : 5.796770095825195 W\n",
      "[codecarbon INFO @ 23:43:06] Energy consumed for all CPUs : 0.006437 kWh. Total CPU Power : 7.5 W\n",
      "[codecarbon INFO @ 23:43:06] 0.011411 kWh of electricity used since the beginning.\n"
     ]
    },
    {
     "name": "stdout",
     "output_type": "stream",
     "text": [
      " 914/1202 [=====================>........] - ETA: 19s - loss: 3.8510 - accuracy: 0.2278"
     ]
    },
    {
     "name": "stderr",
     "output_type": "stream",
     "text": [
      "[codecarbon INFO @ 23:43:21] Energy consumed for RAM : 0.004998 kWh. RAM Power : 5.796770095825195 W\n",
      "[codecarbon INFO @ 23:43:21] Energy consumed for all CPUs : 0.006468 kWh. Total CPU Power : 7.5 W\n",
      "[codecarbon INFO @ 23:43:21] 0.011466 kWh of electricity used since the beginning.\n"
     ]
    },
    {
     "name": "stdout",
     "output_type": "stream",
     "text": [
      "1141/1202 [===========================>..] - ETA: 4s - loss: 3.8746 - accuracy: 0.2250"
     ]
    },
    {
     "name": "stderr",
     "output_type": "stream",
     "text": [
      "[codecarbon INFO @ 23:43:36] Energy consumed for RAM : 0.005022 kWh. RAM Power : 5.796770095825195 W\n",
      "[codecarbon INFO @ 23:43:36] Energy consumed for all CPUs : 0.006499 kWh. Total CPU Power : 7.5 W\n",
      "[codecarbon INFO @ 23:43:36] 0.011522 kWh of electricity used since the beginning.\n"
     ]
    },
    {
     "name": "stdout",
     "output_type": "stream",
     "text": [
      "1202/1202 [==============================] - ETA: 0s - loss: 3.8777 - accuracy: 0.2248\n",
      "Epoch 39: accuracy improved from 0.22197 to 0.22476, saving model to model/weights-QuijoteNLP.hdf5\n",
      "1202/1202 [==============================] - 80s 66ms/step - loss: 3.8777 - accuracy: 0.2248\n",
      "Epoch 40/70\n",
      " 163/1202 [===>..........................] - ETA: 1:09 - loss: 3.7413 - accuracy: 0.2449"
     ]
    },
    {
     "name": "stderr",
     "output_type": "stream",
     "text": [
      "[codecarbon INFO @ 23:43:51] Energy consumed for RAM : 0.005047 kWh. RAM Power : 5.796770095825195 W\n",
      "[codecarbon INFO @ 23:43:51] Energy consumed for all CPUs : 0.006530 kWh. Total CPU Power : 7.5 W\n",
      "[codecarbon INFO @ 23:43:51] 0.011577 kWh of electricity used since the beginning.\n"
     ]
    },
    {
     "name": "stdout",
     "output_type": "stream",
     "text": [
      " 389/1202 [========>.....................] - ETA: 54s - loss: 3.7815 - accuracy: 0.2395"
     ]
    },
    {
     "name": "stderr",
     "output_type": "stream",
     "text": [
      "[codecarbon INFO @ 23:44:06] Energy consumed for RAM : 0.005071 kWh. RAM Power : 5.796770095825195 W\n",
      "[codecarbon INFO @ 23:44:06] Energy consumed for all CPUs : 0.006562 kWh. Total CPU Power : 7.5 W\n",
      "[codecarbon INFO @ 23:44:06] 0.011632 kWh of electricity used since the beginning.\n"
     ]
    },
    {
     "name": "stdout",
     "output_type": "stream",
     "text": [
      " 614/1202 [==============>...............] - ETA: 39s - loss: 3.8103 - accuracy: 0.2343"
     ]
    },
    {
     "name": "stderr",
     "output_type": "stream",
     "text": [
      "[codecarbon INFO @ 23:44:21] Energy consumed for RAM : 0.005095 kWh. RAM Power : 5.796770095825195 W\n",
      "[codecarbon INFO @ 23:44:21] Energy consumed for all CPUs : 0.006593 kWh. Total CPU Power : 7.5 W\n",
      "[codecarbon INFO @ 23:44:21] 0.011688 kWh of electricity used since the beginning.\n"
     ]
    },
    {
     "name": "stdout",
     "output_type": "stream",
     "text": [
      " 840/1202 [===================>..........] - ETA: 24s - loss: 3.8271 - accuracy: 0.2318"
     ]
    },
    {
     "name": "stderr",
     "output_type": "stream",
     "text": [
      "[codecarbon INFO @ 23:44:36] Energy consumed for RAM : 0.005119 kWh. RAM Power : 5.796770095825195 W\n",
      "[codecarbon INFO @ 23:44:36] Energy consumed for all CPUs : 0.006624 kWh. Total CPU Power : 7.5 W\n",
      "[codecarbon INFO @ 23:44:36] 0.011743 kWh of electricity used since the beginning.\n"
     ]
    },
    {
     "name": "stdout",
     "output_type": "stream",
     "text": [
      "1065/1202 [=========================>....] - ETA: 9s - loss: 3.8470 - accuracy: 0.2294"
     ]
    },
    {
     "name": "stderr",
     "output_type": "stream",
     "text": [
      "[codecarbon INFO @ 23:44:51] Energy consumed for RAM : 0.005143 kWh. RAM Power : 5.796770095825195 W\n",
      "[codecarbon INFO @ 23:44:51] Energy consumed for all CPUs : 0.006655 kWh. Total CPU Power : 7.5 W\n",
      "[codecarbon INFO @ 23:44:51] 0.011799 kWh of electricity used since the beginning.\n"
     ]
    },
    {
     "name": "stdout",
     "output_type": "stream",
     "text": [
      "1202/1202 [==============================] - ETA: 0s - loss: 3.8570 - accuracy: 0.2281\n",
      "Epoch 40: accuracy improved from 0.22476 to 0.22810, saving model to model/weights-QuijoteNLP.hdf5\n",
      "1202/1202 [==============================] - 80s 67ms/step - loss: 3.8570 - accuracy: 0.2281\n",
      "Epoch 41/70\n",
      "  87/1202 [=>............................] - ETA: 1:15 - loss: 3.7460 - accuracy: 0.2379"
     ]
    },
    {
     "name": "stderr",
     "output_type": "stream",
     "text": [
      "[codecarbon INFO @ 23:45:06] Energy consumed for RAM : 0.005167 kWh. RAM Power : 5.796770095825195 W\n",
      "[codecarbon INFO @ 23:45:06] Energy consumed for all CPUs : 0.006687 kWh. Total CPU Power : 7.5 W\n",
      "[codecarbon INFO @ 23:45:06] 0.011854 kWh of electricity used since the beginning.\n"
     ]
    },
    {
     "name": "stdout",
     "output_type": "stream",
     "text": [
      " 313/1202 [======>.......................] - ETA: 59s - loss: 3.7757 - accuracy: 0.2355"
     ]
    },
    {
     "name": "stderr",
     "output_type": "stream",
     "text": [
      "[codecarbon INFO @ 23:45:21] Energy consumed for RAM : 0.005191 kWh. RAM Power : 5.796770095825195 W\n",
      "[codecarbon INFO @ 23:45:21] Energy consumed for all CPUs : 0.006718 kWh. Total CPU Power : 7.5 W\n",
      "[codecarbon INFO @ 23:45:21] 0.011909 kWh of electricity used since the beginning.\n"
     ]
    },
    {
     "name": "stdout",
     "output_type": "stream",
     "text": [
      " 539/1202 [============>.................] - ETA: 44s - loss: 3.7855 - accuracy: 0.2358"
     ]
    },
    {
     "name": "stderr",
     "output_type": "stream",
     "text": [
      "[codecarbon INFO @ 23:45:36] Energy consumed for RAM : 0.005216 kWh. RAM Power : 5.796770095825195 W\n",
      "[codecarbon INFO @ 23:45:36] Energy consumed for all CPUs : 0.006749 kWh. Total CPU Power : 7.5 W\n",
      "[codecarbon INFO @ 23:45:36] 0.011965 kWh of electricity used since the beginning.\n"
     ]
    },
    {
     "name": "stdout",
     "output_type": "stream",
     "text": [
      " 766/1202 [==================>...........] - ETA: 28s - loss: 3.8053 - accuracy: 0.2345"
     ]
    },
    {
     "name": "stderr",
     "output_type": "stream",
     "text": [
      "[codecarbon INFO @ 23:45:51] Energy consumed for RAM : 0.005240 kWh. RAM Power : 5.796770095825195 W\n",
      "[codecarbon INFO @ 23:45:51] Energy consumed for all CPUs : 0.006780 kWh. Total CPU Power : 7.5 W\n",
      "[codecarbon INFO @ 23:45:51] 0.012020 kWh of electricity used since the beginning.\n"
     ]
    },
    {
     "name": "stdout",
     "output_type": "stream",
     "text": [
      " 991/1202 [=======================>......] - ETA: 14s - loss: 3.8187 - accuracy: 0.2326"
     ]
    },
    {
     "name": "stderr",
     "output_type": "stream",
     "text": [
      "[codecarbon INFO @ 23:46:06] Energy consumed for RAM : 0.005264 kWh. RAM Power : 5.796770095825195 W\n",
      "[codecarbon INFO @ 23:46:06] Energy consumed for all CPUs : 0.006812 kWh. Total CPU Power : 7.5 W\n",
      "[codecarbon INFO @ 23:46:06] 0.012075 kWh of electricity used since the beginning.\n"
     ]
    },
    {
     "name": "stdout",
     "output_type": "stream",
     "text": [
      "1202/1202 [==============================] - ETA: 0s - loss: 3.8338 - accuracy: 0.2307\n",
      "Epoch 41: accuracy improved from 0.22810 to 0.23073, saving model to model/weights-QuijoteNLP.hdf5\n",
      "1202/1202 [==============================] - 80s 66ms/step - loss: 3.8338 - accuracy: 0.2307\n",
      "Epoch 42/70\n",
      "  14/1202 [..............................] - ETA: 1:21 - loss: 3.6824 - accuracy: 0.2472"
     ]
    },
    {
     "name": "stderr",
     "output_type": "stream",
     "text": [
      "[codecarbon INFO @ 23:46:21] Energy consumed for RAM : 0.005288 kWh. RAM Power : 5.796770095825195 W\n",
      "[codecarbon INFO @ 23:46:21] Energy consumed for all CPUs : 0.006843 kWh. Total CPU Power : 7.5 W\n",
      "[codecarbon INFO @ 23:46:21] 0.012131 kWh of electricity used since the beginning.\n"
     ]
    },
    {
     "name": "stdout",
     "output_type": "stream",
     "text": [
      " 241/1202 [=====>........................] - ETA: 1:03 - loss: 3.7149 - accuracy: 0.2449"
     ]
    },
    {
     "name": "stderr",
     "output_type": "stream",
     "text": [
      "[codecarbon INFO @ 23:46:36] Energy consumed for RAM : 0.005312 kWh. RAM Power : 5.796770095825195 W\n",
      "[codecarbon INFO @ 23:46:36] Energy consumed for all CPUs : 0.006874 kWh. Total CPU Power : 7.5 W\n",
      "[codecarbon INFO @ 23:46:36] 0.012186 kWh of electricity used since the beginning.\n"
     ]
    },
    {
     "name": "stdout",
     "output_type": "stream",
     "text": [
      " 466/1202 [==========>...................] - ETA: 48s - loss: 3.7442 - accuracy: 0.2403"
     ]
    },
    {
     "name": "stderr",
     "output_type": "stream",
     "text": [
      "[codecarbon INFO @ 23:46:51] Energy consumed for RAM : 0.005336 kWh. RAM Power : 5.796770095825195 W\n",
      "[codecarbon INFO @ 23:46:51] Energy consumed for all CPUs : 0.006905 kWh. Total CPU Power : 7.5 W\n",
      "[codecarbon INFO @ 23:46:51] 0.012242 kWh of electricity used since the beginning.\n"
     ]
    },
    {
     "name": "stdout",
     "output_type": "stream",
     "text": [
      " 693/1202 [================>.............] - ETA: 33s - loss: 3.7727 - accuracy: 0.2373"
     ]
    },
    {
     "name": "stderr",
     "output_type": "stream",
     "text": [
      "[codecarbon INFO @ 23:47:06] Energy consumed for RAM : 0.005360 kWh. RAM Power : 5.796770095825195 W\n",
      "[codecarbon INFO @ 23:47:06] Energy consumed for all CPUs : 0.006937 kWh. Total CPU Power : 7.5 W\n",
      "[codecarbon INFO @ 23:47:06] 0.012297 kWh of electricity used since the beginning.\n"
     ]
    },
    {
     "name": "stdout",
     "output_type": "stream",
     "text": [
      " 918/1202 [=====================>........] - ETA: 18s - loss: 3.7949 - accuracy: 0.2345"
     ]
    },
    {
     "name": "stderr",
     "output_type": "stream",
     "text": [
      "[codecarbon INFO @ 23:47:21] Energy consumed for RAM : 0.005385 kWh. RAM Power : 5.796770095825195 W\n",
      "[codecarbon INFO @ 23:47:21] Energy consumed for all CPUs : 0.006968 kWh. Total CPU Power : 7.5 W\n"
     ]
    },
    {
     "name": "stdout",
     "output_type": "stream",
     "text": [
      " 919/1202 [=====================>........] - ETA: 18s - loss: 3.7949 - accuracy: 0.2345"
     ]
    },
    {
     "name": "stderr",
     "output_type": "stream",
     "text": [
      "[codecarbon INFO @ 23:47:21] 0.012352 kWh of electricity used since the beginning.\n"
     ]
    },
    {
     "name": "stdout",
     "output_type": "stream",
     "text": [
      "1145/1202 [===========================>..] - ETA: 3s - loss: 3.8099 - accuracy: 0.2326"
     ]
    },
    {
     "name": "stderr",
     "output_type": "stream",
     "text": [
      "[codecarbon INFO @ 23:47:36] Energy consumed for RAM : 0.005409 kWh. RAM Power : 5.796770095825195 W\n",
      "[codecarbon INFO @ 23:47:36] Energy consumed for all CPUs : 0.006999 kWh. Total CPU Power : 7.5 W\n",
      "[codecarbon INFO @ 23:47:36] 0.012408 kWh of electricity used since the beginning.\n"
     ]
    },
    {
     "name": "stdout",
     "output_type": "stream",
     "text": [
      "1202/1202 [==============================] - ETA: 0s - loss: 3.8140 - accuracy: 0.2323\n",
      "Epoch 42: accuracy improved from 0.23073 to 0.23227, saving model to model/weights-QuijoteNLP.hdf5\n",
      "1202/1202 [==============================] - 80s 66ms/step - loss: 3.8140 - accuracy: 0.2323\n",
      "Epoch 43/70\n",
      " 167/1202 [===>..........................] - ETA: 1:09 - loss: 3.6747 - accuracy: 0.2503"
     ]
    },
    {
     "name": "stderr",
     "output_type": "stream",
     "text": [
      "[codecarbon INFO @ 23:47:51] Energy consumed for RAM : 0.005433 kWh. RAM Power : 5.796770095825195 W\n",
      "[codecarbon INFO @ 23:47:51] Energy consumed for all CPUs : 0.007030 kWh. Total CPU Power : 7.5 W\n"
     ]
    },
    {
     "name": "stdout",
     "output_type": "stream",
     "text": [
      " 168/1202 [===>..........................] - ETA: 1:09 - loss: 3.6751 - accuracy: 0.2503"
     ]
    },
    {
     "name": "stderr",
     "output_type": "stream",
     "text": [
      "[codecarbon INFO @ 23:47:51] 0.012463 kWh of electricity used since the beginning.\n"
     ]
    },
    {
     "name": "stdout",
     "output_type": "stream",
     "text": [
      " 392/1202 [========>.....................] - ETA: 54s - loss: 3.7366 - accuracy: 0.2421"
     ]
    },
    {
     "name": "stderr",
     "output_type": "stream",
     "text": [
      "[codecarbon INFO @ 23:48:06] Energy consumed for RAM : 0.005457 kWh. RAM Power : 5.796770095825195 W\n",
      "[codecarbon INFO @ 23:48:06] Energy consumed for all CPUs : 0.007062 kWh. Total CPU Power : 7.5 W\n",
      "[codecarbon INFO @ 23:48:06] 0.012519 kWh of electricity used since the beginning.\n"
     ]
    },
    {
     "name": "stdout",
     "output_type": "stream",
     "text": [
      " 618/1202 [==============>...............] - ETA: 38s - loss: 3.7489 - accuracy: 0.2412"
     ]
    },
    {
     "name": "stderr",
     "output_type": "stream",
     "text": [
      "[codecarbon INFO @ 23:48:21] Energy consumed for RAM : 0.005481 kWh. RAM Power : 5.796770095825195 W\n",
      "[codecarbon INFO @ 23:48:21] Energy consumed for all CPUs : 0.007093 kWh. Total CPU Power : 7.5 W\n",
      "[codecarbon INFO @ 23:48:21] 0.012574 kWh of electricity used since the beginning.\n"
     ]
    },
    {
     "name": "stdout",
     "output_type": "stream",
     "text": [
      " 845/1202 [====================>.........] - ETA: 23s - loss: 3.7634 - accuracy: 0.2391"
     ]
    },
    {
     "name": "stderr",
     "output_type": "stream",
     "text": [
      "[codecarbon INFO @ 23:48:36] Energy consumed for RAM : 0.005505 kWh. RAM Power : 5.796770095825195 W\n",
      "[codecarbon INFO @ 23:48:36] Energy consumed for all CPUs : 0.007124 kWh. Total CPU Power : 7.5 W\n",
      "[codecarbon INFO @ 23:48:36] 0.012629 kWh of electricity used since the beginning.\n"
     ]
    },
    {
     "name": "stdout",
     "output_type": "stream",
     "text": [
      "1069/1202 [=========================>....] - ETA: 8s - loss: 3.7809 - accuracy: 0.2370"
     ]
    },
    {
     "name": "stderr",
     "output_type": "stream",
     "text": [
      "[codecarbon INFO @ 23:48:51] Energy consumed for RAM : 0.005529 kWh. RAM Power : 5.796770095825195 W\n",
      "[codecarbon INFO @ 23:48:51] Energy consumed for all CPUs : 0.007155 kWh. Total CPU Power : 7.5 W\n",
      "[codecarbon INFO @ 23:48:51] 0.012685 kWh of electricity used since the beginning.\n"
     ]
    },
    {
     "name": "stdout",
     "output_type": "stream",
     "text": [
      "1202/1202 [==============================] - ETA: 0s - loss: 3.7926 - accuracy: 0.2359\n",
      "Epoch 43: accuracy improved from 0.23227 to 0.23586, saving model to model/weights-QuijoteNLP.hdf5\n",
      "1202/1202 [==============================] - 80s 67ms/step - loss: 3.7926 - accuracy: 0.2359\n",
      "Epoch 44/70\n",
      "  91/1202 [=>............................] - ETA: 1:14 - loss: 3.6597 - accuracy: 0.2522"
     ]
    },
    {
     "name": "stderr",
     "output_type": "stream",
     "text": [
      "[codecarbon INFO @ 23:49:06] Energy consumed for RAM : 0.005554 kWh. RAM Power : 5.796770095825195 W\n",
      "[codecarbon INFO @ 23:49:06] Energy consumed for all CPUs : 0.007187 kWh. Total CPU Power : 7.5 W\n",
      "[codecarbon INFO @ 23:49:06] 0.012740 kWh of electricity used since the beginning.\n"
     ]
    },
    {
     "name": "stdout",
     "output_type": "stream",
     "text": [
      " 317/1202 [======>.......................] - ETA: 59s - loss: 3.6904 - accuracy: 0.2507"
     ]
    },
    {
     "name": "stderr",
     "output_type": "stream",
     "text": [
      "[codecarbon INFO @ 23:49:21] Energy consumed for RAM : 0.005578 kWh. RAM Power : 5.796770095825195 W\n",
      "[codecarbon INFO @ 23:49:21] Energy consumed for all CPUs : 0.007218 kWh. Total CPU Power : 7.5 W\n",
      "[codecarbon INFO @ 23:49:21] 0.012796 kWh of electricity used since the beginning.\n"
     ]
    },
    {
     "name": "stdout",
     "output_type": "stream",
     "text": [
      " 543/1202 [============>.................] - ETA: 43s - loss: 3.7160 - accuracy: 0.2464"
     ]
    },
    {
     "name": "stderr",
     "output_type": "stream",
     "text": [
      "[codecarbon INFO @ 23:49:36] Energy consumed for RAM : 0.005602 kWh. RAM Power : 5.796770095825195 W\n",
      "[codecarbon INFO @ 23:49:36] Energy consumed for all CPUs : 0.007249 kWh. Total CPU Power : 7.5 W\n",
      "[codecarbon INFO @ 23:49:36] 0.012851 kWh of electricity used since the beginning.\n"
     ]
    },
    {
     "name": "stdout",
     "output_type": "stream",
     "text": [
      " 769/1202 [==================>...........] - ETA: 28s - loss: 3.7360 - accuracy: 0.2438"
     ]
    },
    {
     "name": "stderr",
     "output_type": "stream",
     "text": [
      "[codecarbon INFO @ 23:49:51] Energy consumed for RAM : 0.005626 kWh. RAM Power : 5.796770095825195 W\n",
      "[codecarbon INFO @ 23:49:51] Energy consumed for all CPUs : 0.007280 kWh. Total CPU Power : 7.5 W\n",
      "[codecarbon INFO @ 23:49:51] 0.012906 kWh of electricity used since the beginning.\n"
     ]
    },
    {
     "name": "stdout",
     "output_type": "stream",
     "text": [
      " 996/1202 [=======================>......] - ETA: 13s - loss: 3.7562 - accuracy: 0.2410"
     ]
    },
    {
     "name": "stderr",
     "output_type": "stream",
     "text": [
      "[codecarbon INFO @ 23:50:06] Energy consumed for RAM : 0.005650 kWh. RAM Power : 5.796770095825195 W\n",
      "[codecarbon INFO @ 23:50:06] Energy consumed for all CPUs : 0.007312 kWh. Total CPU Power : 7.5 W\n",
      "[codecarbon INFO @ 23:50:06] 0.012962 kWh of electricity used since the beginning.\n"
     ]
    },
    {
     "name": "stdout",
     "output_type": "stream",
     "text": [
      "1202/1202 [==============================] - ETA: 0s - loss: 3.7723 - accuracy: 0.2384\n",
      "Epoch 44: accuracy improved from 0.23586 to 0.23840, saving model to model/weights-QuijoteNLP.hdf5\n",
      "1202/1202 [==============================] - 80s 67ms/step - loss: 3.7723 - accuracy: 0.2384\n",
      "Epoch 45/70\n",
      "  18/1202 [..............................] - ETA: 1:18 - loss: 3.6868 - accuracy: 0.2500"
     ]
    },
    {
     "name": "stderr",
     "output_type": "stream",
     "text": [
      "[codecarbon INFO @ 23:50:21] Energy consumed for RAM : 0.005674 kWh. RAM Power : 5.796770095825195 W\n",
      "[codecarbon INFO @ 23:50:21] Energy consumed for all CPUs : 0.007343 kWh. Total CPU Power : 7.5 W\n",
      "[codecarbon INFO @ 23:50:21] 0.013017 kWh of electricity used since the beginning.\n"
     ]
    },
    {
     "name": "stdout",
     "output_type": "stream",
     "text": [
      " 244/1202 [=====>........................] - ETA: 1:03 - loss: 3.6725 - accuracy: 0.2503"
     ]
    },
    {
     "name": "stderr",
     "output_type": "stream",
     "text": [
      "[codecarbon INFO @ 23:50:36] Energy consumed for RAM : 0.005698 kWh. RAM Power : 5.796770095825195 W\n",
      "[codecarbon INFO @ 23:50:36] Energy consumed for all CPUs : 0.007374 kWh. Total CPU Power : 7.5 W\n",
      "[codecarbon INFO @ 23:50:36] 0.013073 kWh of electricity used since the beginning.\n"
     ]
    },
    {
     "name": "stdout",
     "output_type": "stream",
     "text": [
      " 469/1202 [==========>...................] - ETA: 48s - loss: 3.6860 - accuracy: 0.2480"
     ]
    },
    {
     "name": "stderr",
     "output_type": "stream",
     "text": [
      "[codecarbon INFO @ 23:50:51] Energy consumed for RAM : 0.005723 kWh. RAM Power : 5.796770095825195 W\n",
      "[codecarbon INFO @ 23:50:51] Energy consumed for all CPUs : 0.007405 kWh. Total CPU Power : 7.5 W\n",
      "[codecarbon INFO @ 23:50:51] 0.013128 kWh of electricity used since the beginning.\n"
     ]
    },
    {
     "name": "stdout",
     "output_type": "stream",
     "text": [
      " 694/1202 [================>.............] - ETA: 33s - loss: 3.7089 - accuracy: 0.2461"
     ]
    },
    {
     "name": "stderr",
     "output_type": "stream",
     "text": [
      "[codecarbon INFO @ 23:51:06] Energy consumed for RAM : 0.005747 kWh. RAM Power : 5.796770095825195 W\n",
      "[codecarbon INFO @ 23:51:06] Energy consumed for all CPUs : 0.007437 kWh. Total CPU Power : 7.5 W\n",
      "[codecarbon INFO @ 23:51:06] 0.013183 kWh of electricity used since the beginning.\n"
     ]
    },
    {
     "name": "stdout",
     "output_type": "stream",
     "text": [
      " 918/1202 [=====================>........] - ETA: 18s - loss: 3.7312 - accuracy: 0.2434"
     ]
    },
    {
     "name": "stderr",
     "output_type": "stream",
     "text": [
      "[codecarbon INFO @ 23:51:21] Energy consumed for RAM : 0.005771 kWh. RAM Power : 5.796770095825195 W\n",
      "[codecarbon INFO @ 23:51:21] Energy consumed for all CPUs : 0.007468 kWh. Total CPU Power : 7.5 W\n",
      "[codecarbon INFO @ 23:51:21] 0.013239 kWh of electricity used since the beginning.\n"
     ]
    },
    {
     "name": "stdout",
     "output_type": "stream",
     "text": [
      "1144/1202 [===========================>..] - ETA: 3s - loss: 3.7501 - accuracy: 0.2410"
     ]
    },
    {
     "name": "stderr",
     "output_type": "stream",
     "text": [
      "[codecarbon INFO @ 23:51:36] Energy consumed for RAM : 0.005795 kWh. RAM Power : 5.796770095825195 W\n",
      "[codecarbon INFO @ 23:51:36] Energy consumed for all CPUs : 0.007499 kWh. Total CPU Power : 7.5 W\n",
      "[codecarbon INFO @ 23:51:36] 0.013294 kWh of electricity used since the beginning.\n"
     ]
    },
    {
     "name": "stdout",
     "output_type": "stream",
     "text": [
      "1202/1202 [==============================] - ETA: 0s - loss: 3.7518 - accuracy: 0.2410\n",
      "Epoch 45: accuracy improved from 0.23840 to 0.24101, saving model to model/weights-QuijoteNLP.hdf5\n",
      "1202/1202 [==============================] - 80s 67ms/step - loss: 3.7518 - accuracy: 0.2410\n",
      "Epoch 46/70\n",
      " 167/1202 [===>..........................] - ETA: 1:09 - loss: 3.6383 - accuracy: 0.2534"
     ]
    },
    {
     "name": "stderr",
     "output_type": "stream",
     "text": [
      "[codecarbon INFO @ 23:51:51] Energy consumed for RAM : 0.005819 kWh. RAM Power : 5.796770095825195 W\n",
      "[codecarbon INFO @ 23:51:51] Energy consumed for all CPUs : 0.007530 kWh. Total CPU Power : 7.5 W\n",
      "[codecarbon INFO @ 23:51:51] 0.013350 kWh of electricity used since the beginning.\n"
     ]
    },
    {
     "name": "stdout",
     "output_type": "stream",
     "text": [
      " 392/1202 [========>.....................] - ETA: 54s - loss: 3.6724 - accuracy: 0.2498"
     ]
    },
    {
     "name": "stderr",
     "output_type": "stream",
     "text": [
      "[codecarbon INFO @ 23:52:06] Energy consumed for RAM : 0.005843 kWh. RAM Power : 5.796770095825195 W\n",
      "[codecarbon INFO @ 23:52:06] Energy consumed for all CPUs : 0.007562 kWh. Total CPU Power : 7.5 W\n",
      "[codecarbon INFO @ 23:52:06] 0.013405 kWh of electricity used since the beginning.\n"
     ]
    },
    {
     "name": "stdout",
     "output_type": "stream",
     "text": [
      " 618/1202 [==============>...............] - ETA: 38s - loss: 3.6855 - accuracy: 0.2491"
     ]
    },
    {
     "name": "stderr",
     "output_type": "stream",
     "text": [
      "[codecarbon INFO @ 23:52:21] Energy consumed for RAM : 0.005867 kWh. RAM Power : 5.796770095825195 W\n",
      "[codecarbon INFO @ 23:52:21] Energy consumed for all CPUs : 0.007593 kWh. Total CPU Power : 7.5 W\n",
      "[codecarbon INFO @ 23:52:21] 0.013460 kWh of electricity used since the beginning.\n"
     ]
    },
    {
     "name": "stdout",
     "output_type": "stream",
     "text": [
      " 844/1202 [====================>.........] - ETA: 23s - loss: 3.7051 - accuracy: 0.2461"
     ]
    },
    {
     "name": "stderr",
     "output_type": "stream",
     "text": [
      "[codecarbon INFO @ 23:52:36] Energy consumed for RAM : 0.005892 kWh. RAM Power : 5.796770095825195 W\n",
      "[codecarbon INFO @ 23:52:36] Energy consumed for all CPUs : 0.007624 kWh. Total CPU Power : 7.5 W\n",
      "[codecarbon INFO @ 23:52:36] 0.013516 kWh of electricity used since the beginning.\n"
     ]
    },
    {
     "name": "stdout",
     "output_type": "stream",
     "text": [
      "1069/1202 [=========================>....] - ETA: 8s - loss: 3.7189 - accuracy: 0.2451"
     ]
    },
    {
     "name": "stderr",
     "output_type": "stream",
     "text": [
      "[codecarbon INFO @ 23:52:51] Energy consumed for RAM : 0.005916 kWh. RAM Power : 5.796770095825195 W\n",
      "[codecarbon INFO @ 23:52:51] Energy consumed for all CPUs : 0.007655 kWh. Total CPU Power : 7.5 W\n",
      "[codecarbon INFO @ 23:52:51] 0.013571 kWh of electricity used since the beginning.\n"
     ]
    },
    {
     "name": "stdout",
     "output_type": "stream",
     "text": [
      "1202/1202 [==============================] - ETA: 0s - loss: 3.7294 - accuracy: 0.2437\n",
      "Epoch 46: accuracy improved from 0.24101 to 0.24368, saving model to model/weights-QuijoteNLP.hdf5\n",
      "1202/1202 [==============================] - 80s 67ms/step - loss: 3.7294 - accuracy: 0.2437\n",
      "Epoch 47/70\n",
      "  92/1202 [=>............................] - ETA: 1:14 - loss: 3.5689 - accuracy: 0.2643"
     ]
    },
    {
     "name": "stderr",
     "output_type": "stream",
     "text": [
      "[codecarbon INFO @ 23:53:06] Energy consumed for RAM : 0.005940 kWh. RAM Power : 5.796770095825195 W\n",
      "[codecarbon INFO @ 23:53:06] Energy consumed for all CPUs : 0.007687 kWh. Total CPU Power : 7.5 W\n",
      "[codecarbon INFO @ 23:53:06] 0.013626 kWh of electricity used since the beginning.\n"
     ]
    },
    {
     "name": "stdout",
     "output_type": "stream",
     "text": [
      " 317/1202 [======>.......................] - ETA: 59s - loss: 3.6217 - accuracy: 0.2588"
     ]
    },
    {
     "name": "stderr",
     "output_type": "stream",
     "text": [
      "[codecarbon INFO @ 23:53:21] Energy consumed for RAM : 0.005964 kWh. RAM Power : 5.796770095825195 W\n",
      "[codecarbon INFO @ 23:53:21] Energy consumed for all CPUs : 0.007718 kWh. Total CPU Power : 7.5 W\n",
      "[codecarbon INFO @ 23:53:21] 0.013682 kWh of electricity used since the beginning.\n"
     ]
    },
    {
     "name": "stdout",
     "output_type": "stream",
     "text": [
      " 542/1202 [============>.................] - ETA: 44s - loss: 3.6540 - accuracy: 0.2533"
     ]
    },
    {
     "name": "stderr",
     "output_type": "stream",
     "text": [
      "[codecarbon INFO @ 23:53:36] Energy consumed for RAM : 0.005988 kWh. RAM Power : 5.796770095825195 W\n",
      "[codecarbon INFO @ 23:53:36] Energy consumed for all CPUs : 0.007749 kWh. Total CPU Power : 7.5 W\n",
      "[codecarbon INFO @ 23:53:36] 0.013737 kWh of electricity used since the beginning.\n"
     ]
    },
    {
     "name": "stdout",
     "output_type": "stream",
     "text": [
      " 768/1202 [==================>...........] - ETA: 28s - loss: 3.6713 - accuracy: 0.2507"
     ]
    },
    {
     "name": "stderr",
     "output_type": "stream",
     "text": [
      "[codecarbon INFO @ 23:53:51] Energy consumed for RAM : 0.006012 kWh. RAM Power : 5.796770095825195 W\n",
      "[codecarbon INFO @ 23:53:51] Energy consumed for all CPUs : 0.007780 kWh. Total CPU Power : 7.5 W\n",
      "[codecarbon INFO @ 23:53:51] 0.013793 kWh of electricity used since the beginning.\n"
     ]
    },
    {
     "name": "stdout",
     "output_type": "stream",
     "text": [
      " 993/1202 [=======================>......] - ETA: 13s - loss: 3.6952 - accuracy: 0.2481"
     ]
    },
    {
     "name": "stderr",
     "output_type": "stream",
     "text": [
      "[codecarbon INFO @ 23:54:06] Energy consumed for RAM : 0.006037 kWh. RAM Power : 5.796770095825195 W\n",
      "[codecarbon INFO @ 23:54:06] Energy consumed for all CPUs : 0.007812 kWh. Total CPU Power : 7.5 W\n",
      "[codecarbon INFO @ 23:54:06] 0.013848 kWh of electricity used since the beginning.\n"
     ]
    },
    {
     "name": "stdout",
     "output_type": "stream",
     "text": [
      "1202/1202 [==============================] - ETA: 0s - loss: 3.7100 - accuracy: 0.2465\n",
      "Epoch 47: accuracy improved from 0.24368 to 0.24651, saving model to model/weights-QuijoteNLP.hdf5\n",
      "1202/1202 [==============================] - 80s 67ms/step - loss: 3.7100 - accuracy: 0.2465\n",
      "Epoch 48/70\n",
      "  16/1202 [..............................] - ETA: 1:17 - loss: 3.5584 - accuracy: 0.2671"
     ]
    },
    {
     "name": "stderr",
     "output_type": "stream",
     "text": [
      "[codecarbon INFO @ 23:54:21] Energy consumed for RAM : 0.006061 kWh. RAM Power : 5.796770095825195 W\n",
      "[codecarbon INFO @ 23:54:21] Energy consumed for all CPUs : 0.007843 kWh. Total CPU Power : 7.5 W\n",
      "[codecarbon INFO @ 23:54:21] 0.013903 kWh of electricity used since the beginning.\n"
     ]
    },
    {
     "name": "stdout",
     "output_type": "stream",
     "text": [
      " 241/1202 [=====>........................] - ETA: 1:04 - loss: 3.5947 - accuracy: 0.2632"
     ]
    },
    {
     "name": "stderr",
     "output_type": "stream",
     "text": [
      "[codecarbon INFO @ 23:54:36] Energy consumed for RAM : 0.006085 kWh. RAM Power : 5.796770095825195 W\n",
      "[codecarbon INFO @ 23:54:36] Energy consumed for all CPUs : 0.007874 kWh. Total CPU Power : 7.5 W\n",
      "[codecarbon INFO @ 23:54:36] 0.013959 kWh of electricity used since the beginning.\n"
     ]
    },
    {
     "name": "stdout",
     "output_type": "stream",
     "text": [
      " 465/1202 [==========>...................] - ETA: 49s - loss: 3.6200 - accuracy: 0.2595"
     ]
    },
    {
     "name": "stderr",
     "output_type": "stream",
     "text": [
      "[codecarbon INFO @ 23:54:51] Energy consumed for RAM : 0.006109 kWh. RAM Power : 5.796770095825195 W\n",
      "[codecarbon INFO @ 23:54:51] Energy consumed for all CPUs : 0.007905 kWh. Total CPU Power : 7.5 W\n",
      "[codecarbon INFO @ 23:54:51] 0.014014 kWh of electricity used since the beginning.\n"
     ]
    },
    {
     "name": "stdout",
     "output_type": "stream",
     "text": [
      " 691/1202 [================>.............] - ETA: 34s - loss: 3.6436 - accuracy: 0.2557"
     ]
    },
    {
     "name": "stderr",
     "output_type": "stream",
     "text": [
      "[codecarbon INFO @ 23:55:06] Energy consumed for RAM : 0.006133 kWh. RAM Power : 5.796770095825195 W\n",
      "[codecarbon INFO @ 23:55:06] Energy consumed for all CPUs : 0.007937 kWh. Total CPU Power : 7.5 W\n",
      "[codecarbon INFO @ 23:55:06] 0.014070 kWh of electricity used since the beginning.\n"
     ]
    },
    {
     "name": "stdout",
     "output_type": "stream",
     "text": [
      " 917/1202 [=====================>........] - ETA: 18s - loss: 3.6689 - accuracy: 0.2520"
     ]
    },
    {
     "name": "stderr",
     "output_type": "stream",
     "text": [
      "[codecarbon INFO @ 23:55:21] Energy consumed for RAM : 0.006157 kWh. RAM Power : 5.796770095825195 W\n",
      "[codecarbon INFO @ 23:55:21] Energy consumed for all CPUs : 0.007968 kWh. Total CPU Power : 7.5 W\n",
      "[codecarbon INFO @ 23:55:21] 0.014125 kWh of electricity used since the beginning.\n"
     ]
    },
    {
     "name": "stdout",
     "output_type": "stream",
     "text": [
      "1142/1202 [===========================>..] - ETA: 3s - loss: 3.6881 - accuracy: 0.2490"
     ]
    },
    {
     "name": "stderr",
     "output_type": "stream",
     "text": [
      "[codecarbon INFO @ 23:55:36] Energy consumed for RAM : 0.006181 kWh. RAM Power : 5.796770095825195 W\n",
      "[codecarbon INFO @ 23:55:36] Energy consumed for all CPUs : 0.007999 kWh. Total CPU Power : 7.5 W\n",
      "[codecarbon INFO @ 23:55:36] 0.014180 kWh of electricity used since the beginning.\n"
     ]
    },
    {
     "name": "stdout",
     "output_type": "stream",
     "text": [
      "1202/1202 [==============================] - ETA: 0s - loss: 3.6911 - accuracy: 0.2486\n",
      "Epoch 48: accuracy improved from 0.24651 to 0.24862, saving model to model/weights-QuijoteNLP.hdf5\n",
      "1202/1202 [==============================] - 80s 67ms/step - loss: 3.6911 - accuracy: 0.2486\n",
      "Epoch 49/70\n",
      " 164/1202 [===>..........................] - ETA: 1:09 - loss: 3.5479 - accuracy: 0.2729"
     ]
    },
    {
     "name": "stderr",
     "output_type": "stream",
     "text": [
      "[codecarbon INFO @ 23:55:51] Energy consumed for RAM : 0.006206 kWh. RAM Power : 5.796770095825195 W\n",
      "[codecarbon INFO @ 23:55:51] Energy consumed for all CPUs : 0.008030 kWh. Total CPU Power : 7.5 W\n",
      "[codecarbon INFO @ 23:55:51] 0.014236 kWh of electricity used since the beginning.\n"
     ]
    },
    {
     "name": "stdout",
     "output_type": "stream",
     "text": [
      " 389/1202 [========>.....................] - ETA: 54s - loss: 3.5959 - accuracy: 0.2642"
     ]
    },
    {
     "name": "stderr",
     "output_type": "stream",
     "text": [
      "[codecarbon INFO @ 23:56:06] Energy consumed for RAM : 0.006230 kWh. RAM Power : 5.796770095825195 W\n",
      "[codecarbon INFO @ 23:56:06] Energy consumed for all CPUs : 0.008061 kWh. Total CPU Power : 7.5 W\n",
      "[codecarbon INFO @ 23:56:06] 0.014291 kWh of electricity used since the beginning.\n"
     ]
    },
    {
     "name": "stdout",
     "output_type": "stream",
     "text": [
      " 614/1202 [==============>...............] - ETA: 39s - loss: 3.6258 - accuracy: 0.2599"
     ]
    },
    {
     "name": "stderr",
     "output_type": "stream",
     "text": [
      "[codecarbon INFO @ 23:56:21] Energy consumed for RAM : 0.006254 kWh. RAM Power : 5.796770095825195 W\n",
      "[codecarbon INFO @ 23:56:21] Energy consumed for all CPUs : 0.008093 kWh. Total CPU Power : 7.5 W\n",
      "[codecarbon INFO @ 23:56:21] 0.014347 kWh of electricity used since the beginning.\n"
     ]
    },
    {
     "name": "stdout",
     "output_type": "stream",
     "text": [
      " 840/1202 [===================>..........] - ETA: 24s - loss: 3.6448 - accuracy: 0.2558"
     ]
    },
    {
     "name": "stderr",
     "output_type": "stream",
     "text": [
      "[codecarbon INFO @ 23:56:36] Energy consumed for RAM : 0.006278 kWh. RAM Power : 5.796770095825195 W\n"
     ]
    },
    {
     "name": "stdout",
     "output_type": "stream",
     "text": [
      " 841/1202 [===================>..........] - ETA: 24s - loss: 3.6449 - accuracy: 0.2558"
     ]
    },
    {
     "name": "stderr",
     "output_type": "stream",
     "text": [
      "[codecarbon INFO @ 23:56:36] Energy consumed for all CPUs : 0.008124 kWh. Total CPU Power : 7.5 W\n",
      "[codecarbon INFO @ 23:56:36] 0.014402 kWh of electricity used since the beginning.\n"
     ]
    },
    {
     "name": "stdout",
     "output_type": "stream",
     "text": [
      "1065/1202 [=========================>....] - ETA: 9s - loss: 3.6602 - accuracy: 0.2531"
     ]
    },
    {
     "name": "stderr",
     "output_type": "stream",
     "text": [
      "[codecarbon INFO @ 23:56:51] Energy consumed for RAM : 0.006302 kWh. RAM Power : 5.796770095825195 W\n",
      "[codecarbon INFO @ 23:56:51] Energy consumed for all CPUs : 0.008155 kWh. Total CPU Power : 7.5 W\n",
      "[codecarbon INFO @ 23:56:51] 0.014457 kWh of electricity used since the beginning.\n"
     ]
    },
    {
     "name": "stdout",
     "output_type": "stream",
     "text": [
      "1202/1202 [==============================] - ETA: 0s - loss: 3.6699 - accuracy: 0.2516\n",
      "Epoch 49: accuracy improved from 0.24862 to 0.25156, saving model to model/weights-QuijoteNLP.hdf5\n",
      "1202/1202 [==============================] - 80s 67ms/step - loss: 3.6699 - accuracy: 0.2516\n",
      "Epoch 50/70\n",
      "  88/1202 [=>............................] - ETA: 1:14 - loss: 3.5562 - accuracy: 0.2709"
     ]
    },
    {
     "name": "stderr",
     "output_type": "stream",
     "text": [
      "[codecarbon INFO @ 23:57:06] Energy consumed for RAM : 0.006326 kWh. RAM Power : 5.796770095825195 W\n"
     ]
    },
    {
     "name": "stdout",
     "output_type": "stream",
     "text": [
      "  89/1202 [=>............................] - ETA: 1:14 - loss: 3.5508 - accuracy: 0.2713"
     ]
    },
    {
     "name": "stderr",
     "output_type": "stream",
     "text": [
      "[codecarbon INFO @ 23:57:06] Energy consumed for all CPUs : 0.008186 kWh. Total CPU Power : 7.5 W\n",
      "[codecarbon INFO @ 23:57:06] 0.014513 kWh of electricity used since the beginning.\n"
     ]
    },
    {
     "name": "stdout",
     "output_type": "stream",
     "text": [
      " 314/1202 [======>.......................] - ETA: 59s - loss: 3.5631 - accuracy: 0.2673"
     ]
    },
    {
     "name": "stderr",
     "output_type": "stream",
     "text": [
      "[codecarbon INFO @ 23:57:21] Energy consumed for RAM : 0.006350 kWh. RAM Power : 5.796770095825195 W\n",
      "[codecarbon INFO @ 23:57:21] Energy consumed for all CPUs : 0.008218 kWh. Total CPU Power : 7.5 W\n",
      "[codecarbon INFO @ 23:57:21] 0.014568 kWh of electricity used since the beginning.\n"
     ]
    },
    {
     "name": "stdout",
     "output_type": "stream",
     "text": [
      " 539/1202 [============>.................] - ETA: 44s - loss: 3.5881 - accuracy: 0.2648"
     ]
    },
    {
     "name": "stderr",
     "output_type": "stream",
     "text": [
      "[codecarbon INFO @ 23:57:36] Energy consumed for RAM : 0.006375 kWh. RAM Power : 5.796770095825195 W\n",
      "[codecarbon INFO @ 23:57:36] Energy consumed for all CPUs : 0.008249 kWh. Total CPU Power : 7.5 W\n",
      "[codecarbon INFO @ 23:57:36] 0.014624 kWh of electricity used since the beginning.\n"
     ]
    },
    {
     "name": "stdout",
     "output_type": "stream",
     "text": [
      " 765/1202 [==================>...........] - ETA: 29s - loss: 3.6101 - accuracy: 0.2603"
     ]
    },
    {
     "name": "stderr",
     "output_type": "stream",
     "text": [
      "[codecarbon INFO @ 23:57:51] Energy consumed for RAM : 0.006399 kWh. RAM Power : 5.796770095825195 W\n",
      "[codecarbon INFO @ 23:57:51] Energy consumed for all CPUs : 0.008280 kWh. Total CPU Power : 7.5 W\n",
      "[codecarbon INFO @ 23:57:51] 0.014679 kWh of electricity used since the beginning.\n"
     ]
    },
    {
     "name": "stdout",
     "output_type": "stream",
     "text": [
      " 992/1202 [=======================>......] - ETA: 13s - loss: 3.6345 - accuracy: 0.2569"
     ]
    },
    {
     "name": "stderr",
     "output_type": "stream",
     "text": [
      "[codecarbon INFO @ 23:58:06] Energy consumed for RAM : 0.006423 kWh. RAM Power : 5.796770095825195 W\n",
      "[codecarbon INFO @ 23:58:06] Energy consumed for all CPUs : 0.008311 kWh. Total CPU Power : 7.5 W\n",
      "[codecarbon INFO @ 23:58:06] 0.014734 kWh of electricity used since the beginning.\n"
     ]
    },
    {
     "name": "stdout",
     "output_type": "stream",
     "text": [
      "1202/1202 [==============================] - ETA: 0s - loss: 3.6507 - accuracy: 0.2546\n",
      "Epoch 50: accuracy improved from 0.25156 to 0.25455, saving model to model/weights-QuijoteNLP.hdf5\n",
      "1202/1202 [==============================] - 80s 67ms/step - loss: 3.6507 - accuracy: 0.2546\n",
      "Epoch 51/70\n",
      "  13/1202 [..............................] - ETA: 1:21 - loss: 3.4554 - accuracy: 0.2879"
     ]
    },
    {
     "name": "stderr",
     "output_type": "stream",
     "text": [
      "[codecarbon INFO @ 23:58:21] Energy consumed for RAM : 0.006447 kWh. RAM Power : 5.796770095825195 W\n",
      "[codecarbon INFO @ 23:58:21] Energy consumed for all CPUs : 0.008343 kWh. Total CPU Power : 7.5 W\n",
      "[codecarbon INFO @ 23:58:21] 0.014790 kWh of electricity used since the beginning.\n"
     ]
    },
    {
     "name": "stdout",
     "output_type": "stream",
     "text": [
      " 239/1202 [====>.........................] - ETA: 1:04 - loss: 3.5258 - accuracy: 0.2704"
     ]
    },
    {
     "name": "stderr",
     "output_type": "stream",
     "text": [
      "[codecarbon INFO @ 23:58:36] Energy consumed for RAM : 0.006471 kWh. RAM Power : 5.796770095825195 W\n",
      "[codecarbon INFO @ 23:58:36] Energy consumed for all CPUs : 0.008374 kWh. Total CPU Power : 7.5 W\n",
      "[codecarbon INFO @ 23:58:36] 0.014845 kWh of electricity used since the beginning.\n"
     ]
    },
    {
     "name": "stdout",
     "output_type": "stream",
     "text": [
      " 464/1202 [==========>...................] - ETA: 49s - loss: 3.5622 - accuracy: 0.2639"
     ]
    },
    {
     "name": "stderr",
     "output_type": "stream",
     "text": [
      "[codecarbon INFO @ 23:58:51] Energy consumed for RAM : 0.006495 kWh. RAM Power : 5.796770095825195 W\n",
      "[codecarbon INFO @ 23:58:51] Energy consumed for all CPUs : 0.008405 kWh. Total CPU Power : 7.5 W\n",
      "[codecarbon INFO @ 23:58:51] 0.014900 kWh of electricity used since the beginning.\n"
     ]
    },
    {
     "name": "stdout",
     "output_type": "stream",
     "text": [
      " 690/1202 [================>.............] - ETA: 34s - loss: 3.5903 - accuracy: 0.2608"
     ]
    },
    {
     "name": "stderr",
     "output_type": "stream",
     "text": [
      "[codecarbon INFO @ 23:59:06] Energy consumed for RAM : 0.006519 kWh. RAM Power : 5.796770095825195 W\n",
      "[codecarbon INFO @ 23:59:06] Energy consumed for all CPUs : 0.008436 kWh. Total CPU Power : 7.5 W\n",
      "[codecarbon INFO @ 23:59:06] 0.014956 kWh of electricity used since the beginning.\n"
     ]
    },
    {
     "name": "stdout",
     "output_type": "stream",
     "text": [
      " 915/1202 [=====================>........] - ETA: 19s - loss: 3.6088 - accuracy: 0.2588"
     ]
    },
    {
     "name": "stderr",
     "output_type": "stream",
     "text": [
      "[codecarbon INFO @ 23:59:21] Energy consumed for RAM : 0.006544 kWh. RAM Power : 5.796770095825195 W\n",
      "[codecarbon INFO @ 23:59:21] Energy consumed for all CPUs : 0.008468 kWh. Total CPU Power : 7.5 W\n",
      "[codecarbon INFO @ 23:59:21] 0.015011 kWh of electricity used since the beginning.\n"
     ]
    },
    {
     "name": "stdout",
     "output_type": "stream",
     "text": [
      "1141/1202 [===========================>..] - ETA: 4s - loss: 3.6286 - accuracy: 0.2565"
     ]
    },
    {
     "name": "stderr",
     "output_type": "stream",
     "text": [
      "[codecarbon INFO @ 23:59:36] Energy consumed for RAM : 0.006568 kWh. RAM Power : 5.796770095825195 W\n",
      "[codecarbon INFO @ 23:59:36] Energy consumed for all CPUs : 0.008499 kWh. Total CPU Power : 7.5 W\n",
      "[codecarbon INFO @ 23:59:36] 0.015067 kWh of electricity used since the beginning.\n"
     ]
    },
    {
     "name": "stdout",
     "output_type": "stream",
     "text": [
      "1202/1202 [==============================] - ETA: 0s - loss: 3.6318 - accuracy: 0.2564\n",
      "Epoch 51: accuracy improved from 0.25455 to 0.25639, saving model to model/weights-QuijoteNLP.hdf5\n",
      "1202/1202 [==============================] - 80s 67ms/step - loss: 3.6318 - accuracy: 0.2564\n",
      "Epoch 52/70\n",
      " 164/1202 [===>..........................] - ETA: 1:09 - loss: 3.5262 - accuracy: 0.2715"
     ]
    },
    {
     "name": "stderr",
     "output_type": "stream",
     "text": [
      "[codecarbon INFO @ 23:59:51] Energy consumed for RAM : 0.006592 kWh. RAM Power : 5.796770095825195 W\n",
      "[codecarbon INFO @ 23:59:51] Energy consumed for all CPUs : 0.008530 kWh. Total CPU Power : 7.5 W\n",
      "[codecarbon INFO @ 23:59:51] 0.015122 kWh of electricity used since the beginning.\n"
     ]
    },
    {
     "name": "stdout",
     "output_type": "stream",
     "text": [
      " 388/1202 [========>.....................] - ETA: 54s - loss: 3.5278 - accuracy: 0.2705"
     ]
    },
    {
     "name": "stderr",
     "output_type": "stream",
     "text": [
      "[codecarbon INFO @ 00:00:06] Energy consumed for RAM : 0.006616 kWh. RAM Power : 5.796770095825195 W\n",
      "[codecarbon INFO @ 00:00:06] Energy consumed for all CPUs : 0.008561 kWh. Total CPU Power : 7.5 W\n",
      "[codecarbon INFO @ 00:00:06] 0.015177 kWh of electricity used since the beginning.\n"
     ]
    },
    {
     "name": "stdout",
     "output_type": "stream",
     "text": [
      " 613/1202 [==============>...............] - ETA: 39s - loss: 3.5586 - accuracy: 0.2657"
     ]
    },
    {
     "name": "stderr",
     "output_type": "stream",
     "text": [
      "[codecarbon INFO @ 00:00:21] Energy consumed for RAM : 0.006640 kWh. RAM Power : 5.796770095825195 W\n",
      "[codecarbon INFO @ 00:00:21] Energy consumed for all CPUs : 0.008593 kWh. Total CPU Power : 7.5 W\n",
      "[codecarbon INFO @ 00:00:21] 0.015233 kWh of electricity used since the beginning.\n"
     ]
    },
    {
     "name": "stdout",
     "output_type": "stream",
     "text": [
      " 838/1202 [===================>..........] - ETA: 24s - loss: 3.5813 - accuracy: 0.2628"
     ]
    },
    {
     "name": "stderr",
     "output_type": "stream",
     "text": [
      "[codecarbon INFO @ 00:00:36] Energy consumed for RAM : 0.006664 kWh. RAM Power : 5.796770095825195 W\n",
      "[codecarbon INFO @ 00:00:36] Energy consumed for all CPUs : 0.008624 kWh. Total CPU Power : 7.5 W\n",
      "[codecarbon INFO @ 00:00:36] 0.015288 kWh of electricity used since the beginning.\n"
     ]
    },
    {
     "name": "stdout",
     "output_type": "stream",
     "text": [
      "1063/1202 [=========================>....] - ETA: 9s - loss: 3.6019 - accuracy: 0.2603"
     ]
    },
    {
     "name": "stderr",
     "output_type": "stream",
     "text": [
      "[codecarbon INFO @ 00:00:51] Energy consumed for RAM : 0.006688 kWh. RAM Power : 5.796770095825195 W\n"
     ]
    },
    {
     "name": "stdout",
     "output_type": "stream",
     "text": [
      "1064/1202 [=========================>....] - ETA: 9s - loss: 3.6018 - accuracy: 0.2602"
     ]
    },
    {
     "name": "stderr",
     "output_type": "stream",
     "text": [
      "[codecarbon INFO @ 00:00:51] Energy consumed for all CPUs : 0.008655 kWh. Total CPU Power : 7.5 W\n",
      "[codecarbon INFO @ 00:00:51] 0.015344 kWh of electricity used since the beginning.\n"
     ]
    },
    {
     "name": "stdout",
     "output_type": "stream",
     "text": [
      "1202/1202 [==============================] - ETA: 0s - loss: 3.6141 - accuracy: 0.2590\n",
      "Epoch 52: accuracy improved from 0.25639 to 0.25903, saving model to model/weights-QuijoteNLP.hdf5\n",
      "1202/1202 [==============================] - 80s 67ms/step - loss: 3.6141 - accuracy: 0.2590\n",
      "Epoch 53/70\n",
      "  86/1202 [=>............................] - ETA: 1:15 - loss: 3.4925 - accuracy: 0.2735"
     ]
    },
    {
     "name": "stderr",
     "output_type": "stream",
     "text": [
      "[codecarbon INFO @ 00:01:06] Energy consumed for RAM : 0.006713 kWh. RAM Power : 5.796770095825195 W\n",
      "[codecarbon INFO @ 00:01:06] Energy consumed for all CPUs : 0.008686 kWh. Total CPU Power : 7.5 W\n",
      "[codecarbon INFO @ 00:01:06] 0.015399 kWh of electricity used since the beginning.\n"
     ]
    },
    {
     "name": "stdout",
     "output_type": "stream",
     "text": [
      " 311/1202 [======>.......................] - ETA: 59s - loss: 3.5255 - accuracy: 0.2710"
     ]
    },
    {
     "name": "stderr",
     "output_type": "stream",
     "text": [
      "[codecarbon INFO @ 00:01:21] Energy consumed for RAM : 0.006737 kWh. RAM Power : 5.796770095825195 W\n",
      "[codecarbon INFO @ 00:01:21] Energy consumed for all CPUs : 0.008718 kWh. Total CPU Power : 7.5 W\n",
      "[codecarbon INFO @ 00:01:21] 0.015454 kWh of electricity used since the beginning.\n"
     ]
    },
    {
     "name": "stdout",
     "output_type": "stream",
     "text": [
      " 538/1202 [============>.................] - ETA: 44s - loss: 3.5467 - accuracy: 0.2701"
     ]
    },
    {
     "name": "stderr",
     "output_type": "stream",
     "text": [
      "[codecarbon INFO @ 00:01:36] Energy consumed for RAM : 0.006761 kWh. RAM Power : 5.796770095825195 W\n",
      "[codecarbon INFO @ 00:01:36] Energy consumed for all CPUs : 0.008749 kWh. Total CPU Power : 7.5 W\n",
      "[codecarbon INFO @ 00:01:36] 0.015510 kWh of electricity used since the beginning.\n"
     ]
    },
    {
     "name": "stdout",
     "output_type": "stream",
     "text": [
      " 765/1202 [==================>...........] - ETA: 29s - loss: 3.5629 - accuracy: 0.2669"
     ]
    },
    {
     "name": "stderr",
     "output_type": "stream",
     "text": [
      "[codecarbon INFO @ 00:01:51] Energy consumed for RAM : 0.006785 kWh. RAM Power : 5.796770095825195 W\n",
      "[codecarbon INFO @ 00:01:51] Energy consumed for all CPUs : 0.008780 kWh. Total CPU Power : 7.5 W\n",
      "[codecarbon INFO @ 00:01:51] 0.015565 kWh of electricity used since the beginning.\n"
     ]
    },
    {
     "name": "stdout",
     "output_type": "stream",
     "text": [
      " 990/1202 [=======================>......] - ETA: 14s - loss: 3.5779 - accuracy: 0.2647"
     ]
    },
    {
     "name": "stderr",
     "output_type": "stream",
     "text": [
      "[codecarbon INFO @ 00:02:06] Energy consumed for RAM : 0.006809 kWh. RAM Power : 5.796770095825195 W\n",
      "[codecarbon INFO @ 00:02:06] Energy consumed for all CPUs : 0.008811 kWh. Total CPU Power : 7.5 W\n",
      "[codecarbon INFO @ 00:02:06] 0.015621 kWh of electricity used since the beginning.\n"
     ]
    },
    {
     "name": "stdout",
     "output_type": "stream",
     "text": [
      "1202/1202 [==============================] - ETA: 0s - loss: 3.5927 - accuracy: 0.2626\n",
      "Epoch 53: accuracy improved from 0.25903 to 0.26256, saving model to model/weights-QuijoteNLP.hdf5\n",
      "1202/1202 [==============================] - 80s 67ms/step - loss: 3.5927 - accuracy: 0.2626\n",
      "Epoch 54/70\n",
      "  12/1202 [..............................] - ETA: 1:18 - loss: 3.4158 - accuracy: 0.2923"
     ]
    },
    {
     "name": "stderr",
     "output_type": "stream",
     "text": [
      "[codecarbon INFO @ 00:02:21] Energy consumed for RAM : 0.006833 kWh. RAM Power : 5.796770095825195 W\n",
      "[codecarbon INFO @ 00:02:21] Energy consumed for all CPUs : 0.008843 kWh. Total CPU Power : 7.5 W\n",
      "[codecarbon INFO @ 00:02:21] 0.015676 kWh of electricity used since the beginning.\n"
     ]
    },
    {
     "name": "stdout",
     "output_type": "stream",
     "text": [
      " 237/1202 [====>.........................] - ETA: 1:04 - loss: 3.5024 - accuracy: 0.2764"
     ]
    },
    {
     "name": "stderr",
     "output_type": "stream",
     "text": [
      "[codecarbon INFO @ 00:02:36] Energy consumed for RAM : 0.006857 kWh. RAM Power : 5.796770095825195 W\n",
      "[codecarbon INFO @ 00:02:36] Energy consumed for all CPUs : 0.008874 kWh. Total CPU Power : 7.5 W\n",
      "[codecarbon INFO @ 00:02:36] 0.015731 kWh of electricity used since the beginning.\n"
     ]
    },
    {
     "name": "stdout",
     "output_type": "stream",
     "text": [
      " 462/1202 [==========>...................] - ETA: 49s - loss: 3.5140 - accuracy: 0.2735"
     ]
    },
    {
     "name": "stderr",
     "output_type": "stream",
     "text": [
      "[codecarbon INFO @ 00:02:51] Energy consumed for RAM : 0.006882 kWh. RAM Power : 5.796770095825195 W\n",
      "[codecarbon INFO @ 00:02:51] Energy consumed for all CPUs : 0.008905 kWh. Total CPU Power : 7.5 W\n",
      "[codecarbon INFO @ 00:02:51] 0.015787 kWh of electricity used since the beginning.\n"
     ]
    },
    {
     "name": "stdout",
     "output_type": "stream",
     "text": [
      " 686/1202 [================>.............] - ETA: 34s - loss: 3.5312 - accuracy: 0.2714"
     ]
    },
    {
     "name": "stderr",
     "output_type": "stream",
     "text": [
      "[codecarbon INFO @ 00:03:06] Energy consumed for RAM : 0.006906 kWh. RAM Power : 5.796770095825195 W\n",
      "[codecarbon INFO @ 00:03:06] Energy consumed for all CPUs : 0.008936 kWh. Total CPU Power : 7.5 W\n",
      "[codecarbon INFO @ 00:03:06] 0.015842 kWh of electricity used since the beginning.\n"
     ]
    },
    {
     "name": "stdout",
     "output_type": "stream",
     "text": [
      " 910/1202 [=====================>........] - ETA: 19s - loss: 3.5529 - accuracy: 0.2684"
     ]
    },
    {
     "name": "stderr",
     "output_type": "stream",
     "text": [
      "[codecarbon INFO @ 00:03:21] Energy consumed for RAM : 0.006930 kWh. RAM Power : 5.796770095825195 W\n",
      "[codecarbon INFO @ 00:03:21] Energy consumed for all CPUs : 0.008968 kWh. Total CPU Power : 7.5 W\n",
      "[codecarbon INFO @ 00:03:21] 0.015898 kWh of electricity used since the beginning.\n"
     ]
    },
    {
     "name": "stdout",
     "output_type": "stream",
     "text": [
      "1135/1202 [===========================>..] - ETA: 4s - loss: 3.5694 - accuracy: 0.2653"
     ]
    },
    {
     "name": "stderr",
     "output_type": "stream",
     "text": [
      "[codecarbon INFO @ 00:03:36] Energy consumed for RAM : 0.006954 kWh. RAM Power : 5.796770095825195 W\n",
      "[codecarbon INFO @ 00:03:36] Energy consumed for all CPUs : 0.008999 kWh. Total CPU Power : 7.5 W\n",
      "[codecarbon INFO @ 00:03:36] 0.015953 kWh of electricity used since the beginning.\n"
     ]
    },
    {
     "name": "stdout",
     "output_type": "stream",
     "text": [
      "1202/1202 [==============================] - ETA: 0s - loss: 3.5744 - accuracy: 0.2649\n",
      "Epoch 54: accuracy improved from 0.26256 to 0.26488, saving model to model/weights-QuijoteNLP.hdf5\n",
      "1202/1202 [==============================] - 80s 67ms/step - loss: 3.5744 - accuracy: 0.2649\n",
      "Epoch 55/70\n",
      " 157/1202 [==>...........................] - ETA: 1:09 - loss: 3.4424 - accuracy: 0.2841"
     ]
    },
    {
     "name": "stderr",
     "output_type": "stream",
     "text": [
      "[codecarbon INFO @ 00:03:51] Energy consumed for RAM : 0.006978 kWh. RAM Power : 5.796770095825195 W\n",
      "[codecarbon INFO @ 00:03:51] Energy consumed for all CPUs : 0.009030 kWh. Total CPU Power : 7.5 W\n",
      "[codecarbon INFO @ 00:03:51] 0.016008 kWh of electricity used since the beginning.\n"
     ]
    },
    {
     "name": "stdout",
     "output_type": "stream",
     "text": [
      " 381/1202 [========>.....................] - ETA: 54s - loss: 3.4690 - accuracy: 0.2807"
     ]
    },
    {
     "name": "stderr",
     "output_type": "stream",
     "text": [
      "[codecarbon INFO @ 00:04:06] Energy consumed for RAM : 0.007002 kWh. RAM Power : 5.796770095825195 W\n",
      "[codecarbon INFO @ 00:04:06] Energy consumed for all CPUs : 0.009061 kWh. Total CPU Power : 7.5 W\n",
      "[codecarbon INFO @ 00:04:06] 0.016064 kWh of electricity used since the beginning.\n"
     ]
    },
    {
     "name": "stdout",
     "output_type": "stream",
     "text": [
      " 606/1202 [==============>...............] - ETA: 39s - loss: 3.5040 - accuracy: 0.2751"
     ]
    },
    {
     "name": "stderr",
     "output_type": "stream",
     "text": [
      "[codecarbon INFO @ 00:04:21] Energy consumed for RAM : 0.007027 kWh. RAM Power : 5.796770095825195 W\n",
      "[codecarbon INFO @ 00:04:21] Energy consumed for all CPUs : 0.009093 kWh. Total CPU Power : 7.5 W\n",
      "[codecarbon INFO @ 00:04:21] 0.016119 kWh of electricity used since the beginning.\n"
     ]
    },
    {
     "name": "stdout",
     "output_type": "stream",
     "text": [
      " 831/1202 [===================>..........] - ETA: 24s - loss: 3.5275 - accuracy: 0.2718"
     ]
    },
    {
     "name": "stderr",
     "output_type": "stream",
     "text": [
      "[codecarbon INFO @ 00:04:36] Energy consumed for RAM : 0.007051 kWh. RAM Power : 5.796770095825195 W\n",
      "[codecarbon INFO @ 00:04:36] Energy consumed for all CPUs : 0.009124 kWh. Total CPU Power : 7.5 W\n",
      "[codecarbon INFO @ 00:04:36] 0.016174 kWh of electricity used since the beginning.\n"
     ]
    },
    {
     "name": "stdout",
     "output_type": "stream",
     "text": [
      "1057/1202 [=========================>....] - ETA: 9s - loss: 3.5426 - accuracy: 0.2699"
     ]
    },
    {
     "name": "stderr",
     "output_type": "stream",
     "text": [
      "[codecarbon INFO @ 00:04:51] Energy consumed for RAM : 0.007075 kWh. RAM Power : 5.796770095825195 W\n",
      "[codecarbon INFO @ 00:04:51] Energy consumed for all CPUs : 0.009155 kWh. Total CPU Power : 7.5 W\n",
      "[codecarbon INFO @ 00:04:51] 0.016230 kWh of electricity used since the beginning.\n"
     ]
    },
    {
     "name": "stdout",
     "output_type": "stream",
     "text": [
      "1202/1202 [==============================] - ETA: 0s - loss: 3.5531 - accuracy: 0.2682\n",
      "Epoch 55: accuracy improved from 0.26488 to 0.26818, saving model to model/weights-QuijoteNLP.hdf5\n",
      "1202/1202 [==============================] - 80s 67ms/step - loss: 3.5531 - accuracy: 0.2682\n",
      "Epoch 56/70\n",
      "  78/1202 [>.............................] - ETA: 1:16 - loss: 3.3989 - accuracy: 0.2952"
     ]
    },
    {
     "name": "stderr",
     "output_type": "stream",
     "text": [
      "[codecarbon INFO @ 00:05:06] Energy consumed for RAM : 0.007099 kWh. RAM Power : 5.796770095825195 W\n",
      "[codecarbon INFO @ 00:05:06] Energy consumed for all CPUs : 0.009186 kWh. Total CPU Power : 7.5 W\n",
      "[codecarbon INFO @ 00:05:06] 0.016285 kWh of electricity used since the beginning.\n"
     ]
    },
    {
     "name": "stdout",
     "output_type": "stream",
     "text": [
      " 304/1202 [======>.......................] - ETA: 1:00 - loss: 3.4406 - accuracy: 0.2850"
     ]
    },
    {
     "name": "stderr",
     "output_type": "stream",
     "text": [
      "[codecarbon INFO @ 00:05:21] Energy consumed for RAM : 0.007123 kWh. RAM Power : 5.796770095825195 W\n",
      "[codecarbon INFO @ 00:05:21] Energy consumed for all CPUs : 0.009218 kWh. Total CPU Power : 7.5 W\n",
      "[codecarbon INFO @ 00:05:21] 0.016341 kWh of electricity used since the beginning.\n"
     ]
    },
    {
     "name": "stdout",
     "output_type": "stream",
     "text": [
      " 529/1202 [============>.................] - ETA: 44s - loss: 3.4738 - accuracy: 0.2811"
     ]
    },
    {
     "name": "stderr",
     "output_type": "stream",
     "text": [
      "[codecarbon INFO @ 00:05:36] Energy consumed for RAM : 0.007147 kWh. RAM Power : 5.796770095825195 W\n",
      "[codecarbon INFO @ 00:05:36] Energy consumed for all CPUs : 0.009249 kWh. Total CPU Power : 7.5 W\n",
      "[codecarbon INFO @ 00:05:36] 0.016396 kWh of electricity used since the beginning.\n"
     ]
    },
    {
     "name": "stdout",
     "output_type": "stream",
     "text": [
      " 755/1202 [=================>............] - ETA: 29s - loss: 3.4920 - accuracy: 0.2781"
     ]
    },
    {
     "name": "stderr",
     "output_type": "stream",
     "text": [
      "[codecarbon INFO @ 00:05:51] Energy consumed for RAM : 0.007171 kWh. RAM Power : 5.796770095825195 W\n",
      "[codecarbon INFO @ 00:05:51] Energy consumed for all CPUs : 0.009280 kWh. Total CPU Power : 7.5 W\n",
      "[codecarbon INFO @ 00:05:51] 0.016451 kWh of electricity used since the beginning.\n"
     ]
    },
    {
     "name": "stdout",
     "output_type": "stream",
     "text": [
      " 980/1202 [=======================>......] - ETA: 14s - loss: 3.5137 - accuracy: 0.2747"
     ]
    },
    {
     "name": "stderr",
     "output_type": "stream",
     "text": [
      "[codecarbon INFO @ 00:06:06] Energy consumed for RAM : 0.007196 kWh. RAM Power : 5.796770095825195 W\n",
      "[codecarbon INFO @ 00:06:06] Energy consumed for all CPUs : 0.009311 kWh. Total CPU Power : 7.5 W\n",
      "[codecarbon INFO @ 00:06:06] 0.016507 kWh of electricity used since the beginning.\n"
     ]
    },
    {
     "name": "stdout",
     "output_type": "stream",
     "text": [
      "1202/1202 [==============================] - ETA: 0s - loss: 3.5334 - accuracy: 0.2710\n",
      "Epoch 56: accuracy improved from 0.26818 to 0.27100, saving model to model/weights-QuijoteNLP.hdf5\n",
      "1202/1202 [==============================] - 80s 67ms/step - loss: 3.5334 - accuracy: 0.2710\n",
      "Epoch 57/70\n",
      "   1/1202 [..............................] - ETA: 1:18 - loss: 3.4855 - accuracy: 0.2734"
     ]
    },
    {
     "name": "stderr",
     "output_type": "stream",
     "text": [
      "[codecarbon INFO @ 00:06:21] Energy consumed for RAM : 0.007220 kWh. RAM Power : 5.796770095825195 W\n",
      "[codecarbon INFO @ 00:06:21] Energy consumed for all CPUs : 0.009343 kWh. Total CPU Power : 7.5 W\n",
      "[codecarbon INFO @ 00:06:21] 0.016562 kWh of electricity used since the beginning.\n"
     ]
    },
    {
     "name": "stdout",
     "output_type": "stream",
     "text": [
      " 227/1202 [====>.........................] - ETA: 1:04 - loss: 3.3985 - accuracy: 0.2921"
     ]
    },
    {
     "name": "stderr",
     "output_type": "stream",
     "text": [
      "[codecarbon INFO @ 00:06:36] Energy consumed for RAM : 0.007244 kWh. RAM Power : 5.796770095825195 W\n",
      "[codecarbon INFO @ 00:06:36] Energy consumed for all CPUs : 0.009374 kWh. Total CPU Power : 7.5 W\n",
      "[codecarbon INFO @ 00:06:36] 0.016618 kWh of electricity used since the beginning.\n"
     ]
    },
    {
     "name": "stdout",
     "output_type": "stream",
     "text": [
      " 452/1202 [==========>...................] - ETA: 49s - loss: 3.4205 - accuracy: 0.2873"
     ]
    },
    {
     "name": "stderr",
     "output_type": "stream",
     "text": [
      "[codecarbon INFO @ 00:06:51] Energy consumed for RAM : 0.007268 kWh. RAM Power : 5.796770095825195 W\n",
      "[codecarbon INFO @ 00:06:51] Energy consumed for all CPUs : 0.009405 kWh. Total CPU Power : 7.5 W\n",
      "[codecarbon INFO @ 00:06:51] 0.016673 kWh of electricity used since the beginning.\n"
     ]
    },
    {
     "name": "stdout",
     "output_type": "stream",
     "text": [
      " 676/1202 [===============>..............] - ETA: 35s - loss: 3.4626 - accuracy: 0.2809"
     ]
    },
    {
     "name": "stderr",
     "output_type": "stream",
     "text": [
      "[codecarbon INFO @ 00:07:06] Energy consumed for RAM : 0.007292 kWh. RAM Power : 5.796770095825195 W\n"
     ]
    },
    {
     "name": "stdout",
     "output_type": "stream",
     "text": [
      " 677/1202 [===============>..............] - ETA: 34s - loss: 3.4621 - accuracy: 0.2810"
     ]
    },
    {
     "name": "stderr",
     "output_type": "stream",
     "text": [
      "[codecarbon INFO @ 00:07:06] Energy consumed for all CPUs : 0.009436 kWh. Total CPU Power : 7.5 W\n",
      "[codecarbon INFO @ 00:07:06] 0.016728 kWh of electricity used since the beginning.\n"
     ]
    },
    {
     "name": "stdout",
     "output_type": "stream",
     "text": [
      " 902/1202 [=====================>........] - ETA: 19s - loss: 3.4932 - accuracy: 0.2768"
     ]
    },
    {
     "name": "stderr",
     "output_type": "stream",
     "text": [
      "[codecarbon INFO @ 00:07:21] Energy consumed for RAM : 0.007316 kWh. RAM Power : 5.796770095825195 W\n",
      "[codecarbon INFO @ 00:07:21] Energy consumed for all CPUs : 0.009468 kWh. Total CPU Power : 7.5 W\n",
      "[codecarbon INFO @ 00:07:21] 0.016784 kWh of electricity used since the beginning.\n"
     ]
    },
    {
     "name": "stdout",
     "output_type": "stream",
     "text": [
      "1127/1202 [===========================>..] - ETA: 4s - loss: 3.5094 - accuracy: 0.2744"
     ]
    },
    {
     "name": "stderr",
     "output_type": "stream",
     "text": [
      "[codecarbon INFO @ 00:07:36] Energy consumed for RAM : 0.007340 kWh. RAM Power : 5.796770095825195 W\n",
      "[codecarbon INFO @ 00:07:36] Energy consumed for all CPUs : 0.009499 kWh. Total CPU Power : 7.5 W\n",
      "[codecarbon INFO @ 00:07:36] 0.016839 kWh of electricity used since the beginning.\n"
     ]
    },
    {
     "name": "stdout",
     "output_type": "stream",
     "text": [
      "1202/1202 [==============================] - ETA: 0s - loss: 3.5161 - accuracy: 0.2731\n",
      "Epoch 57: accuracy improved from 0.27100 to 0.27310, saving model to model/weights-QuijoteNLP.hdf5\n",
      "1202/1202 [==============================] - 80s 67ms/step - loss: 3.5161 - accuracy: 0.2731\n",
      "Epoch 58/70\n",
      " 149/1202 [==>...........................] - ETA: 1:10 - loss: 3.4076 - accuracy: 0.2853"
     ]
    },
    {
     "name": "stderr",
     "output_type": "stream",
     "text": [
      "[codecarbon INFO @ 00:07:51] Energy consumed for RAM : 0.007365 kWh. RAM Power : 5.796770095825195 W\n",
      "[codecarbon INFO @ 00:07:51] Energy consumed for all CPUs : 0.009530 kWh. Total CPU Power : 7.5 W\n",
      "[codecarbon INFO @ 00:07:51] 0.016895 kWh of electricity used since the beginning.\n"
     ]
    },
    {
     "name": "stdout",
     "output_type": "stream",
     "text": [
      " 374/1202 [========>.....................] - ETA: 55s - loss: 3.4344 - accuracy: 0.2824"
     ]
    },
    {
     "name": "stderr",
     "output_type": "stream",
     "text": [
      "[codecarbon INFO @ 00:08:06] Energy consumed for RAM : 0.007389 kWh. RAM Power : 5.796770095825195 W\n",
      "[codecarbon INFO @ 00:08:06] Energy consumed for all CPUs : 0.009561 kWh. Total CPU Power : 7.5 W\n",
      "[codecarbon INFO @ 00:08:06] 0.016950 kWh of electricity used since the beginning.\n"
     ]
    },
    {
     "name": "stdout",
     "output_type": "stream",
     "text": [
      " 599/1202 [=============>................] - ETA: 40s - loss: 3.4520 - accuracy: 0.2808"
     ]
    },
    {
     "name": "stderr",
     "output_type": "stream",
     "text": [
      "[codecarbon INFO @ 00:08:21] Energy consumed for RAM : 0.007413 kWh. RAM Power : 5.796770095825195 W\n",
      "[codecarbon INFO @ 00:08:21] Energy consumed for all CPUs : 0.009593 kWh. Total CPU Power : 7.5 W\n",
      "[codecarbon INFO @ 00:08:21] 0.017005 kWh of electricity used since the beginning.\n"
     ]
    },
    {
     "name": "stdout",
     "output_type": "stream",
     "text": [
      " 824/1202 [===================>..........] - ETA: 25s - loss: 3.4728 - accuracy: 0.2782"
     ]
    },
    {
     "name": "stderr",
     "output_type": "stream",
     "text": [
      "[codecarbon INFO @ 00:08:36] Energy consumed for RAM : 0.007437 kWh. RAM Power : 5.796770095825195 W\n",
      "[codecarbon INFO @ 00:08:36] Energy consumed for all CPUs : 0.009624 kWh. Total CPU Power : 7.5 W\n",
      "[codecarbon INFO @ 00:08:36] 0.017061 kWh of electricity used since the beginning.\n"
     ]
    },
    {
     "name": "stdout",
     "output_type": "stream",
     "text": [
      "1049/1202 [=========================>....] - ETA: 10s - loss: 3.4875 - accuracy: 0.2765"
     ]
    },
    {
     "name": "stderr",
     "output_type": "stream",
     "text": [
      "[codecarbon INFO @ 00:08:51] Energy consumed for RAM : 0.007461 kWh. RAM Power : 5.796770095825195 W\n",
      "[codecarbon INFO @ 00:08:51] Energy consumed for all CPUs : 0.009655 kWh. Total CPU Power : 7.5 W\n",
      "[codecarbon INFO @ 00:08:51] 0.017116 kWh of electricity used since the beginning.\n"
     ]
    },
    {
     "name": "stdout",
     "output_type": "stream",
     "text": [
      "1202/1202 [==============================] - ETA: 0s - loss: 3.4963 - accuracy: 0.2750\n",
      "Epoch 58: accuracy improved from 0.27310 to 0.27502, saving model to model/weights-QuijoteNLP.hdf5\n",
      "1202/1202 [==============================] - 80s 67ms/step - loss: 3.4963 - accuracy: 0.2750\n",
      "Epoch 59/70\n",
      "  71/1202 [>.............................] - ETA: 1:16 - loss: 3.3466 - accuracy: 0.2996"
     ]
    },
    {
     "name": "stderr",
     "output_type": "stream",
     "text": [
      "[codecarbon INFO @ 00:09:06] Energy consumed for RAM : 0.007485 kWh. RAM Power : 5.796770095825195 W\n",
      "[codecarbon INFO @ 00:09:06] Energy consumed for all CPUs : 0.009686 kWh. Total CPU Power : 7.5 W\n",
      "[codecarbon INFO @ 00:09:06] 0.017172 kWh of electricity used since the beginning.\n"
     ]
    },
    {
     "name": "stdout",
     "output_type": "stream",
     "text": [
      " 296/1202 [======>.......................] - ETA: 1:00 - loss: 3.4013 - accuracy: 0.2900"
     ]
    },
    {
     "name": "stderr",
     "output_type": "stream",
     "text": [
      "[codecarbon INFO @ 00:09:21] Energy consumed for RAM : 0.007509 kWh. RAM Power : 5.796770095825195 W\n",
      "[codecarbon INFO @ 00:09:21] Energy consumed for all CPUs : 0.009718 kWh. Total CPU Power : 7.5 W\n",
      "[codecarbon INFO @ 00:09:21] 0.017227 kWh of electricity used since the beginning.\n"
     ]
    },
    {
     "name": "stdout",
     "output_type": "stream",
     "text": [
      " 521/1202 [============>.................] - ETA: 45s - loss: 3.4143 - accuracy: 0.2882"
     ]
    },
    {
     "name": "stderr",
     "output_type": "stream",
     "text": [
      "[codecarbon INFO @ 00:09:36] Energy consumed for RAM : 0.007534 kWh. RAM Power : 5.796770095825195 W\n",
      "[codecarbon INFO @ 00:09:36] Energy consumed for all CPUs : 0.009749 kWh. Total CPU Power : 7.5 W\n",
      "[codecarbon INFO @ 00:09:36] 0.017282 kWh of electricity used since the beginning.\n"
     ]
    },
    {
     "name": "stdout",
     "output_type": "stream",
     "text": [
      " 748/1202 [=================>............] - ETA: 30s - loss: 3.4384 - accuracy: 0.2853"
     ]
    },
    {
     "name": "stderr",
     "output_type": "stream",
     "text": [
      "[codecarbon INFO @ 00:09:51] Energy consumed for RAM : 0.007558 kWh. RAM Power : 5.796770095825195 W\n",
      "[codecarbon INFO @ 00:09:51] Energy consumed for all CPUs : 0.009780 kWh. Total CPU Power : 7.5 W\n",
      "[codecarbon INFO @ 00:09:51] 0.017338 kWh of electricity used since the beginning.\n"
     ]
    },
    {
     "name": "stdout",
     "output_type": "stream",
     "text": [
      " 973/1202 [=======================>......] - ETA: 15s - loss: 3.4586 - accuracy: 0.2818"
     ]
    },
    {
     "name": "stderr",
     "output_type": "stream",
     "text": [
      "[codecarbon INFO @ 00:10:06] Energy consumed for RAM : 0.007582 kWh. RAM Power : 5.796770095825195 W\n",
      "[codecarbon INFO @ 00:10:06] Energy consumed for all CPUs : 0.009811 kWh. Total CPU Power : 7.5 W\n",
      "[codecarbon INFO @ 00:10:06] 0.017393 kWh of electricity used since the beginning.\n"
     ]
    },
    {
     "name": "stdout",
     "output_type": "stream",
     "text": [
      "1198/1202 [============================>.] - ETA: 0s - loss: 3.4769 - accuracy: 0.2792"
     ]
    },
    {
     "name": "stderr",
     "output_type": "stream",
     "text": [
      "[codecarbon INFO @ 00:10:21] Energy consumed for RAM : 0.007606 kWh. RAM Power : 5.796770095825195 W\n",
      "[codecarbon INFO @ 00:10:21] Energy consumed for all CPUs : 0.009843 kWh. Total CPU Power : 7.5 W\n",
      "[codecarbon INFO @ 00:10:21] 0.017449 kWh of electricity used since the beginning.\n"
     ]
    },
    {
     "name": "stdout",
     "output_type": "stream",
     "text": [
      "1202/1202 [==============================] - ETA: 0s - loss: 3.4768 - accuracy: 0.2792\n",
      "Epoch 59: accuracy improved from 0.27502 to 0.27925, saving model to model/weights-QuijoteNLP.hdf5\n",
      "1202/1202 [==============================] - 80s 67ms/step - loss: 3.4768 - accuracy: 0.2792\n",
      "Epoch 60/70\n",
      " 220/1202 [====>.........................] - ETA: 1:05 - loss: 3.3756 - accuracy: 0.2928"
     ]
    },
    {
     "name": "stderr",
     "output_type": "stream",
     "text": [
      "[codecarbon INFO @ 00:10:36] Energy consumed for RAM : 0.007630 kWh. RAM Power : 5.796770095825195 W\n",
      "[codecarbon INFO @ 00:10:36] Energy consumed for all CPUs : 0.009874 kWh. Total CPU Power : 7.5 W\n",
      "[codecarbon INFO @ 00:10:36] 0.017504 kWh of electricity used since the beginning.\n"
     ]
    },
    {
     "name": "stdout",
     "output_type": "stream",
     "text": [
      " 444/1202 [==========>...................] - ETA: 50s - loss: 3.3958 - accuracy: 0.2906"
     ]
    },
    {
     "name": "stderr",
     "output_type": "stream",
     "text": [
      "[codecarbon INFO @ 00:10:51] Energy consumed for RAM : 0.007654 kWh. RAM Power : 5.796770095825195 W\n",
      "[codecarbon INFO @ 00:10:51] Energy consumed for all CPUs : 0.009905 kWh. Total CPU Power : 7.5 W\n",
      "[codecarbon INFO @ 00:10:51] 0.017559 kWh of electricity used since the beginning.\n"
     ]
    },
    {
     "name": "stdout",
     "output_type": "stream",
     "text": [
      " 668/1202 [===============>..............] - ETA: 35s - loss: 3.4220 - accuracy: 0.2871"
     ]
    },
    {
     "name": "stderr",
     "output_type": "stream",
     "text": [
      "[codecarbon INFO @ 00:11:06] Energy consumed for RAM : 0.007678 kWh. RAM Power : 5.796770095825195 W\n",
      "[codecarbon INFO @ 00:11:06] Energy consumed for all CPUs : 0.009936 kWh. Total CPU Power : 7.5 W\n",
      "[codecarbon INFO @ 00:11:06] 0.017615 kWh of electricity used since the beginning.\n"
     ]
    },
    {
     "name": "stdout",
     "output_type": "stream",
     "text": [
      " 893/1202 [=====================>........] - ETA: 20s - loss: 3.4416 - accuracy: 0.2845"
     ]
    },
    {
     "name": "stderr",
     "output_type": "stream",
     "text": [
      "[codecarbon INFO @ 00:11:21] Energy consumed for RAM : 0.007703 kWh. RAM Power : 5.796770095825195 W\n",
      "[codecarbon INFO @ 00:11:21] Energy consumed for all CPUs : 0.009967 kWh. Total CPU Power : 7.5 W\n",
      "[codecarbon INFO @ 00:11:21] 0.017670 kWh of electricity used since the beginning.\n"
     ]
    },
    {
     "name": "stdout",
     "output_type": "stream",
     "text": [
      "1117/1202 [==========================>...] - ETA: 5s - loss: 3.4526 - accuracy: 0.2819"
     ]
    },
    {
     "name": "stderr",
     "output_type": "stream",
     "text": [
      "[codecarbon INFO @ 00:11:36] Energy consumed for RAM : 0.007727 kWh. RAM Power : 5.796770095825195 W\n",
      "[codecarbon INFO @ 00:11:36] Energy consumed for all CPUs : 0.009999 kWh. Total CPU Power : 7.5 W\n",
      "[codecarbon INFO @ 00:11:36] 0.017725 kWh of electricity used since the beginning.\n"
     ]
    },
    {
     "name": "stdout",
     "output_type": "stream",
     "text": [
      "1202/1202 [==============================] - ETA: 0s - loss: 3.4599 - accuracy: 0.2810\n",
      "Epoch 60: accuracy improved from 0.27925 to 0.28098, saving model to model/weights-QuijoteNLP.hdf5\n",
      "1202/1202 [==============================] - 80s 67ms/step - loss: 3.4599 - accuracy: 0.2810\n",
      "Epoch 61/70\n",
      " 139/1202 [==>...........................] - ETA: 1:11 - loss: 3.3332 - accuracy: 0.3004"
     ]
    },
    {
     "name": "stderr",
     "output_type": "stream",
     "text": [
      "[codecarbon INFO @ 00:11:51] Energy consumed for RAM : 0.007751 kWh. RAM Power : 5.796770095825195 W\n",
      "[codecarbon INFO @ 00:11:51] Energy consumed for all CPUs : 0.010030 kWh. Total CPU Power : 7.5 W\n",
      "[codecarbon INFO @ 00:11:51] 0.017781 kWh of electricity used since the beginning.\n"
     ]
    },
    {
     "name": "stdout",
     "output_type": "stream",
     "text": [
      " 364/1202 [========>.....................] - ETA: 56s - loss: 3.3618 - accuracy: 0.2972"
     ]
    },
    {
     "name": "stderr",
     "output_type": "stream",
     "text": [
      "[codecarbon INFO @ 00:12:06] Energy consumed for RAM : 0.007775 kWh. RAM Power : 5.796770095825195 W\n",
      "[codecarbon INFO @ 00:12:06] Energy consumed for all CPUs : 0.010061 kWh. Total CPU Power : 7.5 W\n",
      "[codecarbon INFO @ 00:12:06] 0.017836 kWh of electricity used since the beginning.\n"
     ]
    },
    {
     "name": "stdout",
     "output_type": "stream",
     "text": [
      " 589/1202 [=============>................] - ETA: 40s - loss: 3.3883 - accuracy: 0.2932"
     ]
    },
    {
     "name": "stderr",
     "output_type": "stream",
     "text": [
      "[codecarbon INFO @ 00:12:21] Energy consumed for RAM : 0.007799 kWh. RAM Power : 5.796770095825195 W\n",
      "[codecarbon INFO @ 00:12:21] Energy consumed for all CPUs : 0.010092 kWh. Total CPU Power : 7.5 W\n",
      "[codecarbon INFO @ 00:12:21] 0.017892 kWh of electricity used since the beginning.\n"
     ]
    },
    {
     "name": "stdout",
     "output_type": "stream",
     "text": [
      " 813/1202 [===================>..........] - ETA: 25s - loss: 3.4106 - accuracy: 0.2894"
     ]
    },
    {
     "name": "stderr",
     "output_type": "stream",
     "text": [
      "[codecarbon INFO @ 00:12:36] Energy consumed for RAM : 0.007823 kWh. RAM Power : 5.796770095825195 W\n",
      "[codecarbon INFO @ 00:12:36] Energy consumed for all CPUs : 0.010124 kWh. Total CPU Power : 7.5 W\n",
      "[codecarbon INFO @ 00:12:36] 0.017947 kWh of electricity used since the beginning.\n"
     ]
    },
    {
     "name": "stdout",
     "output_type": "stream",
     "text": [
      "1039/1202 [========================>.....] - ETA: 10s - loss: 3.4264 - accuracy: 0.2865"
     ]
    },
    {
     "name": "stderr",
     "output_type": "stream",
     "text": [
      "[codecarbon INFO @ 00:12:51] Energy consumed for RAM : 0.007847 kWh. RAM Power : 5.796770095825195 W\n",
      "[codecarbon INFO @ 00:12:51] Energy consumed for all CPUs : 0.010155 kWh. Total CPU Power : 7.5 W\n",
      "[codecarbon INFO @ 00:12:51] 0.018002 kWh of electricity used since the beginning.\n"
     ]
    },
    {
     "name": "stdout",
     "output_type": "stream",
     "text": [
      "1202/1202 [==============================] - ETA: 0s - loss: 3.4401 - accuracy: 0.2840\n",
      "Epoch 61: accuracy improved from 0.28098 to 0.28401, saving model to model/weights-QuijoteNLP.hdf5\n",
      "1202/1202 [==============================] - 80s 67ms/step - loss: 3.4401 - accuracy: 0.2840\n",
      "Epoch 62/70\n",
      "  61/1202 [>.............................] - ETA: 1:17 - loss: 3.2739 - accuracy: 0.3111"
     ]
    },
    {
     "name": "stderr",
     "output_type": "stream",
     "text": [
      "[codecarbon INFO @ 00:13:06] Energy consumed for RAM : 0.007872 kWh. RAM Power : 5.796770095825195 W\n",
      "[codecarbon INFO @ 00:13:06] Energy consumed for all CPUs : 0.010186 kWh. Total CPU Power : 7.5 W\n",
      "[codecarbon INFO @ 00:13:06] 0.018058 kWh of electricity used since the beginning.\n"
     ]
    },
    {
     "name": "stdout",
     "output_type": "stream",
     "text": [
      " 285/1202 [======>.......................] - ETA: 1:01 - loss: 3.3524 - accuracy: 0.2973"
     ]
    },
    {
     "name": "stderr",
     "output_type": "stream",
     "text": [
      "[codecarbon INFO @ 00:13:21] Energy consumed for RAM : 0.007896 kWh. RAM Power : 5.796770095825195 W\n",
      "[codecarbon INFO @ 00:13:21] Energy consumed for all CPUs : 0.010217 kWh. Total CPU Power : 7.5 W\n",
      "[codecarbon INFO @ 00:13:21] 0.018113 kWh of electricity used since the beginning.\n"
     ]
    },
    {
     "name": "stdout",
     "output_type": "stream",
     "text": [
      " 510/1202 [===========>..................] - ETA: 46s - loss: 3.3692 - accuracy: 0.2964"
     ]
    },
    {
     "name": "stderr",
     "output_type": "stream",
     "text": [
      "[codecarbon INFO @ 00:13:36] Energy consumed for RAM : 0.007920 kWh. RAM Power : 5.796770095825195 W\n",
      "[codecarbon INFO @ 00:13:36] Energy consumed for all CPUs : 0.010249 kWh. Total CPU Power : 7.5 W\n",
      "[codecarbon INFO @ 00:13:36] 0.018169 kWh of electricity used since the beginning.\n"
     ]
    },
    {
     "name": "stdout",
     "output_type": "stream",
     "text": [
      " 736/1202 [=================>............] - ETA: 31s - loss: 3.3870 - accuracy: 0.2935"
     ]
    },
    {
     "name": "stderr",
     "output_type": "stream",
     "text": [
      "[codecarbon INFO @ 00:13:51] Energy consumed for RAM : 0.007944 kWh. RAM Power : 5.796770095825195 W\n",
      "[codecarbon INFO @ 00:13:51] Energy consumed for all CPUs : 0.010280 kWh. Total CPU Power : 7.5 W\n",
      "[codecarbon INFO @ 00:13:51] 0.018224 kWh of electricity used since the beginning.\n"
     ]
    },
    {
     "name": "stdout",
     "output_type": "stream",
     "text": [
      " 961/1202 [======================>.......] - ETA: 16s - loss: 3.4001 - accuracy: 0.2908"
     ]
    },
    {
     "name": "stderr",
     "output_type": "stream",
     "text": [
      "[codecarbon INFO @ 00:14:06] Energy consumed for RAM : 0.007968 kWh. RAM Power : 5.796770095825195 W\n",
      "[codecarbon INFO @ 00:14:06] Energy consumed for all CPUs : 0.010311 kWh. Total CPU Power : 7.5 W\n",
      "[codecarbon INFO @ 00:14:06] 0.018279 kWh of electricity used since the beginning.\n"
     ]
    },
    {
     "name": "stdout",
     "output_type": "stream",
     "text": [
      "1185/1202 [============================>.] - ETA: 1s - loss: 3.4197 - accuracy: 0.2879"
     ]
    },
    {
     "name": "stderr",
     "output_type": "stream",
     "text": [
      "[codecarbon INFO @ 00:14:21] Energy consumed for RAM : 0.007992 kWh. RAM Power : 5.796770095825195 W\n",
      "[codecarbon INFO @ 00:14:21] Energy consumed for all CPUs : 0.010342 kWh. Total CPU Power : 7.5 W\n",
      "[codecarbon INFO @ 00:14:21] 0.018335 kWh of electricity used since the beginning.\n"
     ]
    },
    {
     "name": "stdout",
     "output_type": "stream",
     "text": [
      "1202/1202 [==============================] - ETA: 0s - loss: 3.4223 - accuracy: 0.2875\n",
      "Epoch 62: accuracy improved from 0.28401 to 0.28755, saving model to model/weights-QuijoteNLP.hdf5\n",
      "1202/1202 [==============================] - 80s 67ms/step - loss: 3.4223 - accuracy: 0.2875\n",
      "Epoch 63/70\n",
      " 206/1202 [====>.........................] - ETA: 1:06 - loss: 3.2996 - accuracy: 0.3077"
     ]
    },
    {
     "name": "stderr",
     "output_type": "stream",
     "text": [
      "[codecarbon INFO @ 00:14:36] Energy consumed for RAM : 0.008017 kWh. RAM Power : 5.796770095825195 W\n"
     ]
    },
    {
     "name": "stdout",
     "output_type": "stream",
     "text": [
      " 207/1202 [====>.........................] - ETA: 1:06 - loss: 3.3001 - accuracy: 0.3074"
     ]
    },
    {
     "name": "stderr",
     "output_type": "stream",
     "text": [
      "[codecarbon INFO @ 00:14:36] Energy consumed for all CPUs : 0.010374 kWh. Total CPU Power : 7.5 W\n",
      "[codecarbon INFO @ 00:14:36] 0.018390 kWh of electricity used since the beginning.\n"
     ]
    },
    {
     "name": "stdout",
     "output_type": "stream",
     "text": [
      " 431/1202 [=========>....................] - ETA: 51s - loss: 3.3376 - accuracy: 0.2994"
     ]
    },
    {
     "name": "stderr",
     "output_type": "stream",
     "text": [
      "[codecarbon INFO @ 00:14:51] Energy consumed for RAM : 0.008041 kWh. RAM Power : 5.796770095825195 W\n",
      "[codecarbon INFO @ 00:14:51] Energy consumed for all CPUs : 0.010405 kWh. Total CPU Power : 7.5 W\n",
      "[codecarbon INFO @ 00:14:51] 0.018446 kWh of electricity used since the beginning.\n"
     ]
    },
    {
     "name": "stdout",
     "output_type": "stream",
     "text": [
      " 656/1202 [===============>..............] - ETA: 36s - loss: 3.3603 - accuracy: 0.2966"
     ]
    },
    {
     "name": "stderr",
     "output_type": "stream",
     "text": [
      "[codecarbon INFO @ 00:15:06] Energy consumed for RAM : 0.008065 kWh. RAM Power : 5.796770095825195 W\n",
      "[codecarbon INFO @ 00:15:06] Energy consumed for all CPUs : 0.010436 kWh. Total CPU Power : 7.5 W\n",
      "[codecarbon INFO @ 00:15:06] 0.018501 kWh of electricity used since the beginning.\n"
     ]
    },
    {
     "name": "stdout",
     "output_type": "stream",
     "text": [
      " 880/1202 [====================>.........] - ETA: 21s - loss: 3.3832 - accuracy: 0.2928"
     ]
    },
    {
     "name": "stderr",
     "output_type": "stream",
     "text": [
      "[codecarbon INFO @ 00:15:21] Energy consumed for RAM : 0.008089 kWh. RAM Power : 5.796770095825195 W\n",
      "[codecarbon INFO @ 00:15:21] Energy consumed for all CPUs : 0.010467 kWh. Total CPU Power : 7.5 W\n",
      "[codecarbon INFO @ 00:15:21] 0.018556 kWh of electricity used since the beginning.\n"
     ]
    },
    {
     "name": "stdout",
     "output_type": "stream",
     "text": [
      "1105/1202 [==========================>...] - ETA: 6s - loss: 3.3984 - accuracy: 0.2905"
     ]
    },
    {
     "name": "stderr",
     "output_type": "stream",
     "text": [
      "[codecarbon INFO @ 00:15:36] Energy consumed for RAM : 0.008113 kWh. RAM Power : 5.796770095825195 W\n",
      "[codecarbon INFO @ 00:15:36] Energy consumed for all CPUs : 0.010499 kWh. Total CPU Power : 7.5 W\n",
      "[codecarbon INFO @ 00:15:36] 0.018612 kWh of electricity used since the beginning.\n"
     ]
    },
    {
     "name": "stdout",
     "output_type": "stream",
     "text": [
      "1202/1202 [==============================] - ETA: 0s - loss: 3.4051 - accuracy: 0.2895\n",
      "Epoch 63: accuracy improved from 0.28755 to 0.28954, saving model to model/weights-QuijoteNLP.hdf5\n",
      "1202/1202 [==============================] - 80s 67ms/step - loss: 3.4051 - accuracy: 0.2895\n",
      "Epoch 64/70\n",
      " 126/1202 [==>...........................] - ETA: 1:12 - loss: 3.2336 - accuracy: 0.3184"
     ]
    },
    {
     "name": "stderr",
     "output_type": "stream",
     "text": [
      "[codecarbon INFO @ 00:15:51] Energy consumed for RAM : 0.008137 kWh. RAM Power : 5.796770095825195 W\n",
      "[codecarbon INFO @ 00:15:51] Energy consumed for all CPUs : 0.010530 kWh. Total CPU Power : 7.5 W\n",
      "[codecarbon INFO @ 00:15:51] 0.018667 kWh of electricity used since the beginning.\n"
     ]
    },
    {
     "name": "stdout",
     "output_type": "stream",
     "text": [
      " 350/1202 [=======>......................] - ETA: 57s - loss: 3.2889 - accuracy: 0.3080"
     ]
    },
    {
     "name": "stderr",
     "output_type": "stream",
     "text": [
      "[codecarbon INFO @ 00:16:06] Energy consumed for RAM : 0.008161 kWh. RAM Power : 5.796770095825195 W\n",
      "[codecarbon INFO @ 00:16:06] Energy consumed for all CPUs : 0.010561 kWh. Total CPU Power : 7.5 W\n",
      "[codecarbon INFO @ 00:16:06] 0.018723 kWh of electricity used since the beginning.\n"
     ]
    },
    {
     "name": "stdout",
     "output_type": "stream",
     "text": [
      " 576/1202 [=============>................] - ETA: 41s - loss: 3.3278 - accuracy: 0.3017"
     ]
    },
    {
     "name": "stderr",
     "output_type": "stream",
     "text": [
      "[codecarbon INFO @ 00:16:21] Energy consumed for RAM : 0.008186 kWh. RAM Power : 5.796770095825195 W\n",
      "[codecarbon INFO @ 00:16:21] Energy consumed for all CPUs : 0.010592 kWh. Total CPU Power : 7.5 W\n",
      "[codecarbon INFO @ 00:16:21] 0.018778 kWh of electricity used since the beginning.\n"
     ]
    },
    {
     "name": "stdout",
     "output_type": "stream",
     "text": [
      " 800/1202 [==================>...........] - ETA: 26s - loss: 3.3476 - accuracy: 0.2986"
     ]
    },
    {
     "name": "stderr",
     "output_type": "stream",
     "text": [
      "[codecarbon INFO @ 00:16:36] Energy consumed for RAM : 0.008210 kWh. RAM Power : 5.796770095825195 W\n",
      "[codecarbon INFO @ 00:16:36] Energy consumed for all CPUs : 0.010624 kWh. Total CPU Power : 7.5 W\n",
      "[codecarbon INFO @ 00:16:36] 0.018833 kWh of electricity used since the beginning.\n"
     ]
    },
    {
     "name": "stdout",
     "output_type": "stream",
     "text": [
      "1024/1202 [========================>.....] - ETA: 11s - loss: 3.3690 - accuracy: 0.2950"
     ]
    },
    {
     "name": "stderr",
     "output_type": "stream",
     "text": [
      "[codecarbon INFO @ 00:16:51] Energy consumed for RAM : 0.008234 kWh. RAM Power : 5.796770095825195 W\n",
      "[codecarbon INFO @ 00:16:51] Energy consumed for all CPUs : 0.010655 kWh. Total CPU Power : 7.5 W\n",
      "[codecarbon INFO @ 00:16:51] 0.018889 kWh of electricity used since the beginning.\n"
     ]
    },
    {
     "name": "stdout",
     "output_type": "stream",
     "text": [
      "1202/1202 [==============================] - ETA: 0s - loss: 3.3857 - accuracy: 0.2929\n",
      "Epoch 64: accuracy improved from 0.28954 to 0.29294, saving model to model/weights-QuijoteNLP.hdf5\n",
      "1202/1202 [==============================] - 80s 67ms/step - loss: 3.3857 - accuracy: 0.2929\n",
      "Epoch 65/70\n",
      "  46/1202 [>.............................] - ETA: 1:18 - loss: 3.2594 - accuracy: 0.3106"
     ]
    },
    {
     "name": "stderr",
     "output_type": "stream",
     "text": [
      "[codecarbon INFO @ 00:17:06] Energy consumed for RAM : 0.008258 kWh. RAM Power : 5.796770095825195 W\n",
      "[codecarbon INFO @ 00:17:06] Energy consumed for all CPUs : 0.010686 kWh. Total CPU Power : 7.5 W\n",
      "[codecarbon INFO @ 00:17:06] 0.018944 kWh of electricity used since the beginning.\n"
     ]
    },
    {
     "name": "stdout",
     "output_type": "stream",
     "text": [
      " 271/1202 [=====>........................] - ETA: 1:02 - loss: 3.2545 - accuracy: 0.3111"
     ]
    },
    {
     "name": "stderr",
     "output_type": "stream",
     "text": [
      "[codecarbon INFO @ 00:17:21] Energy consumed for RAM : 0.008282 kWh. RAM Power : 5.796770095825195 W\n",
      "[codecarbon INFO @ 00:17:21] Energy consumed for all CPUs : 0.010717 kWh. Total CPU Power : 7.5 W\n",
      "[codecarbon INFO @ 00:17:21] 0.018999 kWh of electricity used since the beginning.\n"
     ]
    },
    {
     "name": "stdout",
     "output_type": "stream",
     "text": [
      " 495/1202 [===========>..................] - ETA: 47s - loss: 3.2945 - accuracy: 0.3063"
     ]
    },
    {
     "name": "stderr",
     "output_type": "stream",
     "text": [
      "[codecarbon INFO @ 00:17:36] Energy consumed for RAM : 0.008306 kWh. RAM Power : 5.796770095825195 W\n",
      "[codecarbon INFO @ 00:17:36] Energy consumed for all CPUs : 0.010749 kWh. Total CPU Power : 7.5 W\n",
      "[codecarbon INFO @ 00:17:36] 0.019055 kWh of electricity used since the beginning.\n"
     ]
    },
    {
     "name": "stdout",
     "output_type": "stream",
     "text": [
      " 720/1202 [================>.............] - ETA: 32s - loss: 3.3206 - accuracy: 0.3022"
     ]
    },
    {
     "name": "stderr",
     "output_type": "stream",
     "text": [
      "[codecarbon INFO @ 00:17:51] Energy consumed for RAM : 0.008330 kWh. RAM Power : 5.796770095825195 W\n",
      "[codecarbon INFO @ 00:17:51] Energy consumed for all CPUs : 0.010780 kWh. Total CPU Power : 7.5 W\n",
      "[codecarbon INFO @ 00:17:51] 0.019110 kWh of electricity used since the beginning.\n"
     ]
    },
    {
     "name": "stdout",
     "output_type": "stream",
     "text": [
      " 944/1202 [======================>.......] - ETA: 17s - loss: 3.3488 - accuracy: 0.2978"
     ]
    },
    {
     "name": "stderr",
     "output_type": "stream",
     "text": [
      "[codecarbon INFO @ 00:18:06] Energy consumed for RAM : 0.008355 kWh. RAM Power : 5.796770095825195 W\n",
      "[codecarbon INFO @ 00:18:06] Energy consumed for all CPUs : 0.010811 kWh. Total CPU Power : 7.5 W\n",
      "[codecarbon INFO @ 00:18:06] 0.019166 kWh of electricity used since the beginning.\n"
     ]
    },
    {
     "name": "stdout",
     "output_type": "stream",
     "text": [
      "1168/1202 [============================>.] - ETA: 2s - loss: 3.3643 - accuracy: 0.2948"
     ]
    },
    {
     "name": "stderr",
     "output_type": "stream",
     "text": [
      "[codecarbon INFO @ 00:18:21] Energy consumed for RAM : 0.008379 kWh. RAM Power : 5.796770095825195 W\n",
      "[codecarbon INFO @ 00:18:21] Energy consumed for all CPUs : 0.010842 kWh. Total CPU Power : 7.5 W\n",
      "[codecarbon INFO @ 00:18:21] 0.019221 kWh of electricity used since the beginning.\n"
     ]
    },
    {
     "name": "stdout",
     "output_type": "stream",
     "text": [
      "1202/1202 [==============================] - ETA: 0s - loss: 3.3669 - accuracy: 0.2944\n",
      "Epoch 65: accuracy improved from 0.29294 to 0.29439, saving model to model/weights-QuijoteNLP.hdf5\n",
      "1202/1202 [==============================] - 81s 67ms/step - loss: 3.3669 - accuracy: 0.2944\n",
      "Epoch 66/70\n",
      " 189/1202 [===>..........................] - ETA: 1:07 - loss: 3.2687 - accuracy: 0.3085"
     ]
    },
    {
     "name": "stderr",
     "output_type": "stream",
     "text": [
      "[codecarbon INFO @ 00:18:36] Energy consumed for RAM : 0.008403 kWh. RAM Power : 5.796770095825195 W\n",
      "[codecarbon INFO @ 00:18:36] Energy consumed for all CPUs : 0.010874 kWh. Total CPU Power : 7.5 W\n",
      "[codecarbon INFO @ 00:18:36] 0.019276 kWh of electricity used since the beginning.\n"
     ]
    },
    {
     "name": "stdout",
     "output_type": "stream",
     "text": [
      " 412/1202 [=========>....................] - ETA: 52s - loss: 3.2891 - accuracy: 0.3056"
     ]
    },
    {
     "name": "stderr",
     "output_type": "stream",
     "text": [
      "[codecarbon INFO @ 00:18:51] Energy consumed for RAM : 0.008427 kWh. RAM Power : 5.796770095825195 W\n",
      "[codecarbon INFO @ 00:18:51] Energy consumed for all CPUs : 0.010905 kWh. Total CPU Power : 7.5 W\n",
      "[codecarbon INFO @ 00:18:51] 0.019332 kWh of electricity used since the beginning.\n"
     ]
    },
    {
     "name": "stdout",
     "output_type": "stream",
     "text": [
      " 636/1202 [==============>...............] - ETA: 37s - loss: 3.3112 - accuracy: 0.3024"
     ]
    },
    {
     "name": "stderr",
     "output_type": "stream",
     "text": [
      "[codecarbon INFO @ 00:19:06] Energy consumed for RAM : 0.008451 kWh. RAM Power : 5.796770095825195 W\n",
      "[codecarbon INFO @ 00:19:06] Energy consumed for all CPUs : 0.010936 kWh. Total CPU Power : 7.5 W\n",
      "[codecarbon INFO @ 00:19:06] 0.019387 kWh of electricity used since the beginning.\n"
     ]
    },
    {
     "name": "stdout",
     "output_type": "stream",
     "text": [
      " 861/1202 [====================>.........] - ETA: 22s - loss: 3.3282 - accuracy: 0.3003"
     ]
    },
    {
     "name": "stderr",
     "output_type": "stream",
     "text": [
      "[codecarbon INFO @ 00:19:21] Energy consumed for RAM : 0.008475 kWh. RAM Power : 5.796770095825195 W\n",
      "[codecarbon INFO @ 00:19:21] Energy consumed for all CPUs : 0.010967 kWh. Total CPU Power : 7.5 W\n",
      "[codecarbon INFO @ 00:19:21] 0.019443 kWh of electricity used since the beginning.\n"
     ]
    },
    {
     "name": "stdout",
     "output_type": "stream",
     "text": [
      "1085/1202 [==========================>...] - ETA: 7s - loss: 3.3462 - accuracy: 0.2977"
     ]
    },
    {
     "name": "stderr",
     "output_type": "stream",
     "text": [
      "[codecarbon INFO @ 00:19:36] Energy consumed for RAM : 0.008499 kWh. RAM Power : 5.796770095825195 W\n",
      "[codecarbon INFO @ 00:19:36] Energy consumed for all CPUs : 0.010999 kWh. Total CPU Power : 7.5 W\n",
      "[codecarbon INFO @ 00:19:36] 0.019498 kWh of electricity used since the beginning.\n"
     ]
    },
    {
     "name": "stdout",
     "output_type": "stream",
     "text": [
      "1202/1202 [==============================] - ETA: 0s - loss: 3.3518 - accuracy: 0.2971\n",
      "Epoch 66: accuracy improved from 0.29439 to 0.29707, saving model to model/weights-QuijoteNLP.hdf5\n",
      "1202/1202 [==============================] - 81s 67ms/step - loss: 3.3518 - accuracy: 0.2971\n",
      "Epoch 67/70\n",
      " 106/1202 [=>............................] - ETA: 1:12 - loss: 3.2337 - accuracy: 0.3175"
     ]
    },
    {
     "name": "stderr",
     "output_type": "stream",
     "text": [
      "[codecarbon INFO @ 00:19:51] Energy consumed for RAM : 0.008524 kWh. RAM Power : 5.796770095825195 W\n",
      "[codecarbon INFO @ 00:19:51] Energy consumed for all CPUs : 0.011030 kWh. Total CPU Power : 7.5 W\n",
      "[codecarbon INFO @ 00:19:51] 0.019553 kWh of electricity used since the beginning.\n"
     ]
    },
    {
     "name": "stdout",
     "output_type": "stream",
     "text": [
      " 331/1202 [=======>......................] - ETA: 58s - loss: 3.2686 - accuracy: 0.3121"
     ]
    },
    {
     "name": "stderr",
     "output_type": "stream",
     "text": [
      "[codecarbon INFO @ 00:20:06] Energy consumed for RAM : 0.008548 kWh. RAM Power : 5.796770095825195 W\n",
      "[codecarbon INFO @ 00:20:06] Energy consumed for all CPUs : 0.011061 kWh. Total CPU Power : 7.5 W\n",
      "[codecarbon INFO @ 00:20:06] 0.019609 kWh of electricity used since the beginning.\n"
     ]
    },
    {
     "name": "stdout",
     "output_type": "stream",
     "text": [
      " 555/1202 [============>.................] - ETA: 43s - loss: 3.2812 - accuracy: 0.3083"
     ]
    },
    {
     "name": "stderr",
     "output_type": "stream",
     "text": [
      "[codecarbon INFO @ 00:20:21] Energy consumed for RAM : 0.008572 kWh. RAM Power : 5.796770095825195 W\n",
      "[codecarbon INFO @ 00:20:21] Energy consumed for all CPUs : 0.011092 kWh. Total CPU Power : 7.5 W\n",
      "[codecarbon INFO @ 00:20:21] 0.019664 kWh of electricity used since the beginning.\n"
     ]
    },
    {
     "name": "stdout",
     "output_type": "stream",
     "text": [
      " 779/1202 [==================>...........] - ETA: 28s - loss: 3.3020 - accuracy: 0.3063"
     ]
    },
    {
     "name": "stderr",
     "output_type": "stream",
     "text": [
      "[codecarbon INFO @ 00:20:36] Energy consumed for RAM : 0.008596 kWh. RAM Power : 5.796770095825195 W\n",
      "[codecarbon INFO @ 00:20:36] Energy consumed for all CPUs : 0.011124 kWh. Total CPU Power : 7.5 W\n",
      "[codecarbon INFO @ 00:20:36] 0.019720 kWh of electricity used since the beginning.\n"
     ]
    },
    {
     "name": "stdout",
     "output_type": "stream",
     "text": [
      "1003/1202 [========================>.....] - ETA: 13s - loss: 3.3154 - accuracy: 0.3029"
     ]
    },
    {
     "name": "stderr",
     "output_type": "stream",
     "text": [
      "[codecarbon INFO @ 00:20:51] Energy consumed for RAM : 0.008620 kWh. RAM Power : 5.796770095825195 W\n",
      "[codecarbon INFO @ 00:20:51] Energy consumed for all CPUs : 0.011155 kWh. Total CPU Power : 7.5 W\n",
      "[codecarbon INFO @ 00:20:51] 0.019775 kWh of electricity used since the beginning.\n"
     ]
    },
    {
     "name": "stdout",
     "output_type": "stream",
     "text": [
      "1202/1202 [==============================] - ETA: 0s - loss: 3.3315 - accuracy: 0.3012\n",
      "Epoch 67: accuracy improved from 0.29707 to 0.30119, saving model to model/weights-QuijoteNLP.hdf5\n",
      "1202/1202 [==============================] - 80s 67ms/step - loss: 3.3315 - accuracy: 0.3012\n",
      "Epoch 68/70\n",
      "  25/1202 [..............................] - ETA: 1:16 - loss: 3.1941 - accuracy: 0.3375"
     ]
    },
    {
     "name": "stderr",
     "output_type": "stream",
     "text": [
      "[codecarbon INFO @ 00:21:06] Energy consumed for RAM : 0.008644 kWh. RAM Power : 5.796770095825195 W\n",
      "[codecarbon INFO @ 00:21:06] Energy consumed for all CPUs : 0.011186 kWh. Total CPU Power : 7.5 W\n",
      "[codecarbon INFO @ 00:21:06] 0.019830 kWh of electricity used since the beginning.\n"
     ]
    },
    {
     "name": "stdout",
     "output_type": "stream",
     "text": [
      " 249/1202 [=====>........................] - ETA: 1:03 - loss: 3.2310 - accuracy: 0.3187"
     ]
    },
    {
     "name": "stderr",
     "output_type": "stream",
     "text": [
      "[codecarbon INFO @ 00:21:21] Energy consumed for RAM : 0.008668 kWh. RAM Power : 5.796770095825195 W\n",
      "[codecarbon INFO @ 00:21:21] Energy consumed for all CPUs : 0.011217 kWh. Total CPU Power : 7.5 W\n",
      "[codecarbon INFO @ 00:21:21] 0.019886 kWh of electricity used since the beginning.\n"
     ]
    },
    {
     "name": "stdout",
     "output_type": "stream",
     "text": [
      " 474/1202 [==========>...................] - ETA: 48s - loss: 3.2599 - accuracy: 0.3130"
     ]
    },
    {
     "name": "stderr",
     "output_type": "stream",
     "text": [
      "[codecarbon INFO @ 00:21:36] Energy consumed for RAM : 0.008693 kWh. RAM Power : 5.796770095825195 W\n",
      "[codecarbon INFO @ 00:21:36] Energy consumed for all CPUs : 0.011249 kWh. Total CPU Power : 7.5 W\n",
      "[codecarbon INFO @ 00:21:36] 0.019941 kWh of electricity used since the beginning.\n"
     ]
    },
    {
     "name": "stdout",
     "output_type": "stream",
     "text": [
      " 699/1202 [================>.............] - ETA: 33s - loss: 3.2775 - accuracy: 0.3100"
     ]
    },
    {
     "name": "stderr",
     "output_type": "stream",
     "text": [
      "[codecarbon INFO @ 00:21:51] Energy consumed for RAM : 0.008717 kWh. RAM Power : 5.796770095825195 W\n",
      "[codecarbon INFO @ 00:21:51] Energy consumed for all CPUs : 0.011280 kWh. Total CPU Power : 7.5 W\n",
      "[codecarbon INFO @ 00:21:51] 0.019997 kWh of electricity used since the beginning.\n"
     ]
    },
    {
     "name": "stdout",
     "output_type": "stream",
     "text": [
      " 924/1202 [======================>.......] - ETA: 18s - loss: 3.2940 - accuracy: 0.3070"
     ]
    },
    {
     "name": "stderr",
     "output_type": "stream",
     "text": [
      "[codecarbon INFO @ 00:22:06] Energy consumed for RAM : 0.008741 kWh. RAM Power : 5.796770095825195 W\n",
      "[codecarbon INFO @ 00:22:06] Energy consumed for all CPUs : 0.011311 kWh. Total CPU Power : 7.5 W\n",
      "[codecarbon INFO @ 00:22:06] 0.020052 kWh of electricity used since the beginning.\n"
     ]
    },
    {
     "name": "stdout",
     "output_type": "stream",
     "text": [
      "1149/1202 [===========================>..] - ETA: 3s - loss: 3.3116 - accuracy: 0.3035"
     ]
    },
    {
     "name": "stderr",
     "output_type": "stream",
     "text": [
      "[codecarbon INFO @ 00:22:21] Energy consumed for RAM : 0.008765 kWh. RAM Power : 5.796770095825195 W\n",
      "[codecarbon INFO @ 00:22:21] Energy consumed for all CPUs : 0.011342 kWh. Total CPU Power : 7.5 W\n",
      "[codecarbon INFO @ 00:22:21] 0.020107 kWh of electricity used since the beginning.\n"
     ]
    },
    {
     "name": "stdout",
     "output_type": "stream",
     "text": [
      "1202/1202 [==============================] - ETA: 0s - loss: 3.3151 - accuracy: 0.3029\n",
      "Epoch 68: accuracy improved from 0.30119 to 0.30292, saving model to model/weights-QuijoteNLP.hdf5\n",
      "1202/1202 [==============================] - 80s 67ms/step - loss: 3.3151 - accuracy: 0.3029\n",
      "Epoch 69/70\n",
      " 170/1202 [===>..........................] - ETA: 1:08 - loss: 3.1885 - accuracy: 0.3247"
     ]
    },
    {
     "name": "stderr",
     "output_type": "stream",
     "text": [
      "[codecarbon INFO @ 00:22:36] Energy consumed for RAM : 0.008789 kWh. RAM Power : 5.796770095825195 W\n",
      "[codecarbon INFO @ 00:22:36] Energy consumed for all CPUs : 0.011374 kWh. Total CPU Power : 7.5 W\n",
      "[codecarbon INFO @ 00:22:36] 0.020163 kWh of electricity used since the beginning.\n"
     ]
    },
    {
     "name": "stdout",
     "output_type": "stream",
     "text": [
      " 394/1202 [========>.....................] - ETA: 53s - loss: 3.2148 - accuracy: 0.3185"
     ]
    },
    {
     "name": "stderr",
     "output_type": "stream",
     "text": [
      "[codecarbon INFO @ 00:22:51] Energy consumed for RAM : 0.008813 kWh. RAM Power : 5.796770095825195 W\n",
      "[codecarbon INFO @ 00:22:51] Energy consumed for all CPUs : 0.011405 kWh. Total CPU Power : 7.5 W\n",
      "[codecarbon INFO @ 00:22:51] 0.020218 kWh of electricity used since the beginning.\n"
     ]
    },
    {
     "name": "stdout",
     "output_type": "stream",
     "text": [
      " 619/1202 [==============>...............] - ETA: 38s - loss: 3.2454 - accuracy: 0.3143"
     ]
    },
    {
     "name": "stderr",
     "output_type": "stream",
     "text": [
      "[codecarbon INFO @ 00:23:06] Energy consumed for RAM : 0.008837 kWh. RAM Power : 5.796770095825195 W\n",
      "[codecarbon INFO @ 00:23:06] Energy consumed for all CPUs : 0.011436 kWh. Total CPU Power : 7.5 W\n",
      "[codecarbon INFO @ 00:23:06] 0.020274 kWh of electricity used since the beginning.\n"
     ]
    },
    {
     "name": "stdout",
     "output_type": "stream",
     "text": [
      " 843/1202 [====================>.........] - ETA: 23s - loss: 3.2685 - accuracy: 0.3113"
     ]
    },
    {
     "name": "stderr",
     "output_type": "stream",
     "text": [
      "[codecarbon INFO @ 00:23:21] Energy consumed for RAM : 0.008862 kWh. RAM Power : 5.796770095825195 W\n",
      "[codecarbon INFO @ 00:23:21] Energy consumed for all CPUs : 0.011467 kWh. Total CPU Power : 7.5 W\n",
      "[codecarbon INFO @ 00:23:21] 0.020329 kWh of electricity used since the beginning.\n"
     ]
    },
    {
     "name": "stdout",
     "output_type": "stream",
     "text": [
      "1066/1202 [=========================>....] - ETA: 9s - loss: 3.2860 - accuracy: 0.3085"
     ]
    },
    {
     "name": "stderr",
     "output_type": "stream",
     "text": [
      "[codecarbon INFO @ 00:23:36] Energy consumed for RAM : 0.008886 kWh. RAM Power : 5.796770095825195 W\n",
      "[codecarbon INFO @ 00:23:36] Energy consumed for all CPUs : 0.011499 kWh. Total CPU Power : 7.5 W\n",
      "[codecarbon INFO @ 00:23:36] 0.020384 kWh of electricity used since the beginning.\n"
     ]
    },
    {
     "name": "stdout",
     "output_type": "stream",
     "text": [
      "1202/1202 [==============================] - ETA: 0s - loss: 3.2959 - accuracy: 0.3066\n",
      "Epoch 69: accuracy improved from 0.30292 to 0.30656, saving model to model/weights-QuijoteNLP.hdf5\n",
      "1202/1202 [==============================] - 80s 67ms/step - loss: 3.2959 - accuracy: 0.3066\n",
      "Epoch 70/70\n",
      "  88/1202 [=>............................] - ETA: 1:13 - loss: 3.1625 - accuracy: 0.3267"
     ]
    },
    {
     "name": "stderr",
     "output_type": "stream",
     "text": [
      "[codecarbon INFO @ 00:23:51] Energy consumed for RAM : 0.008910 kWh. RAM Power : 5.796770095825195 W\n",
      "[codecarbon INFO @ 00:23:51] Energy consumed for all CPUs : 0.011530 kWh. Total CPU Power : 7.5 W\n",
      "[codecarbon INFO @ 00:23:51] 0.020440 kWh of electricity used since the beginning.\n"
     ]
    },
    {
     "name": "stdout",
     "output_type": "stream",
     "text": [
      " 311/1202 [======>.......................] - ETA: 59s - loss: 3.1980 - accuracy: 0.3225"
     ]
    },
    {
     "name": "stderr",
     "output_type": "stream",
     "text": [
      "[codecarbon INFO @ 00:24:06] Energy consumed for RAM : 0.008934 kWh. RAM Power : 5.796770095825195 W\n",
      "[codecarbon INFO @ 00:24:06] Energy consumed for all CPUs : 0.011561 kWh. Total CPU Power : 7.5 W\n",
      "[codecarbon INFO @ 00:24:06] 0.020495 kWh of electricity used since the beginning.\n"
     ]
    },
    {
     "name": "stdout",
     "output_type": "stream",
     "text": [
      " 535/1202 [============>.................] - ETA: 44s - loss: 3.2188 - accuracy: 0.3177"
     ]
    },
    {
     "name": "stderr",
     "output_type": "stream",
     "text": [
      "[codecarbon INFO @ 00:24:21] Energy consumed for RAM : 0.008958 kWh. RAM Power : 5.796770095825195 W\n",
      "[codecarbon INFO @ 00:24:21] Energy consumed for all CPUs : 0.011592 kWh. Total CPU Power : 7.5 W\n",
      "[codecarbon INFO @ 00:24:21] 0.020551 kWh of electricity used since the beginning.\n"
     ]
    },
    {
     "name": "stdout",
     "output_type": "stream",
     "text": [
      " 759/1202 [=================>............] - ETA: 29s - loss: 3.2410 - accuracy: 0.3145"
     ]
    },
    {
     "name": "stderr",
     "output_type": "stream",
     "text": [
      "[codecarbon INFO @ 00:24:36] Energy consumed for RAM : 0.008982 kWh. RAM Power : 5.796770095825195 W\n",
      "[codecarbon INFO @ 00:24:36] Energy consumed for all CPUs : 0.011624 kWh. Total CPU Power : 7.5 W\n",
      "[codecarbon INFO @ 00:24:36] 0.020606 kWh of electricity used since the beginning.\n"
     ]
    },
    {
     "name": "stdout",
     "output_type": "stream",
     "text": [
      " 984/1202 [=======================>......] - ETA: 14s - loss: 3.2630 - accuracy: 0.3112"
     ]
    },
    {
     "name": "stderr",
     "output_type": "stream",
     "text": [
      "[codecarbon INFO @ 00:24:51] Energy consumed for RAM : 0.009007 kWh. RAM Power : 5.796770095825195 W\n",
      "[codecarbon INFO @ 00:24:51] Energy consumed for all CPUs : 0.011655 kWh. Total CPU Power : 7.5 W\n",
      "[codecarbon INFO @ 00:24:51] 0.020661 kWh of electricity used since the beginning.\n"
     ]
    },
    {
     "name": "stdout",
     "output_type": "stream",
     "text": [
      "1202/1202 [==============================] - ETA: 0s - loss: 3.2801 - accuracy: 0.3092\n",
      "Epoch 70: accuracy improved from 0.30656 to 0.30925, saving model to model/weights-QuijoteNLP.hdf5\n",
      "1202/1202 [==============================] - 80s 67ms/step - loss: 3.2801 - accuracy: 0.3092\n"
     ]
    },
    {
     "name": "stderr",
     "output_type": "stream",
     "text": [
      "[codecarbon INFO @ 00:25:06] Energy consumed for RAM : 0.009030 kWh. RAM Power : 5.796770095825195 W\n",
      "[codecarbon INFO @ 00:25:06] Energy consumed for all CPUs : 0.011685 kWh. Total CPU Power : 7.5 W\n",
      "[codecarbon INFO @ 00:25:06] 0.020715 kWh of electricity used since the beginning.\n"
     ]
    }
   ],
   "source": [
    "with EmissionsTracker() as tracker:\n",
    "    history = model.fit(xs, ys, epochs=70, batch_size=128, verbose=1,callbacks=callbacks_list)"
   ]
  },
  {
   "cell_type": "code",
   "execution_count": null,
   "metadata": {},
   "outputs": [
    {
     "name": "stdout",
     "output_type": "stream",
     "text": [
      "Dash is running on http://127.0.0.1:3333/\n",
      "\n",
      " * Serving Flask app 'codecarbon.viz.carbonboard'\n",
      " * Debug mode: off\n",
      "\u001b[31m\u001b[1mWARNING: This is a development server. Do not use it in a production deployment. Use a production WSGI server instead.\u001b[0m\n",
      " * Running on http://127.0.0.1:3333\n",
      "\u001b[33mPress CTRL+C to quit\u001b[0m\n",
      "127.0.0.1 - - [16/Jan/2024 06:15:40] \"GET / HTTP/1.1\" 200 -\n",
      "127.0.0.1 - - [16/Jan/2024 06:15:41] \"GET /_dash-layout HTTP/1.1\" 200 -\n",
      "127.0.0.1 - - [16/Jan/2024 06:15:41] \"GET /_dash-dependencies HTTP/1.1\" 200 -\n",
      "127.0.0.1 - - [16/Jan/2024 06:15:41] \"GET /_favicon.ico?v=2.12.1 HTTP/1.1\" 200 -\n",
      "127.0.0.1 - - [16/Jan/2024 06:15:41] \"\u001b[36mGET /_dash-component-suites/dash/dcc/async-graph.js HTTP/1.1\u001b[0m\" 304 -\n",
      "127.0.0.1 - - [16/Jan/2024 06:15:41] \"\u001b[36mGET /_dash-component-suites/dash/dcc/async-dropdown.js HTTP/1.1\u001b[0m\" 304 -\n",
      "127.0.0.1 - - [16/Jan/2024 06:15:41] \"\u001b[36mGET /_dash-component-suites/dash/dcc/async-plotlyjs.js HTTP/1.1\u001b[0m\" 304 -\n",
      "127.0.0.1 - - [16/Jan/2024 06:15:41] \"POST /_dash-update-component HTTP/1.1\" 200 -\n",
      "127.0.0.1 - - [16/Jan/2024 06:15:41] \"\u001b[36mGET /_dash-component-suites/dash/dash_table/async-highlight.js HTTP/1.1\u001b[0m\" 304 -\n",
      "127.0.0.1 - - [16/Jan/2024 06:15:41] \"\u001b[36mGET /_dash-component-suites/dash/dash_table/async-table.js HTTP/1.1\u001b[0m\" 304 -\n",
      "127.0.0.1 - - [16/Jan/2024 06:15:41] \"POST /_dash-update-component HTTP/1.1\" 200 -\n",
      "127.0.0.1 - - [16/Jan/2024 06:15:41] \"POST /_dash-update-component HTTP/1.1\" 200 -\n",
      "127.0.0.1 - - [16/Jan/2024 06:15:41] \"POST /_dash-update-component HTTP/1.1\" 200 -\n",
      "127.0.0.1 - - [16/Jan/2024 06:15:41] \"\u001b[36mGET /assets/house_icon.png HTTP/1.1\u001b[0m\" 304 -\n",
      "127.0.0.1 - - [16/Jan/2024 06:15:41] \"\u001b[36mGET /assets/car_icon.png HTTP/1.1\u001b[0m\" 304 -\n",
      "127.0.0.1 - - [16/Jan/2024 06:15:41] \"\u001b[36mGET /assets/tv_icon.png HTTP/1.1\u001b[0m\" 304 -\n",
      "127.0.0.1 - - [16/Jan/2024 06:15:42] \"POST /_dash-update-component HTTP/1.1\" 200 -\n",
      "127.0.0.1 - - [16/Jan/2024 06:15:42] \"POST /_dash-update-component HTTP/1.1\" 200 -\n",
      "127.0.0.1 - - [16/Jan/2024 06:15:42] \"POST /_dash-update-component HTTP/1.1\" 200 -\n",
      "127.0.0.1 - - [16/Jan/2024 06:15:42] \"POST /_dash-update-component HTTP/1.1\" 200 -\n",
      "127.0.0.1 - - [16/Jan/2024 06:15:42] \"POST /_dash-update-component HTTP/1.1\" 200 -\n"
     ]
    }
   ],
   "source": [
    "!carbonboard --filepath=\"emissions.csv\" --port=3333"
   ]
  },
  {
   "cell_type": "code",
   "execution_count": null,
   "metadata": {
    "colab": {},
    "colab_type": "code",
    "id": "9CvgUbHbPjww"
   },
   "outputs": [],
   "source": [
    "import matplotlib.pyplot as plt\n",
    "\n",
    "\n",
    "def plot_graphs(history, string):\n",
    "  plt.plot(history.history[string])\n",
    "  plt.xlabel(\"Epochs\")\n",
    "  plt.ylabel(string)\n",
    "  plt.show()"
   ]
  },
  {
   "cell_type": "code",
   "execution_count": null,
   "metadata": {
    "colab": {
     "base_uri": "https://localhost:8080/",
     "height": 279
    },
    "colab_type": "code",
    "id": "XT4XmpYMPoH4",
    "outputId": "fde69c6d-91ff-4088-bfa6-2efd00d58bd2"
   },
   "outputs": [],
   "source": [
    "plot_graphs(history, 'accuracy')\n"
   ]
  },
  {
   "cell_type": "markdown",
   "metadata": {},
   "source": [
    "## Predicción de un texto nuevo\n",
    "* Le damos unas palabras para que pueda crear unas lineas contextualizadas en el Quijote."
   ]
  },
  {
   "cell_type": "code",
   "execution_count": null,
   "metadata": {
    "colab": {
     "base_uri": "https://localhost:8080/",
     "height": 55
    },
    "colab_type": "code",
    "id": "OimcHXq0Po7Z",
    "outputId": "bf2e77b7-5838-4f77-fb0d-e3fb6353e089"
   },
   "outputs": [],
   "source": [
    "seed_text = \"leer libros de caballerías\"\n",
    "next_words = 50\n",
    "  \n",
    "for _ in range(next_words):\n",
    "\ttoken_list = tokenizer.texts_to_sequences([seed_text])[0]\n",
    "\ttoken_list = pad_sequences([token_list], maxlen=max_sequence_len-1, padding='pre')\n",
    "\tpredicted = model.predict_classes(token_list, verbose=0)\n",
    "\toutput_word = \"\"\n",
    "\tfor word, index in tokenizer.word_index.items():\n",
    "\t\tif index == predicted:\n",
    "\t\t\toutput_word = word\n",
    "\t\t\tbreak\n",
    "\tseed_text += \" \" + output_word\n",
    "print(seed_text)"
   ]
  },
  {
   "cell_type": "markdown",
   "metadata": {},
   "source": [
    "#### Se guarda la predicción en un archivo de texto"
   ]
  },
  {
   "cell_type": "code",
   "execution_count": null,
   "metadata": {
    "colab": {},
    "colab_type": "code",
    "id": "usm3bZLWMFrx"
   },
   "outputs": [],
   "source": [
    "file = open(\"prediction.txt\", \"w\") \n",
    "file.write(seed_text) \n",
    "file.close() "
   ]
  },
  {
   "cell_type": "code",
   "execution_count": null,
   "metadata": {
    "colab": {
     "base_uri": "https://localhost:8080/",
     "height": 34
    },
    "colab_type": "code",
    "id": "YYtokmLIg2Zz",
    "outputId": "fbf47681-6607-4cfd-bde7-4d26bad2b5f5"
   },
   "outputs": [],
   "source": [
    "e = model.layers[0]\n",
    "weights = e.get_weights()[0]\n",
    "print(weights.shape) # shape: (vocab_size, embedding_dim)"
   ]
  },
  {
   "cell_type": "code",
   "execution_count": null,
   "metadata": {
    "colab": {
     "base_uri": "https://localhost:8080/",
     "height": 34
    },
    "colab_type": "code",
    "id": "LtJwKrzrcq1Z",
    "outputId": "875cc1ab-58cf-43e5-fe21-8bd59266f13a"
   },
   "outputs": [],
   "source": [
    "#cantidad de palabras unicas\n",
    "len(tokenizer.word_index.keys())"
   ]
  },
  {
   "cell_type": "code",
   "execution_count": null,
   "metadata": {
    "colab": {},
    "colab_type": "code",
    "id": "u0lRlhleT01L"
   },
   "outputs": [],
   "source": [
    "#Convertimos el diccionario en una lista, obteniendo solo las palabras\n",
    "words_list = [(k) for k in tokenizer.word_index.keys()]"
   ]
  },
  {
   "cell_type": "code",
   "execution_count": null,
   "metadata": {
    "colab": {
     "base_uri": "https://localhost:8080/",
     "height": 17
    },
    "colab_type": "code",
    "id": "EBvA01deg5tJ",
    "outputId": "b96c99a0-9d3d-4881-842e-343f8955def7"
   },
   "outputs": [],
   "source": [
    "import io\n",
    "\n",
    "out_v = io.open('vecs.tsv', 'w', encoding='utf-8')\n",
    "out_m = io.open('meta.tsv', 'w', encoding='utf-8')\n",
    "\n",
    "for num, word in enumerate(words_list):\n",
    "  vec = weights[num+1] # skip 0, it's padding.\n",
    "  out_m.write(word + \"\\n\")\n",
    "  out_v.write('\\t'.join([str(x) for x in vec]) + \"\\n\")\n",
    "out_v.close()\n",
    "out_m.close()\n",
    "\n",
    "try:\n",
    "  from google.colab import files\n",
    "except ImportError:\n",
    "   pass\n",
    "else:\n",
    "  files.download('vecs.tsv')\n",
    "  files.download('meta.tsv')"
   ]
  },
  {
   "cell_type": "code",
   "execution_count": null,
   "metadata": {
    "colab": {},
    "colab_type": "code",
    "id": "Rh3LrlRlcNV_"
   },
   "outputs": [],
   "source": []
  }
 ],
 "metadata": {
  "accelerator": "GPU",
  "colab": {
   "collapsed_sections": [],
   "name": "QuijoteNLP.ipynb",
   "provenance": []
  },
  "kernelspec": {
   "display_name": "Python 3 (ipykernel)",
   "language": "python",
   "name": "python3"
  },
  "language_info": {
   "codemirror_mode": {
    "name": "ipython",
    "version": 3
   },
   "file_extension": ".py",
   "mimetype": "text/x-python",
   "name": "python",
   "nbconvert_exporter": "python",
   "pygments_lexer": "ipython3",
   "version": "3.10.9"
  }
 },
 "nbformat": 4,
 "nbformat_minor": 4
}
